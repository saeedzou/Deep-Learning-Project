{
  "cells": [
    {
      "cell_type": "markdown",
      "metadata": {
        "id": "view-in-github",
        "colab_type": "text"
      },
      "source": [
        "<a href=\"https://colab.research.google.com/github/saeedzou/Deep-Learning-Project/blob/dev-saeed/Phase%201.ipynb\" target=\"_parent\"><img src=\"https://colab.research.google.com/assets/colab-badge.svg\" alt=\"Open In Colab\"/></a>"
      ]
    },
    {
      "cell_type": "code",
      "execution_count": 1,
      "metadata": {
        "colab": {
          "base_uri": "https://localhost:8080/"
        },
        "id": "toWWvqo7igLV",
        "outputId": "cebf601e-73ad-4786-b556-81674ba90be7"
      },
      "outputs": [
        {
          "output_type": "stream",
          "name": "stdout",
          "text": [
            "Cloning into 'MSCTD'...\n",
            "remote: Enumerating objects: 1217, done.\u001b[K\n",
            "remote: Counting objects: 100% (27/27), done.\u001b[K\n",
            "remote: Compressing objects: 100% (23/23), done.\u001b[K\n",
            "remote: Total 1217 (delta 13), reused 7 (delta 3), pack-reused 1190\u001b[K\n",
            "Receiving objects: 100% (1217/1217), 102.24 MiB | 25.31 MiB/s, done.\n",
            "Resolving deltas: 100% (616/616), done.\n",
            "Checking out files: 100% (934/934), done.\n",
            "Downloading...\n",
            "From: https://drive.google.com/uc?id=1-43sQYxSCsCIxQjOCAS-H4dDI6c2zgi8\n",
            "To: /content/train_ende.zip\n",
            "100% 2.90G/2.90G [00:35<00:00, 81.0MB/s]\n",
            "Downloading...\n",
            "From: https://drive.google.com/uc?id=1k-m84NIuOOTbXjn6ELwj1qBeH7jsN6IO\n",
            "To: /content/dev.zip\n",
            "100% 638M/638M [00:02<00:00, 231MB/s]\n",
            "Downloading...\n",
            "From: https://drive.google.com/uc?id=1-0Gg-qpqJpNfLPU7DT81UaFgwu8DVn15\n",
            "To: /content/test.zip\n",
            "100% 641M/641M [00:04<00:00, 139MB/s]\n"
          ]
        }
      ],
      "source": [
        "# This block downloads and preprocesses the needed data for the project\n",
        "!git clone https://github.com/XL2248/MSCTD\n",
        "!cp MSCTD/MSCTD_data/ende/eng* .\n",
        "!cp MSCTD/MSCTD_data/ende/ima* .\n",
        "!cp MSCTD/MSCTD_data/ende/sent* .\n",
        "!rm -rf MSCTD\n",
        "!pip -q install --upgrade --no-cache-dir gdown\n",
        "!gdown 1-43sQYxSCsCIxQjOCAS-H4dDI6c2zgi8\n",
        "!gdown 1k-m84NIuOOTbXjn6ELwj1qBeH7jsN6IO\n",
        "!gdown 1-0Gg-qpqJpNfLPU7DT81UaFgwu8DVn15\n",
        "!unzip -q train_ende.zip\n",
        "!unzip -q dev.zip\n",
        "!unzip -q test.zip\n",
        "!mv train_ende train\n",
        "!mkdir train/image\n",
        "!mkdir dev/image\n",
        "!mkdir test/image\n",
        "!mv train/*.jpg train/image\n",
        "!mv dev/*.jpg dev/image\n",
        "!mv test/*.jpg test/image\n",
        "!mv *train.txt train\n",
        "!mv *dev.txt dev\n",
        "!mv *test.txt test"
      ]
    },
    {
      "cell_type": "code",
      "source": [
        "import torchvision\n",
        "from torchvision.io import read_image\n",
        "import torch\n",
        "from torch.utils.data import Dataset, DataLoader\n",
        "import os\n",
        "import numpy as np\n",
        "import matplotlib.pyplot as plt\n",
        "import seaborn as sns\n",
        "import pandas as pd\n",
        "!pip install facenet-pytorch --quiet\n",
        "from facenet_pytorch import MTCNN\n",
        "from PIL import Image\n",
        "import cv2"
      ],
      "metadata": {
        "id": "Fm_Avfwaio3t"
      },
      "execution_count": 36,
      "outputs": []
    },
    {
      "cell_type": "code",
      "source": [
        "class MSCTD(Dataset):\n",
        "    \"\"\"\n",
        "    :param root: root path of the dataset\n",
        "    :param split: train, dev, test\n",
        "    :param image_transform: transform for image\n",
        "    :param text_transform: transform for text\n",
        "    :param sentiment_transform: transform for sentiment\n",
        "    :param has_data: dict, whether the dataset has image, text\n",
        "    :param text_path: path of the text file\n",
        "    :param image_path: path of the image folder\n",
        "    :param sentiment_path: path of the sentiment file\n",
        "    :param image_index_path: path of the image index file\n",
        "\n",
        "    :return: combination of image, sentiment, text, image_index\n",
        "\n",
        "    Example:\n",
        "    >>> from torchvision import transforms\n",
        "    >>> image_transform = transforms.Compose([\n",
        "    >>>     transforms.Resize((640, 1280)),\n",
        "    >>>     transforms.Lambda(lambda x: x.permute(1, 2, 0))\n",
        "    >>> ])\n",
        "    >>> text_transform = None\n",
        "    >>> sentiment_transform = None\n",
        "    >>> dataset = MSCTD(root='data', split='train', image_transform=image_transform,\n",
        "    >>>                 text_transform=text_transform, sentiment_transform=sentiment_transform)\n",
        "    >>> image, text, sentiment = dataset[0]\n",
        "\n",
        "    \"\"\"\n",
        "    def __init__(self, root, split, image_transform=None, text_transform=None, sentiment_transform=None,\n",
        "                 has_data={'image': True, 'text': True}, text_path=None, image_path=None, sentiment_path=None,\n",
        "                 image_index_path=None):\n",
        "        data_path = os.path.join(root, split)\n",
        "        default_path = {\n",
        "            'text': os.path.join(data_path, 'english_' + split + '.txt'),\n",
        "            'image': os.path.join(data_path, 'image'),\n",
        "            'sentiment': os.path.join(data_path, 'sentiment_' + split + '.txt'),\n",
        "            'image_index': os.path.join(data_path, 'image_index_' + split + '.txt'),\n",
        "        }\n",
        "        self.image = [] if has_data['image'] else None\n",
        "        self.image_transform = image_transform\n",
        "        self.image_path = image_path if image_path else default_path['image']\n",
        "        self.text = [] if has_data['text'] else None\n",
        "        self.text_transform = text_transform\n",
        "        self.text_path = text_path if text_path else default_path['text']\n",
        "        self.sentiment_path = sentiment_path if sentiment_path else default_path['sentiment']\n",
        "        self.image_index_path = image_index_path if image_index_path else default_path['image_index']\n",
        "        self.sentiment = []\n",
        "        self.image_index = []\n",
        "        self.sentiment_transform = sentiment_transform\n",
        "        self.load_data()\n",
        "        \n",
        "    def load_data(self):\n",
        "        self.sentiment = np.loadtxt(self.sentiment_path, dtype=int)\n",
        "        with open(self.text_path, 'r') as f:\n",
        "            self.text = f.readlines()\n",
        "        self.text = [x.strip() for x in self.text]\n",
        "        with open(self.image_index_path, 'r') as f:\n",
        "            data = f.readlines()\n",
        "        self.image_index = [list(map(int, x[1:-2].split(','))) for x in data]\n",
        "\n",
        "    def __getitem__(self, index):\n",
        "        image = None\n",
        "        text = None\n",
        "        sentiment = self.sentiment[index]\n",
        "        if self.image is not None:\n",
        "            imag_path = os.path.join(self.image_path, str(index)+'.jpg')\n",
        "            image = read_image(imag_path)\n",
        "            if self.image_transform:\n",
        "                image = self.image_transform(image)\n",
        "        if self.text is not None:\n",
        "            text = self.text[index]\n",
        "            if self.text_transform:\n",
        "                text = self.text_transform(text)\n",
        "        if self.sentiment_transform:\n",
        "            sentiment = self.sentiment_transform(sentiment)\n",
        "        if text is not None and image is not None:\n",
        "            return image, text, sentiment\n",
        "        elif text is not None:\n",
        "            return text, sentiment\n",
        "        elif image is not None:\n",
        "            return image, sentiment\n",
        "        else:\n",
        "            raise Exception('Either image or text should be not None')\n",
        "\n",
        "    def __len__(self):\n",
        "        return len(self.sentiment)\n",
        "    "
      ],
      "metadata": {
        "id": "BkBSaR0xix4u"
      },
      "execution_count": 14,
      "outputs": []
    },
    {
      "cell_type": "code",
      "source": [
        "image_transform = torchvision.transforms.Compose([\n",
        "    torchvision.transforms.Resize((640, 1280)),\n",
        "    torchvision.transforms.Lambda(lambda x: x.permute(1, 2, 0))\n",
        "    ])\n",
        "MSCTD_train = MSCTD(root='.', split='train', image_transform=image_transform)\n",
        "MSCTD_dev = MSCTD(root='.', split='dev', image_transform=image_transform)\n",
        "MSCTD_test = MSCTD(root='.', split='test', image_transform=image_transform)"
      ],
      "metadata": {
        "id": "jreTxJv0i7OQ"
      },
      "execution_count": 24,
      "outputs": []
    },
    {
      "cell_type": "code",
      "source": [
        "batch_size = 32\n",
        "train_loader = DataLoader(MSCTD_train, batch_size=batch_size, shuffle=False)\n",
        "dev_loader = DataLoader(MSCTD_dev, batch_size=batch_size, shuffle=False)\n",
        "test_loader = DataLoader(MSCTD_test, batch_size=batch_size, shuffle=False)"
      ],
      "metadata": {
        "id": "Hnejgp2fi_U7"
      },
      "execution_count": 26,
      "outputs": []
    },
    {
      "cell_type": "code",
      "source": [
        "# define a function that given the image and the bounding boxes, and their sentiments, crops the image and returns the cropped image and the sentiment\n",
        "transform = torchvision.transforms.Compose([\n",
        "    torchvision.transforms.Lambda(lambda x: x.permute(2, 0, 1)),\n",
        "    torchvision.transforms.Resize((160, 160)),\n",
        "    torchvision.transforms.Lambda(lambda x: x.permute(1, 2, 0))\n",
        "    ])\n",
        "def face_extractor(image, boxes, sentiments):\n",
        "    \"\"\"\n",
        "    :param image: image tensor of shape (batch_size, height, width, channels)\n",
        "    :param boxes: bounding boxes for the faces of shape (batch_size, num_faces, 4) where 4 is (x1, y1, x2, y2). Note that some images may not have any faces\n",
        "    :param sentiments: sentiment for the faces of shape (batch_size, )\n",
        "    :return: cropped image and sentiment \n",
        "    \"\"\"\n",
        "    cropped_images = []\n",
        "    cropped_sentiments = []\n",
        "    for i in range(image.shape[0]):\n",
        "        current_image = image[i]\n",
        "        current_sentiment = sentiments[i]\n",
        "        if boxes[i] is not None:\n",
        "            for j in range(boxes[i].shape[0]):\n",
        "                current_box = boxes[i][j]\n",
        "                x1, y1, x2, y2 = current_box\n",
        "                x1, y1, x2, y2 = max(int(x1), 0), max(int(y1), 0), max(int(x2), 0), max(int(y2), 0)\n",
        "                resized_image = transform(current_image[y1:y2, x1:x2])\n",
        "                cropped_images.append(resized_image)\n",
        "                cropped_sentiments.append(current_sentiment)\n",
        "    return cropped_images, cropped_sentiments"
      ],
      "metadata": {
        "id": "fz1T9DHVrGRy"
      },
      "execution_count": 28,
      "outputs": []
    },
    {
      "cell_type": "code",
      "source": [
        "np.warnings.filterwarnings('ignore', category=np.VisibleDeprecationWarning) \n",
        "def num_faces(boxes):\n",
        "  return [0 if i is None else len(i) for i in boxes]\n",
        "device = torch.device('cuda' if torch.cuda.is_available() else 'cpu')\n",
        "mtcnn = MTCNN(keep_all=True, device=device)\n",
        "train_faces_per_img = []\n",
        "dev_faces_per_img = []\n",
        "test_faces_per_img = []\n",
        "with torch.no_grad():\n",
        "  for image, text, sentiment in dev_loader:\n",
        "    print(image.shape)\n",
        "    image = image.to(device)\n",
        "    boxes, probs = mtcnn.detect(image)\n",
        "    print(boxes.shape)\n",
        "    print(boxes)\n",
        "    print(probs.shape)\n",
        "    print(probs)\n",
        "    break\n",
        "    "
      ],
      "metadata": {
        "id": "ygxwIctNjhg4"
      },
      "execution_count": null,
      "outputs": []
    },
    {
      "cell_type": "code",
      "source": [],
      "metadata": {
        "id": "6uvNikxPjrnO",
        "outputId": "38075474-0350-4d53-9e0c-1f000890010d",
        "colab": {
          "base_uri": "https://localhost:8080/"
        }
      },
      "execution_count": 108,
      "outputs": [
        {
          "output_type": "stream",
          "name": "stdout",
          "text": [
            "torch.Size([439, 334, 3])\n",
            "torch.Size([160, 160, 3])\n",
            "torch.Size([543, 366, 3])\n",
            "torch.Size([160, 160, 3])\n",
            "torch.Size([447, 339, 3])\n",
            "torch.Size([160, 160, 3])\n",
            "torch.Size([447, 339, 3])\n",
            "torch.Size([160, 160, 3])\n",
            "torch.Size([102, 75, 3])\n",
            "torch.Size([160, 160, 3])\n",
            "torch.Size([99, 71, 3])\n",
            "torch.Size([160, 160, 3])\n",
            "torch.Size([127, 71, 3])\n",
            "torch.Size([160, 160, 3])\n",
            "torch.Size([356, 278, 3])\n",
            "torch.Size([160, 160, 3])\n",
            "torch.Size([361, 279, 3])\n",
            "torch.Size([160, 160, 3])\n",
            "torch.Size([34, 24, 3])\n",
            "torch.Size([160, 160, 3])\n",
            "torch.Size([24, 20, 3])\n",
            "torch.Size([160, 160, 3])\n",
            "torch.Size([23, 17, 3])\n",
            "torch.Size([160, 160, 3])\n",
            "torch.Size([401, 378, 3])\n",
            "torch.Size([160, 160, 3])\n",
            "torch.Size([415, 321, 3])\n",
            "torch.Size([160, 160, 3])\n",
            "torch.Size([248, 198, 3])\n",
            "torch.Size([160, 160, 3])\n",
            "torch.Size([249, 194, 3])\n",
            "torch.Size([160, 160, 3])\n",
            "torch.Size([544, 583, 3])\n",
            "torch.Size([160, 160, 3])\n",
            "torch.Size([393, 301, 3])\n",
            "torch.Size([160, 160, 3])\n",
            "torch.Size([346, 267, 3])\n",
            "torch.Size([160, 160, 3])\n",
            "torch.Size([399, 298, 3])\n",
            "torch.Size([160, 160, 3])\n",
            "torch.Size([303, 179, 3])\n",
            "torch.Size([160, 160, 3])\n",
            "torch.Size([579, 601, 3])\n",
            "torch.Size([160, 160, 3])\n",
            "torch.Size([209, 155, 3])\n",
            "torch.Size([160, 160, 3])\n",
            "torch.Size([152, 244, 3])\n",
            "torch.Size([160, 160, 3])\n",
            "torch.Size([172, 91, 3])\n",
            "torch.Size([160, 160, 3])\n",
            "torch.Size([111, 95, 3])\n",
            "torch.Size([160, 160, 3])\n",
            "torch.Size([429, 238, 3])\n",
            "torch.Size([160, 160, 3])\n",
            "torch.Size([265, 196, 3])\n",
            "torch.Size([160, 160, 3])\n",
            "torch.Size([464, 353, 3])\n",
            "torch.Size([160, 160, 3])\n",
            "torch.Size([100, 84, 3])\n",
            "torch.Size([160, 160, 3])\n",
            "torch.Size([243, 193, 3])\n",
            "torch.Size([160, 160, 3])\n",
            "torch.Size([337, 326, 3])\n",
            "torch.Size([160, 160, 3])\n",
            "torch.Size([71, 58, 3])\n",
            "torch.Size([160, 160, 3])\n",
            "torch.Size([48, 40, 3])\n",
            "torch.Size([160, 160, 3])\n",
            "torch.Size([48, 40, 3])\n",
            "torch.Size([160, 160, 3])\n",
            "torch.Size([71, 58, 3])\n",
            "torch.Size([160, 160, 3])\n",
            "torch.Size([48, 40, 3])\n",
            "torch.Size([160, 160, 3])\n",
            "torch.Size([48, 40, 3])\n",
            "torch.Size([160, 160, 3])\n"
          ]
        }
      ]
    },
    {
      "cell_type": "code",
      "source": [
        "faces[0][4].shape"
      ],
      "metadata": {
        "id": "dn1ArgxI25oH",
        "outputId": "e1a0f337-5bda-4d15-d7ee-ea6c0879b3eb",
        "colab": {
          "base_uri": "https://localhost:8080/"
        }
      },
      "execution_count": 109,
      "outputs": [
        {
          "output_type": "execute_result",
          "data": {
            "text/plain": [
              "torch.Size([160, 160, 3])"
            ]
          },
          "metadata": {},
          "execution_count": 109
        }
      ]
    },
    {
      "cell_type": "code",
      "source": [
        "plt.imshow(faces[0][15].cpu().numpy())"
      ],
      "metadata": {
        "id": "lRJpYSHPrelb",
        "outputId": "562ef532-7c00-40b5-e161-255ed46c115e",
        "colab": {
          "base_uri": "https://localhost:8080/",
          "height": 286
        }
      },
      "execution_count": 111,
      "outputs": [
        {
          "output_type": "execute_result",
          "data": {
            "text/plain": [
              "<matplotlib.image.AxesImage at 0x7fd6a4d55430>"
            ]
          },
          "metadata": {},
          "execution_count": 111
        },
        {
          "output_type": "display_data",
          "data": {
            "text/plain": [
              "<Figure size 432x288 with 1 Axes>"
            ],
            "image/png": "[encoded data removed]"
          },
          "metadata": {
            "needs_background": "light"
          }
        }
      ]
    },
    {
      "cell_type": "code",
      "source": [],
      "metadata": {
        "id": "ccW8gdSnzV5w"
      },
      "execution_count": null,
      "outputs": []
    }
  ],
  "metadata": {
    "language_info": {
      "name": "python"
    },
    "orig_nbformat": 4,
    "colab": {
      "provenance": [],
      "include_colab_link": true
    },
    "kernelspec": {
      "name": "python3",
      "display_name": "Python 3"
    },
    "gpuClass": "standard",
    "accelerator": "GPU"
  },
  "nbformat": 4,
  "nbformat_minor": 0
}