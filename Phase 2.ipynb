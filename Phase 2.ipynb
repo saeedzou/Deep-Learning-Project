{
  "cells": [
    {
      "cell_type": "markdown",
      "metadata": {
        "id": "view-in-github",
        "colab_type": "text"
      },
      "source": [
        "<a href=\"https://colab.research.google.com/github/saeedzou/Deep-Learning-Project/blob/dev-saeed/Phase%202.ipynb\" target=\"_parent\"><img src=\"https://colab.research.google.com/assets/colab-badge.svg\" alt=\"Open In Colab\"/></a>"
      ]
    },
    {
      "cell_type": "code",
      "source": [
        "# This block downloads and preprocesses the needed data for the project\n",
        "!git clone https://github.com/XL2248/MSCTD\n",
        "!cp MSCTD/MSCTD_data/ende/eng* .\n",
        "!cp MSCTD/MSCTD_data/ende/ima* .\n",
        "!cp MSCTD/MSCTD_data/ende/sent* .\n",
        "!rm -rf MSCTD\n",
        "!mkdir train\n",
        "!mkdir dev\n",
        "!mkdir test\n",
        "!mv *train.txt train\n",
        "!mv *dev.txt dev\n",
        "!mv *test.txt test"
      ],
      "metadata": {
        "colab": {
          "base_uri": "https://localhost:8080/"
        },
        "id": "FBwW2kvXty3T",
        "outputId": "ae32b7a8-61ea-4060-d0da-46d552be8934"
      },
      "execution_count": 1,
      "outputs": [
        {
          "output_type": "stream",
          "name": "stdout",
          "text": [
            "Cloning into 'MSCTD'...\n",
            "remote: Enumerating objects: 1217, done.\u001b[K\n",
            "remote: Counting objects: 100% (27/27), done.\u001b[K\n",
            "remote: Compressing objects: 100% (23/23), done.\u001b[K\n",
            "remote: Total 1217 (delta 13), reused 7 (delta 3), pack-reused 1190\u001b[K\n",
            "Receiving objects: 100% (1217/1217), 102.24 MiB | 17.45 MiB/s, done.\n",
            "Resolving deltas: 100% (616/616), done.\n",
            "Updating files: 100% (934/934), done.\n",
            "mkdir: cannot create directory ‘train’: File exists\n",
            "mkdir: cannot create directory ‘dev’: File exists\n",
            "mkdir: cannot create directory ‘test’: File exists\n"
          ]
        }
      ]
    },
    {
      "cell_type": "code",
      "execution_count": 2,
      "metadata": {
        "colab": {
          "base_uri": "https://localhost:8080/"
        },
        "id": "gF8LxEI0tp74",
        "outputId": "169c9399-dbef-4a45-fa08-c0153cad3a54"
      },
      "outputs": [
        {
          "output_type": "stream",
          "name": "stderr",
          "text": [
            "[nltk_data] Downloading package stopwords to /root/nltk_data...\n",
            "[nltk_data]   Package stopwords is already up-to-date!\n",
            "[nltk_data] Downloading package omw-1.4 to /root/nltk_data...\n",
            "[nltk_data]   Package omw-1.4 is already up-to-date!\n",
            "[nltk_data] Downloading package punkt to /root/nltk_data...\n",
            "[nltk_data]   Package punkt is already up-to-date!\n",
            "[nltk_data] Downloading package averaged_perceptron_tagger to\n",
            "[nltk_data]     /root/nltk_data...\n",
            "[nltk_data]   Package averaged_perceptron_tagger is already up-to-\n",
            "[nltk_data]       date!\n",
            "[nltk_data] Downloading package wordnet to /root/nltk_data...\n",
            "[nltk_data]   Package wordnet is already up-to-date!\n"
          ]
        }
      ],
      "source": [
        "import numpy as np\n",
        "import pandas as pd\n",
        "import nltk\n",
        "import nltk.tokenize as tokenize\n",
        "from nltk.corpus import stopwords\n",
        "from nltk.stem import WordNetLemmatizer\n",
        "from nltk.tokenize import word_tokenize\n",
        "from nltk.corpus import wordnet\n",
        "nltk.download('stopwords')\n",
        "nltk.download('omw-1.4')\n",
        "nltk.download('punkt')\n",
        "nltk.download('averaged_perceptron_tagger')\n",
        "nltk.download('wordnet')\n",
        "stop_words = set(stopwords.words(\"english\"))\n",
        "lemmatizer = WordNetLemmatizer()\n",
        "from sklearn.svm import LinearSVC\n",
        "from sklearn.metrics import classification_report, confusion_matrix\n",
        "from sklearn.feature_extraction.text import TfidfVectorizer\n",
        "import torch\n",
        "import torch.nn as nn\n",
        "import torch.nn.functional as F\n",
        "import torch.optim as optim\n",
        "from torch.utils.data import Dataset, DataLoader\n",
        "import os\n",
        "import string\n",
        "import re\n",
        "import random\n",
        "import matplotlib.pyplot as plt"
      ]
    },
    {
      "cell_type": "code",
      "execution_count": 3,
      "metadata": {
        "id": "yDWtqHh0tp7-"
      },
      "outputs": [],
      "source": [
        "class MSCTD(Dataset):\n",
        "    \"\"\"\n",
        "    :param root: root path of the dataset\n",
        "    :param split: train, dev, test\n",
        "    :param image_transform: transform for image\n",
        "    :param text_transform: transform for text\n",
        "    :param sentiment_transform: transform for sentiment\n",
        "    :param has_data: dict, whether the dataset has image, text\n",
        "    :param text_path: path of the text file\n",
        "    :param image_path: path of the image folder\n",
        "    :param sentiment_path: path of the sentiment file\n",
        "    :param image_index_path: path of the image index file\n",
        "\n",
        "    :return: combination of image, sentiment, text, image_index\n",
        "\n",
        "    Example:\n",
        "    >>> from torchvision import transforms\n",
        "    >>> image_transform = transforms.Compose([\n",
        "    >>>     transforms.Resize((640, 1280)),\n",
        "    >>>     transforms.Lambda(lambda x: x.permute(1, 2, 0))\n",
        "    >>> ])\n",
        "    >>> text_transform = None\n",
        "    >>> sentiment_transform = None\n",
        "    >>> dataset = MSCTD(root='data', split='train', image_transform=image_transform,\n",
        "    >>>                 text_transform=text_transform, sentiment_transform=sentiment_transform)\n",
        "    >>> image, text, sentiment = dataset[0]\n",
        "\n",
        "    \"\"\"\n",
        "    def __init__(self, root, split, image_transform=None, text_transform=None, sentiment_transform=None,\n",
        "                 has_data={'image': True, 'text': True}, text_path=None, image_path=None, sentiment_path=None,\n",
        "                 image_index_path=None):\n",
        "        data_path = os.path.join(root, split)\n",
        "        default_path = {\n",
        "            'text': os.path.join(data_path, 'english_' + split + '.txt'),\n",
        "            'image': os.path.join(data_path, 'image'),\n",
        "            'sentiment': os.path.join(data_path, 'sentiment_' + split + '.txt'),\n",
        "            'image_index': os.path.join(data_path, 'image_index_' + split + '.txt'),\n",
        "        }\n",
        "        self.image = [] if has_data['image'] else None\n",
        "        self.image_transform = image_transform\n",
        "        self.image_path = image_path if image_path else default_path['image']\n",
        "        self.text = [] if has_data['text'] else None\n",
        "        self.text_transform = text_transform\n",
        "        self.text_path = text_path if text_path else default_path['text']\n",
        "        self.sentiment_path = sentiment_path if sentiment_path else default_path['sentiment']\n",
        "        self.image_index_path = image_index_path if image_index_path else default_path['image_index']\n",
        "        self.sentiment = []\n",
        "        self.image_index = []\n",
        "        self.sentiment_transform = sentiment_transform\n",
        "        self.load_data()\n",
        "        \n",
        "    def load_data(self):\n",
        "        self.sentiment = np.loadtxt(self.sentiment_path, dtype=int)\n",
        "        if self.text is not None:\n",
        "            with open(self.text_path, 'r') as f:\n",
        "                self.text = f.readlines()\n",
        "            self.text = [x.strip() for x in self.text]\n",
        "        with open(self.image_index_path, 'r') as f:\n",
        "            data = f.readlines()\n",
        "        self.image_index = [list(map(int, x[1:-2].split(','))) for x in data]\n",
        "\n",
        "    def __getitem__(self, index):\n",
        "        image = None\n",
        "        text = None\n",
        "        sentiment = self.sentiment[index]\n",
        "        if self.image is not None:\n",
        "            imag_path = os.path.join(self.image_path, str(index)+'.jpg')\n",
        "            image = read_image(imag_path)\n",
        "            if self.image_transform:\n",
        "                image = self.image_transform(image)\n",
        "        if self.text is not None:\n",
        "            text = self.text[index]\n",
        "            if self.text_transform:\n",
        "                text = self.text_transform(text)\n",
        "        if self.sentiment_transform:\n",
        "            sentiment = self.sentiment_transform(sentiment)\n",
        "        if text is not None and image is not None:\n",
        "            return image, text, sentiment\n",
        "        elif text is not None:\n",
        "            return text, sentiment\n",
        "        elif image is not None:\n",
        "            return image, sentiment\n",
        "        else:\n",
        "            raise Exception('Either image or text should be not None')\n",
        "\n",
        "    def __len__(self):\n",
        "        return len(self.sentiment)"
      ]
    },
    {
      "cell_type": "code",
      "execution_count": 4,
      "metadata": {
        "id": "WQB8Ofb_tp8A"
      },
      "outputs": [],
      "source": [
        "MSCTD_train = MSCTD(root='.', split='train', has_data={'image': False, 'text': True})\n",
        "MSCTD_dev = MSCTD(root='.', split='dev', has_data={'image': False, 'text': True})\n",
        "MSCTD_test = MSCTD(root='.', split='test', has_data={'image': False, 'text': True})"
      ]
    },
    {
      "cell_type": "code",
      "execution_count": 5,
      "metadata": {
        "id": "rcQACtNXtp8B"
      },
      "outputs": [],
      "source": [
        "def get_wordnet_pos(word):\n",
        "    \"\"\"Map POS tag to first character used by WordNetLemmatizer\"\"\"\n",
        "    tag = nltk.pos_tag([word])[0][1][0].upper()\n",
        "    tag_dict = {\"J\": wordnet.ADJ,\n",
        "                \"N\": wordnet.NOUN,\n",
        "                \"V\": wordnet.VERB,\n",
        "                \"R\": wordnet.ADV}\n",
        "\n",
        "    return tag_dict.get(tag, wordnet.NOUN)\n",
        "\n",
        "def text_preprocessor(dataset):\n",
        "      # preprocess text\n",
        "      dataset.text = [preprocess_text(text) for text in dataset.text]\n",
        "\n",
        "def preprocess_text(text):\n",
        "      # Replace contractions with original text\n",
        "  text = re.sub(r'(\\b[Aa]in\\'t\\b)', \"am not\", text)\n",
        "  text = re.sub(r'(\\b[Hh]a\\'t\\b)', \"has\", text)\n",
        "  text = re.sub(r'(\\b[Ii]\\'m\\b)', \"i am\", text)\n",
        "  text = re.sub(r'(\\b\\'s\\b)', \" is\", text)\n",
        "  text = re.sub(r'(\\b\\'re\\b)', \" are\", text)\n",
        "  text = re.sub(r'(\\b\\'ve\\b)', \" have\", text)\n",
        "  text = re.sub(r'(\\b\\'d\\b)', \" would\", text)\n",
        "  text = re.sub(r'(\\b\\'ll\\b)', \" will\", text)\n",
        "  text = re.sub(r'(\\b[Ss]han\\'t\\b)', \"shall not\", text)\n",
        "  text = re.sub(r'(\\b[Ww]on\\'t\\b)', \"will not\", text)\n",
        "  text = re.sub(r'(\\b[Ww]ouldn\\'t\\b)', \"would not\", text)\n",
        "  text = re.sub(r'(\\b[Dd]on\\'t\\b)', \"do not\", text)\n",
        "  text = re.sub(r'(\\b[Cc]an\\'t\\b)', \"can not\", text)\n",
        "  text = re.sub(r'(\\b[Ii]s\\'nt\\b)', \"is not\", text)\n",
        "  text = re.sub(r'(\\b[Ww]eren\\'t\\b)', \"were not\", text)\n",
        "  text = re.sub(r'(\\b[Hh]aven\\'t\\b)', \"have not\", text)\n",
        "  text = re.sub(r'(\\b[Hh]adn\\'t\\b)', \"had not\", text)\n",
        "  text = re.sub(r'(\\b[Hh]asn\\'t\\b)', \"has not\", text)\n",
        "  text = re.sub(r'(\\b[Hh]adn\\'t\\b)', \"had not\", text)\n",
        "  text = re.sub(r'(\\b[Dd]idn\\'t\\b)', \"did not\", text)\n",
        "\n",
        "  # Remove punctuation\n",
        "  text = text.translate(str.maketrans(\"\", \"\", string.punctuation))\n",
        "\n",
        "  # Convert to lowercase\n",
        "  text = text.lower()\n",
        "\n",
        "  # Tokenize text\n",
        "  tokens = word_tokenize(text)\n",
        "\n",
        "  # Remove stop words\n",
        "  # tokens = [token for token in tokens if token not in stop_words]\n",
        "  # Remove numbers\n",
        "  tokens = [token for token in tokens if token.isalpha()]\n",
        "\n",
        "  # Lemmatize tokens\n",
        "  tokens = [lemmatizer.lemmatize(token, get_wordnet_pos(token)) for token in tokens]\n",
        "\n",
        "  return ' '.join(tokens)\n",
        "\n",
        "# Test the TextPreprocessor\n",
        "text_preprocessor(MSCTD_train)\n",
        "text_preprocessor(MSCTD_dev)\n",
        "text_preprocessor(MSCTD_test)"
      ]
    },
    {
      "cell_type": "markdown",
      "source": [
        "# TF-IDF Method"
      ],
      "metadata": {
        "id": "k4UKE_6dGC6Q"
      }
    },
    {
      "cell_type": "code",
      "source": [
        "class TFIDFProcessor:\n",
        "    def __init__(self, dataset):\n",
        "        self.dataset = dataset\n",
        "        self.tfidf = TfidfVectorizer()\n",
        "        self.tfidf_matrix = None\n",
        "\n",
        "    def fit(self):\n",
        "        # Get all the captions from the dataset\n",
        "        captions = [caption for caption, _ in self.dataset]\n",
        "\n",
        "        # Fit the TF-IDF model on the captions\n",
        "        self.tfidf_matrix = self.tfidf.fit_transform(captions)\n",
        "\n",
        "    def transform(self, caption):\n",
        "        # Transform the input caption using the fitted TF-IDF model\n",
        "        tfidf_vector = self.tfidf.transform([caption])\n",
        "\n",
        "        # Convert the resulting sparse matrix to a dense numpy array\n",
        "        return np.array(tfidf_vector.todense()).squeeze(0)\n",
        "\n",
        "    def __getitem__(self, index):\n",
        "        # Get the caption and sentiment from the dataset\n",
        "        caption, sentiment = self.dataset[index]\n",
        "\n",
        "        # Transform the caption using the TF-IDF model\n",
        "        tfidf_vector = self.transform(caption)\n",
        "\n",
        "        return tfidf_vector, sentiment"
      ],
      "metadata": {
        "id": "ulw6hKwezvvj"
      },
      "execution_count": 6,
      "outputs": []
    },
    {
      "cell_type": "code",
      "source": [
        "tfidf_processor = TFIDFProcessor(MSCTD_train)\n",
        "tfidf_processor.fit()"
      ],
      "metadata": {
        "id": "wZf7-W545And"
      },
      "execution_count": 7,
      "outputs": []
    },
    {
      "cell_type": "code",
      "source": [
        "class TFIDFDataSet:\n",
        "    def __init__(self, dataset, tfidf_processor):\n",
        "        self.dataset = dataset\n",
        "        self.tfidf_processor = tfidf_processor\n",
        "        \n",
        "    def __getitem__(self, index):\n",
        "        # Get the caption and sentiment from the MSCTD dataset\n",
        "        caption, sentiment = self.dataset[index]\n",
        "\n",
        "        # Convert the caption to a TF-IDF vector using the TFIDFProcessor\n",
        "        tfidf_vector = self.tfidf_processor.transform(caption)\n",
        "\n",
        "        # Return the TF-IDF vector and sentiment\n",
        "        return torch.from_numpy(tfidf_vector.astype(np.float32)), torch.from_numpy(np.array(sentiment))\n",
        "\n",
        "    def __len__(self):\n",
        "        return len(self.dataset)"
      ],
      "metadata": {
        "id": "_sRmIQnc3cRB"
      },
      "execution_count": 8,
      "outputs": []
    },
    {
      "cell_type": "code",
      "source": [
        "train_dataset = TFIDFDataSet(MSCTD_train, tfidf_processor)\n",
        "dev_dataset = TFIDFDataSet(MSCTD_dev, tfidf_processor)\n",
        "test_dataset = TFIDFDataSet(MSCTD_dev, tfidf_processor)"
      ],
      "metadata": {
        "id": "LpeOaxLw8-FF"
      },
      "execution_count": 9,
      "outputs": []
    },
    {
      "cell_type": "code",
      "source": [
        "# data loader\n",
        "train_loader = DataLoader(train_dataset, batch_size=32, shuffle=True)\n",
        "dev_loader = DataLoader(dev_dataset, batch_size=32, shuffle=True)\n",
        "test_loader = DataLoader(test_dataset, batch_size=32, shuffle=True)"
      ],
      "metadata": {
        "id": "kfz_QK7v9Flj"
      },
      "execution_count": 10,
      "outputs": []
    },
    {
      "cell_type": "code",
      "source": [
        "class MLPClassifier(nn.Module):\n",
        "  def __init__(self, input_size, num_classes):\n",
        "    super(MLPClassifier, self).__init__()\n",
        "    self.linear = nn.Linear(input_size, num_classes)\n",
        "\n",
        "  def forward(self, x):\n",
        "    return self.linear(x)\n",
        "device = torch.device(\"cuda:0\" if torch.cuda.is_available() else \"cpu\")\n",
        "input_size = len(tfidf_processor.tfidf.get_feature_names_out())\n",
        "num_classes = 3\n",
        "model = MLPClassifier(input_size, num_classes)\n",
        "model = model.to(device)\n",
        "loss_fn = nn.CrossEntropyLoss()\n",
        "optimizer = torch.optim.Adam(model.parameters(), lr=0.001)"
      ],
      "metadata": {
        "id": "Nm9COjY39T6D"
      },
      "execution_count": 11,
      "outputs": []
    },
    {
      "cell_type": "code",
      "source": [
        "# Train the model for 10 epochs\n",
        "train_loss = []\n",
        "dev_loss = []\n",
        "train_acc = []\n",
        "dev_acc = []\n",
        "for epoch in range(10):\n",
        "    running_loss = 0.0\n",
        "    running_acc = 0.0\n",
        "    for i, (tfidf, sentiment) in enumerate(train_loader):\n",
        "        tfidf = tfidf.to(device)\n",
        "        sentiment = sentiment.to(device)\n",
        "        \n",
        "        outputs = model(tfidf)\n",
        "        # if i > 630:\n",
        "        #   print(tfidf.shape, sentiment.shape, outputs.shape)\n",
        "        loss = loss_fn(outputs, sentiment)\n",
        "        # backward and optimize\n",
        "        optimizer.zero_grad()\n",
        "        loss.backward()\n",
        "        optimizer.step()\n",
        "        running_loss += loss.item()\n",
        "        running_acc += (torch.argmax(outputs, dim=1) == sentiment).sum().item()\n",
        "    train_loss.append(running_loss / len(train_loader))\n",
        "    train_acc.append(running_acc / len(train_loader.dataset))\n",
        "    print(f'Epoch {epoch+1}/{10}, Training Loss: {train_loss[-1]:.4f}, Training Accuracy: {train_acc[-1]:.4f}')\n",
        "    # Evaluate on the dev set\n",
        "    with torch.no_grad():\n",
        "        running_loss = 0.0\n",
        "        running_acc = 0.0\n",
        "        for i, (tfidf, sentiment) in enumerate(dev_loader):\n",
        "            tfidf = tfidf.to(device)\n",
        "            sentiment = sentiment.to(device)\n",
        "            outputs = model(tfidf)\n",
        "            loss = loss_fn(outputs, sentiment)\n",
        "            running_loss += loss.item()\n",
        "            running_acc += (torch.argmax(outputs, dim=1) == sentiment).sum().item()\n",
        "        dev_loss.append(running_loss / len(dev_loader))\n",
        "        dev_acc.append(running_acc / len(dev_loader.dataset))\n",
        "        print(f'Epoch {epoch+1}/{10}, Dev Loss: {dev_loss[-1]:.4f}, Dev Accuracy: {dev_acc[-1]:.4f}')"
      ],
      "metadata": {
        "id": "YZTzBpGl9oXh",
        "outputId": "cc27f99b-70d0-4963-f859-dd06e18b9b0b",
        "colab": {
          "base_uri": "https://localhost:8080/"
        }
      },
      "execution_count": 12,
      "outputs": [
        {
          "output_type": "stream",
          "name": "stdout",
          "text": [
            "Epoch 1/10, Training Loss: 1.0711, Training Accuracy: 0.4152\n",
            "Epoch 1/10, Dev Loss: 1.0631, Dev Accuracy: 0.4140\n",
            "Epoch 2/10, Training Loss: 1.0286, Training Accuracy: 0.5209\n",
            "Epoch 2/10, Dev Loss: 1.0415, Dev Accuracy: 0.4685\n",
            "Epoch 3/10, Training Loss: 0.9944, Training Accuracy: 0.5760\n",
            "Epoch 3/10, Dev Loss: 1.0247, Dev Accuracy: 0.4960\n",
            "Epoch 4/10, Training Loss: 0.9660, Training Accuracy: 0.6056\n",
            "Epoch 4/10, Dev Loss: 1.0121, Dev Accuracy: 0.5037\n",
            "Epoch 5/10, Training Loss: 0.9418, Training Accuracy: 0.6230\n",
            "Epoch 5/10, Dev Loss: 1.0019, Dev Accuracy: 0.5058\n",
            "Epoch 6/10, Training Loss: 0.9207, Training Accuracy: 0.6361\n",
            "Epoch 6/10, Dev Loss: 0.9946, Dev Accuracy: 0.5102\n",
            "Epoch 7/10, Training Loss: 0.9023, Training Accuracy: 0.6455\n",
            "Epoch 7/10, Dev Loss: 0.9904, Dev Accuracy: 0.5114\n",
            "Epoch 8/10, Training Loss: 0.8855, Training Accuracy: 0.6542\n",
            "Epoch 8/10, Dev Loss: 0.9861, Dev Accuracy: 0.5177\n",
            "Epoch 9/10, Training Loss: 0.8704, Training Accuracy: 0.6637\n",
            "Epoch 9/10, Dev Loss: 0.9827, Dev Accuracy: 0.5159\n",
            "Epoch 10/10, Training Loss: 0.8568, Training Accuracy: 0.6681\n",
            "Epoch 10/10, Dev Loss: 0.9806, Dev Accuracy: 0.5200\n"
          ]
        }
      ]
    },
    {
      "cell_type": "code",
      "source": [
        "plt.plot(train_loss, label='train')\n",
        "plt.plot(dev_loss, label='dev')\n",
        "plt.legend()\n",
        "plt.show()\n",
        "plt.plot(train_acc, label='train')\n",
        "plt.plot(dev_acc, label='dev')\n",
        "plt.legend()\n",
        "plt.show()"
      ],
      "metadata": {
        "id": "wycwZ0lYDF2O",
        "outputId": "1c3b9c18-d2e6-48a1-f3cb-4299d60f47d2",
        "colab": {
          "base_uri": "https://localhost:8080/",
          "height": 513
        }
      },
      "execution_count": 14,
      "outputs": [
        {
          "output_type": "display_data",
          "data": {
            "text/plain": [
              "<Figure size 432x288 with 1 Axes>"
            ],
            "image/png": "[encoded data removed]"
          },
          "metadata": {
            "needs_background": "light"
          }
        },
        {
          "output_type": "display_data",
          "data": {
            "text/plain": [
              "<Figure size 432x288 with 1 Axes>"
            ],
            "image/png": "[encoded data removed]"
          },
          "metadata": {
            "needs_background": "light"
          }
        }
      ]
    },
    {
      "cell_type": "code",
      "source": [
        "# evaluate on the test set\n",
        "with torch.no_grad():\n",
        "    running_loss = 0.0\n",
        "    running_acc = 0.0\n",
        "    for i, (tfidf, sentiment) in enumerate(test_loader):\n",
        "        tfidf = tfidf.to(device)\n",
        "        sentiment = sentiment.to(device)\n",
        "        outputs = model(tfidf)\n",
        "        loss = loss_fn(outputs, sentiment)\n",
        "        running_loss += loss.item()\n",
        "        running_acc += (torch.argmax(outputs, dim=1) == sentiment).sum().item()\n",
        "    test_loss = running_loss / len(test_loader)\n",
        "    test_acc = running_acc / len(test_loader.dataset)\n",
        "    print(f'Test Loss: {test_loss:.4f}, Test Accuracy: {test_acc:.4f}')"
      ],
      "metadata": {
        "id": "IAgD3xqo_b9S",
        "outputId": "bb2900f3-80f4-488e-893c-d0452e7427e5",
        "colab": {
          "base_uri": "https://localhost:8080/"
        }
      },
      "execution_count": 15,
      "outputs": [
        {
          "output_type": "stream",
          "name": "stdout",
          "text": [
            "Test Loss: 0.9818, Test Accuracy: 0.5200\n"
          ]
        }
      ]
    },
    {
      "cell_type": "markdown",
      "source": [
        "# SVM on TFIDF Vectors for Word2Vec"
      ],
      "metadata": {
        "id": "o_da9OobGUmb"
      }
    },
    {
      "cell_type": "code",
      "source": [
        "# build a dictionary where the keys are the words and the values are columns in the tfidf matrix corresponding to the words\n",
        "tfidf_dict = {word: tfidf_processor.tfidf_matrix[:, i].toarray().squeeze(1) for i, word in enumerate(tfidf_processor.tfidf.get_feature_names_out())}\n",
        "word_vectors = {word:[] for word in tfidf_dict.keys()}"
      ],
      "metadata": {
        "id": "-Uu-ENUE5Sma"
      },
      "execution_count": 16,
      "outputs": []
    },
    {
      "cell_type": "code",
      "source": [
        "# create dataloaders for MSCTD_train, MSCTD_dev, MSCTD_test\n",
        "MSCTD_train_loader = DataLoader(MSCTD_train, batch_size=32, shuffle=True)\n",
        "MSCTD_dev_loader = DataLoader(MSCTD_dev, batch_size=32, shuffle=True)\n",
        "MSCTD_test_loader = DataLoader(MSCTD_test, batch_size=32, shuffle=True)"
      ],
      "metadata": {
        "id": "qo7xECsC6im7"
      },
      "execution_count": 17,
      "outputs": []
    },
    {
      "cell_type": "code",
      "source": [
        "for i, (captions, _) in enumerate(MSCTD_train_loader):\n",
        "    print(f'Processing batch {i}')\n",
        "    for caption in captions:\n",
        "        for word in caption.split():\n",
        "            if word in tfidf_dict.keys():\n",
        "                tfidf = tfidf_dict[word]\n",
        "                pos = [(tfidf_dict[i], 1) for i in caption.split() if i != word and i in tfidf_dict.keys()]\n",
        "                if len(pos) > 4:\n",
        "                    neg = [(tfidf_dict[i], 0) for i in np.random.choice(list(tfidf_dict.keys()), len(pos)) if i not in caption.split()]\n",
        "                    # create a shuffled numpy array of pos and neg\n",
        "                    combined = pos + neg\n",
        "                    random.shuffle(combined)\n",
        "                    # fit a linearsvc model on the combined array\n",
        "                    model = LinearSVC(max_iter=10000)\n",
        "                    model.fit(np.array([x for x, _ in combined]), np.array([y for _, y in combined]))\n",
        "                    # add the weights and bias to the word_vectors dictionary. e.g) if params are w and b then word_vectors[word] = [w.T, b].T\n",
        "                    word_vectors[word].append(np.concatenate((model.coef_.squeeze(0), model.intercept_)))\n",
        "            "
      ],
      "metadata": {
        "id": "OH75d0D36_Zf",
        "outputId": "5b67cfe7-beaa-4f50-8dd6-cfa9d821e7ac",
        "colab": {
          "base_uri": "https://localhost:8080/"
        }
      },
      "execution_count": null,
      "outputs": [
        {
          "output_type": "stream",
          "name": "stdout",
          "text": [
            "Processing batch 0\n",
            "Processing batch 1\n",
            "Processing batch 2\n",
            "Processing batch 3\n",
            "Processing batch 4\n",
            "Processing batch 5\n",
            "Processing batch 6\n",
            "Processing batch 7\n",
            "Processing batch 8\n",
            "Processing batch 9\n",
            "Processing batch 10\n",
            "Processing batch 11\n",
            "Processing batch 12\n",
            "Processing batch 13\n",
            "Processing batch 14\n",
            "Processing batch 15\n",
            "Processing batch 16\n",
            "Processing batch 17\n",
            "Processing batch 18\n",
            "Processing batch 19\n",
            "Processing batch 20\n",
            "Processing batch 21\n",
            "Processing batch 22\n",
            "Processing batch 23\n",
            "Processing batch 24\n",
            "Processing batch 25\n",
            "Processing batch 26\n",
            "Processing batch 27\n",
            "Processing batch 28\n",
            "Processing batch 29\n",
            "Processing batch 30\n",
            "Processing batch 31\n",
            "Processing batch 32\n",
            "Processing batch 33\n",
            "Processing batch 34\n",
            "Processing batch 35\n",
            "Processing batch 36\n",
            "Processing batch 37\n",
            "Processing batch 38\n",
            "Processing batch 39\n",
            "Processing batch 40\n",
            "Processing batch 41\n",
            "Processing batch 42\n",
            "Processing batch 43\n",
            "Processing batch 44\n",
            "Processing batch 45\n",
            "Processing batch 46\n",
            "Processing batch 47\n",
            "Processing batch 48\n",
            "Processing batch 49\n",
            "Processing batch 50\n",
            "Processing batch 51\n",
            "Processing batch 52\n",
            "Processing batch 53\n",
            "Processing batch 54\n",
            "Processing batch 55\n",
            "Processing batch 56\n",
            "Processing batch 57\n",
            "Processing batch 58\n",
            "Processing batch 59\n",
            "Processing batch 60\n",
            "Processing batch 61\n",
            "Processing batch 62\n",
            "Processing batch 63\n",
            "Processing batch 64\n",
            "Processing batch 65\n",
            "Processing batch 66\n",
            "Processing batch 67\n",
            "Processing batch 68\n",
            "Processing batch 69\n",
            "Processing batch 70\n",
            "Processing batch 71\n",
            "Processing batch 72\n",
            "Processing batch 73\n",
            "Processing batch 74\n",
            "Processing batch 75\n",
            "Processing batch 76\n",
            "Processing batch 77\n",
            "Processing batch 78\n",
            "Processing batch 79\n",
            "Processing batch 80\n",
            "Processing batch 81\n",
            "Processing batch 82\n",
            "Processing batch 83\n",
            "Processing batch 84\n",
            "Processing batch 85\n",
            "Processing batch 86\n",
            "Processing batch 87\n",
            "Processing batch 88\n",
            "Processing batch 89\n",
            "Processing batch 90\n",
            "Processing batch 91\n",
            "Processing batch 92\n",
            "Processing batch 93\n",
            "Processing batch 94\n",
            "Processing batch 95\n",
            "Processing batch 96\n",
            "Processing batch 97\n",
            "Processing batch 98\n",
            "Processing batch 99\n",
            "Processing batch 100\n",
            "Processing batch 101\n",
            "Processing batch 102\n",
            "Processing batch 103\n",
            "Processing batch 104\n",
            "Processing batch 105\n",
            "Processing batch 106\n",
            "Processing batch 107\n",
            "Processing batch 108\n",
            "Processing batch 109\n",
            "Processing batch 110\n",
            "Processing batch 111\n",
            "Processing batch 112\n",
            "Processing batch 113\n",
            "Processing batch 114\n",
            "Processing batch 115\n"
          ]
        }
      ]
    },
    {
      "cell_type": "markdown",
      "source": [
        "# GloVe "
      ],
      "metadata": {
        "id": "Lp7olCQoGcOc"
      }
    },
    {
      "cell_type": "code",
      "source": [
        "# download glove embeddings\n",
        "!wget http://nlp.stanford.edu/data/glove.6B.zip\n",
        "!unzip glove.6B.zip"
      ],
      "metadata": {
        "colab": {
          "base_uri": "https://localhost:8080/"
        },
        "id": "_KybsouMhikF",
        "outputId": "d254df98-ff52-4238-d025-fd21a42ae431"
      },
      "execution_count": 39,
      "outputs": [
        {
          "output_type": "stream",
          "name": "stdout",
          "text": [
            "--2023-02-04 13:23:16--  http://nlp.stanford.edu/data/glove.6B.zip\n",
            "Resolving nlp.stanford.edu (nlp.stanford.edu)... 171.64.67.140\n",
            "Connecting to nlp.stanford.edu (nlp.stanford.edu)|171.64.67.140|:80... connected.\n",
            "HTTP request sent, awaiting response... 302 Found\n",
            "Location: https://nlp.stanford.edu/data/glove.6B.zip [following]\n",
            "--2023-02-04 13:23:16--  https://nlp.stanford.edu/data/glove.6B.zip\n",
            "Connecting to nlp.stanford.edu (nlp.stanford.edu)|171.64.67.140|:443... connected.\n",
            "HTTP request sent, awaiting response... 301 Moved Permanently\n",
            "Location: https://downloads.cs.stanford.edu/nlp/data/glove.6B.zip [following]\n",
            "--2023-02-04 13:23:16--  https://downloads.cs.stanford.edu/nlp/data/glove.6B.zip\n",
            "Resolving downloads.cs.stanford.edu (downloads.cs.stanford.edu)... 171.64.64.22\n",
            "Connecting to downloads.cs.stanford.edu (downloads.cs.stanford.edu)|171.64.64.22|:443... connected.\n",
            "HTTP request sent, awaiting response... 200 OK\n",
            "Length: 862182613 (822M) [application/zip]\n",
            "Saving to: ‘glove.6B.zip’\n",
            "\n",
            "glove.6B.zip        100%[===================>] 822.24M  5.02MB/s    in 2m 39s  \n",
            "\n",
            "2023-02-04 13:25:55 (5.19 MB/s) - ‘glove.6B.zip’ saved [862182613/862182613]\n",
            "\n",
            "Archive:  glove.6B.zip\n",
            "  inflating: glove.6B.50d.txt        \n",
            "  inflating: glove.6B.100d.txt       \n",
            "  inflating: glove.6B.200d.txt       \n",
            "  inflating: glove.6B.300d.txt       \n"
          ]
        }
      ]
    },
    {
      "cell_type": "code",
      "source": [
        "glove_embeddings = {}\n",
        "with open('glove.6B.50d.txt', 'r') as f:\n",
        "    for line in f:\n",
        "        values = line.split()\n",
        "        word = values[0]\n",
        "        vector = np.asarray(values[1:], 'float32')\n",
        "        glove_embeddings[word] = vector\n",
        "\n",
        "class GloveEmbedding:\n",
        "    def __init__(self, embeddings):\n",
        "        self.embeddings = embeddings\n",
        "        self.dim = list(embeddings.values())[0].shape[0]\n",
        "        \n",
        "    def __call__(self, caption):\n",
        "        words = caption.split()\n",
        "        vectors = [self.embeddings.get(word, np.zeros(self.dim)) for word in words]\n",
        "        if len(vectors) == 0:\n",
        "            return np.zeros(self.dim)\n",
        "        return np.mean(vectors, axis=0)\n",
        "\n",
        "glove_embedding = GloveEmbedding(glove_embeddings)"
      ],
      "metadata": {
        "id": "2aF742rzmGRp"
      },
      "execution_count": 114,
      "outputs": []
    },
    {
      "cell_type": "code",
      "source": [
        "class GloveDataSet(Dataset):\n",
        "    def __init__(self, dataset, embedding):\n",
        "        self.dataset = dataset\n",
        "        self.embedding = embedding\n",
        "        \n",
        "    def __getitem__(self, index):\n",
        "        caption, sentiment = self.dataset[index]\n",
        "        embedding = self.embedding(caption)\n",
        "        return torch.from_numpy(embedding.astype(np.float32)), torch.from_numpy(np.array(sentiment))\n",
        "\n",
        "    def __len__(self):\n",
        "        return len(self.dataset)"
      ],
      "metadata": {
        "id": "JtFMkjiVnGhn"
      },
      "execution_count": 115,
      "outputs": []
    },
    {
      "cell_type": "code",
      "source": [
        "# create datasets\n",
        "train_dataset = GloveDataSet(MSCTD_train, glove_embedding)\n",
        "dev_dataset = GloveDataSet(MSCTD_dev, glove_embedding)\n",
        "test_dataset = GloveDataSet(MSCTD_test, glove_embedding)"
      ],
      "metadata": {
        "id": "V7CCdT8gnKw6"
      },
      "execution_count": 116,
      "outputs": []
    },
    {
      "cell_type": "code",
      "source": [
        "# create data loaders\n",
        "train_loader = DataLoader(train_dataset, batch_size=32, shuffle=True)\n",
        "dev_loader = DataLoader(dev_dataset, batch_size=32, shuffle=True)\n",
        "test_loader = DataLoader(test_dataset, batch_size=32, shuffle=True)\n"
      ],
      "metadata": {
        "id": "xsLM2kmOncyj"
      },
      "execution_count": 117,
      "outputs": []
    },
    {
      "cell_type": "code",
      "source": [
        "input_size = 50\n",
        "num_classes = 3\n",
        "model = MLPClassifier(input_size, num_classes)\n",
        "model = model.to(device)\n",
        "loss_fn = nn.CrossEntropyLoss()\n",
        "optimizer = torch.optim.Adam(model.parameters(), lr=1e-3)"
      ],
      "metadata": {
        "id": "tLX_h0mHnhOv"
      },
      "execution_count": 118,
      "outputs": []
    },
    {
      "cell_type": "code",
      "source": [
        "# Train the model for 10 epochs\n",
        "train_loss = []\n",
        "dev_loss = []\n",
        "train_acc = []\n",
        "dev_acc = []\n",
        "for epoch in range(10):\n",
        "    running_loss = 0.0\n",
        "    running_acc = 0.0\n",
        "    for i, (embedding, sentiment) in enumerate(train_loader):\n",
        "        embedding = embedding.to(device)\n",
        "        sentiment = sentiment.to(device)\n",
        "        \n",
        "        outputs = model(embedding)\n",
        "        loss = loss_fn(outputs, sentiment)\n",
        "        # backward and optimize\n",
        "        optimizer.zero_grad()\n",
        "        loss.backward()\n",
        "        optimizer.step()\n",
        "        running_loss += loss.item()\n",
        "        running_acc += (torch.argmax(outputs, dim=1) == sentiment).sum().item()\n",
        "    train_loss.append(running_loss / len(train_loader))\n",
        "    train_acc.append(running_acc / len(train_loader.dataset))\n",
        "    print(f'Epoch {epoch+1}/{10}, Training Loss: {train_loss[-1]:.4f}, Training Accuracy: {train_acc[-1]:.4f}')\n",
        "    # Evaluate on the dev set\n",
        "    with torch.no_grad():\n",
        "        running_loss = 0.0\n",
        "        running_acc = 0.0\n",
        "        for i, (embedding, sentiment) in enumerate(dev_loader):\n",
        "            embedding = embedding.to(device)\n",
        "            sentiment = sentiment.to(device)\n",
        "            outputs = model(embedding)\n",
        "            loss = loss_fn(outputs, sentiment)\n",
        "            running_loss += loss.item()\n",
        "            running_acc += (torch.argmax(outputs, dim=1) == sentiment).sum().item()\n",
        "        dev_loss.append(running_loss / len(dev_loader))\n",
        "        dev_acc.append(running_acc / len(dev_loader.dataset))\n",
        "        print(f'Epoch {epoch+1}/{10}, Dev Loss: {dev_loss[-1]:.4f}, Dev Accuracy: {dev_acc[-1]:.4f}')\n",
        "        "
      ],
      "metadata": {
        "colab": {
          "base_uri": "https://localhost:8080/"
        },
        "id": "_O6QbVSwnpuS",
        "outputId": "648004b2-7ca0-44f1-8144-46fdc29b43fa"
      },
      "execution_count": 119,
      "outputs": [
        {
          "output_type": "stream",
          "name": "stdout",
          "text": [
            "Epoch 1/10, Training Loss: 1.0616, Training Accuracy: 0.4454\n",
            "Epoch 1/10, Dev Loss: 1.0425, Dev Accuracy: 0.4606\n",
            "Epoch 2/10, Training Loss: 1.0291, Training Accuracy: 0.4857\n",
            "Epoch 2/10, Dev Loss: 1.0270, Dev Accuracy: 0.4782\n",
            "Epoch 3/10, Training Loss: 1.0180, Training Accuracy: 0.4969\n",
            "Epoch 3/10, Dev Loss: 1.0241, Dev Accuracy: 0.4845\n",
            "Epoch 4/10, Training Loss: 1.0122, Training Accuracy: 0.5036\n",
            "Epoch 4/10, Dev Loss: 1.0182, Dev Accuracy: 0.4904\n",
            "Epoch 5/10, Training Loss: 1.0086, Training Accuracy: 0.5047\n",
            "Epoch 5/10, Dev Loss: 1.0185, Dev Accuracy: 0.4898\n",
            "Epoch 6/10, Training Loss: 1.0064, Training Accuracy: 0.5083\n",
            "Epoch 6/10, Dev Loss: 1.0142, Dev Accuracy: 0.4977\n",
            "Epoch 7/10, Training Loss: 1.0051, Training Accuracy: 0.5093\n",
            "Epoch 7/10, Dev Loss: 1.0137, Dev Accuracy: 0.4950\n",
            "Epoch 8/10, Training Loss: 1.0043, Training Accuracy: 0.5102\n",
            "Epoch 8/10, Dev Loss: 1.0132, Dev Accuracy: 0.4950\n",
            "Epoch 9/10, Training Loss: 1.0031, Training Accuracy: 0.5104\n",
            "Epoch 9/10, Dev Loss: 1.0140, Dev Accuracy: 0.4934\n",
            "Epoch 10/10, Training Loss: 1.0026, Training Accuracy: 0.5109\n",
            "Epoch 10/10, Dev Loss: 1.0112, Dev Accuracy: 0.4940\n"
          ]
        }
      ]
    },
    {
      "cell_type": "code",
      "source": [
        "plt.plot(train_loss, label='train')\n",
        "plt.plot(dev_loss, label='dev')\n",
        "plt.legend()\n",
        "plt.show()\n",
        "plt.plot(train_acc, label='train')\n",
        "plt.plot(dev_acc, label='dev')\n",
        "plt.legend()\n",
        "plt.show()"
      ],
      "metadata": {
        "colab": {
          "base_uri": "https://localhost:8080/",
          "height": 513
        },
        "id": "oOGQ9syenuh5",
        "outputId": "f5af6ce5-5ab8-4dd2-94cc-6ead2d9ca7ce"
      },
      "execution_count": 120,
      "outputs": [
        {
          "output_type": "display_data",
          "data": {
            "text/plain": [
              "<Figure size 432x288 with 1 Axes>"
            ],
            "image/png": "[encoded data removed]"
          },
          "metadata": {
            "needs_background": "light"
          }
        },
        {
          "output_type": "display_data",
          "data": {
            "text/plain": [
              "<Figure size 432x288 with 1 Axes>"
            ],
            "image/png": "[encoded data removed]"
          },
          "metadata": {
            "needs_background": "light"
          }
        }
      ]
    },
    {
      "cell_type": "code",
      "source": [
        "# evaluate on the test set\n",
        "with torch.no_grad():\n",
        "    running_loss = 0.0\n",
        "    running_acc = 0.0\n",
        "    for i, (tfidf, sentiment) in enumerate(test_loader):\n",
        "        tfidf = tfidf.to(device)\n",
        "        sentiment = sentiment.to(device)\n",
        "        outputs = model(tfidf)\n",
        "        loss = loss_fn(outputs, sentiment)\n",
        "        running_loss += loss.item()\n",
        "        running_acc += (torch.argmax(outputs, dim=1) == sentiment).sum().item()\n",
        "    test_loss = running_loss / len(test_loader)\n",
        "    test_acc = running_acc / len(test_loader.dataset)\n",
        "    print(f'Test Loss: {test_loss:.4f}, Test Accuracy: {test_acc:.4f}')"
      ],
      "metadata": {
        "colab": {
          "base_uri": "https://localhost:8080/"
        },
        "id": "iLWstpmWqjK3",
        "outputId": "15fa16a0-2aa8-430d-d112-f7389937c84f"
      },
      "execution_count": 121,
      "outputs": [
        {
          "output_type": "stream",
          "name": "stdout",
          "text": [
            "Test Loss: 1.0187, Test Accuracy: 0.4963\n"
          ]
        }
      ]
    }
  ],
  "metadata": {
    "kernelspec": {
      "display_name": "Python 3",
      "language": "python",
      "name": "python3"
    },
    "language_info": {
      "codemirror_mode": {
        "name": "ipython",
        "version": 3
      },
      "file_extension": ".py",
      "mimetype": "text/x-python",
      "name": "python",
      "nbconvert_exporter": "python",
      "pygments_lexer": "ipython3",
      "version": "3.9.0"
    },
    "orig_nbformat": 4,
    "vscode": {
      "interpreter": {
        "hash": "4fbe9694f7587329a2893969593bb646d9caf203732995a36644052b7dd475e8"
      }
    },
    "colab": {
      "provenance": [],
      "include_colab_link": true
    },
    "accelerator": "GPU",
    "gpuClass": "standard"
  },
  "nbformat": 4,
  "nbformat_minor": 0
}