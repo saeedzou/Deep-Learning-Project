{
  "cells": [
    {
      "cell_type": "markdown",
      "metadata": {
        "id": "view-in-github",
        "colab_type": "text"
      },
      "source": [
        "<a href=\"https://colab.research.google.com/github/saeedzou/Deep-Learning-Project/blob/dev-saeed/Phase%202.ipynb\" target=\"_parent\"><img src=\"https://colab.research.google.com/assets/colab-badge.svg\" alt=\"Open In Colab\"/></a>"
      ]
    },
    {
      "cell_type": "code",
      "source": [
        "# This block downloads and preprocesses the needed data for the project\n",
        "!git clone https://github.com/XL2248/MSCTD\n",
        "!cp MSCTD/MSCTD_data/ende/eng* .\n",
        "!cp MSCTD/MSCTD_data/ende/ima* .\n",
        "!cp MSCTD/MSCTD_data/ende/sent* .\n",
        "!rm -rf MSCTD\n",
        "!pip -q install --upgrade --no-cache-dir gdown\n",
        "!gdown 1-43sQYxSCsCIxQjOCAS-H4dDI6c2zgi8\n",
        "!gdown 1k-m84NIuOOTbXjn6ELwj1qBeH7jsN6IO\n",
        "!gdown 1-0Gg-qpqJpNfLPU7DT81UaFgwu8DVn15\n",
        "!unzip -q train_ende.zip\n",
        "!unzip -q dev.zip\n",
        "!unzip -q test.zip\n",
        "!mv train_ende train\n",
        "!mkdir train/image\n",
        "!mkdir dev/image\n",
        "!mkdir test/image\n",
        "!mv train/*.jpg train/image\n",
        "!mv dev/*.jpg dev/image\n",
        "!mv test/*.jpg test/image\n",
        "!mv *train.txt train\n",
        "!mv *dev.txt dev\n",
        "!mv *test.txt test"
      ],
      "metadata": {
        "colab": {
          "base_uri": "https://localhost:8080/"
        },
        "id": "FBwW2kvXty3T",
        "outputId": "36438f57-d4fd-4290-a492-984828e2ca7a"
      },
      "execution_count": 2,
      "outputs": [
        {
          "output_type": "stream",
          "name": "stdout",
          "text": [
            "Cloning into 'MSCTD'...\n",
            "remote: Enumerating objects: 1217, done.\u001b[K\n",
            "remote: Counting objects: 100% (27/27), done.\u001b[K\n",
            "remote: Compressing objects: 100% (23/23), done.\u001b[K\n",
            "remote: Total 1217 (delta 13), reused 7 (delta 3), pack-reused 1190\u001b[K\n",
            "Receiving objects: 100% (1217/1217), 102.24 MiB | 17.85 MiB/s, done.\n",
            "Resolving deltas: 100% (616/616), done.\n",
            "Updating files: 100% (934/934), done.\n",
            "Downloading...\n",
            "From: https://drive.google.com/uc?id=1-43sQYxSCsCIxQjOCAS-H4dDI6c2zgi8\n",
            "To: /content/train_ende.zip\n",
            "100% 2.90G/2.90G [00:28<00:00, 101MB/s] \n",
            "Downloading...\n",
            "From: https://drive.google.com/uc?id=1k-m84NIuOOTbXjn6ELwj1qBeH7jsN6IO\n",
            "To: /content/dev.zip\n",
            "100% 638M/638M [00:06<00:00, 99.7MB/s]\n",
            "Downloading...\n",
            "From: https://drive.google.com/uc?id=1-0Gg-qpqJpNfLPU7DT81UaFgwu8DVn15\n",
            "To: /content/test.zip\n",
            "100% 641M/641M [00:08<00:00, 72.9MB/s]\n"
          ]
        }
      ]
    },
    {
      "cell_type": "code",
      "execution_count": 8,
      "metadata": {
        "colab": {
          "base_uri": "https://localhost:8080/"
        },
        "id": "gF8LxEI0tp74",
        "outputId": "c3174dc0-f84f-4868-c0e4-1fec2e1d9d80"
      },
      "outputs": [
        {
          "output_type": "stream",
          "name": "stderr",
          "text": [
            "[nltk_data] Downloading package stopwords to /root/nltk_data...\n",
            "[nltk_data]   Package stopwords is already up-to-date!\n",
            "[nltk_data] Downloading package omw-1.4 to /root/nltk_data...\n",
            "[nltk_data] Downloading package punkt to /root/nltk_data...\n",
            "[nltk_data]   Package punkt is already up-to-date!\n",
            "[nltk_data] Downloading package averaged_perceptron_tagger to\n",
            "[nltk_data]     /root/nltk_data...\n",
            "[nltk_data]   Package averaged_perceptron_tagger is already up-to-\n",
            "[nltk_data]       date!\n",
            "[nltk_data] Downloading package wordnet to /root/nltk_data...\n",
            "[nltk_data]   Package wordnet is already up-to-date!\n"
          ]
        }
      ],
      "source": [
        "import numpy as np\n",
        "import pandas as pd\n",
        "import re\n",
        "import nltk\n",
        "import nltk.tokenize as tokenize\n",
        "from nltk.corpus import stopwords\n",
        "from nltk.stem import WordNetLemmatizer\n",
        "from nltk.tokenize import word_tokenize\n",
        "from nltk.corpus import wordnet\n",
        "nltk.download('stopwords')\n",
        "nltk.download('omw-1.4')\n",
        "nltk.download('punkt')\n",
        "nltk.download('averaged_perceptron_tagger')\n",
        "nltk.download('wordnet')\n",
        "stop_words = set(stopwords.words(\"english\"))\n",
        "lemmatizer = WordNetLemmatizer()\n",
        "from sklearn.svm import LinearSVC\n",
        "from sklearn.metrics import classification_report, confusion_matrix\n",
        "from sklearn.feature_extraction.text import TfidfVectorizer\n",
        "import torch\n",
        "import torch.nn as nn\n",
        "import torch.nn.functional as F\n",
        "import torch.optim as optim\n",
        "from torch.utils.data import Dataset, DataLoader\n",
        "import os\n",
        "import string\n",
        "import re"
      ]
    },
    {
      "cell_type": "code",
      "execution_count": 9,
      "metadata": {
        "id": "yDWtqHh0tp7-"
      },
      "outputs": [],
      "source": [
        "class MSCTD(Dataset):\n",
        "    \"\"\"\n",
        "    :param root: root path of the dataset\n",
        "    :param split: train, dev, test\n",
        "    :param image_transform: transform for image\n",
        "    :param text_transform: transform for text\n",
        "    :param sentiment_transform: transform for sentiment\n",
        "    :param has_data: dict, whether the dataset has image, text\n",
        "    :param text_path: path of the text file\n",
        "    :param image_path: path of the image folder\n",
        "    :param sentiment_path: path of the sentiment file\n",
        "    :param image_index_path: path of the image index file\n",
        "\n",
        "    :return: combination of image, sentiment, text, image_index\n",
        "\n",
        "    Example:\n",
        "    >>> from torchvision import transforms\n",
        "    >>> image_transform = transforms.Compose([\n",
        "    >>>     transforms.Resize((640, 1280)),\n",
        "    >>>     transforms.Lambda(lambda x: x.permute(1, 2, 0))\n",
        "    >>> ])\n",
        "    >>> text_transform = None\n",
        "    >>> sentiment_transform = None\n",
        "    >>> dataset = MSCTD(root='data', split='train', image_transform=image_transform,\n",
        "    >>>                 text_transform=text_transform, sentiment_transform=sentiment_transform)\n",
        "    >>> image, text, sentiment = dataset[0]\n",
        "\n",
        "    \"\"\"\n",
        "    def __init__(self, root, split, image_transform=None, text_transform=None, sentiment_transform=None,\n",
        "                 has_data={'image': True, 'text': True}, text_path=None, image_path=None, sentiment_path=None,\n",
        "                 image_index_path=None):\n",
        "        data_path = os.path.join(root, split)\n",
        "        default_path = {\n",
        "            'text': os.path.join(data_path, 'english_' + split + '.txt'),\n",
        "            'image': os.path.join(data_path, 'image'),\n",
        "            'sentiment': os.path.join(data_path, 'sentiment_' + split + '.txt'),\n",
        "            'image_index': os.path.join(data_path, 'image_index_' + split + '.txt'),\n",
        "        }\n",
        "        self.image = [] if has_data['image'] else None\n",
        "        self.image_transform = image_transform\n",
        "        self.image_path = image_path if image_path else default_path['image']\n",
        "        self.text = [] if has_data['text'] else None\n",
        "        self.text_transform = text_transform\n",
        "        self.text_path = text_path if text_path else default_path['text']\n",
        "        self.sentiment_path = sentiment_path if sentiment_path else default_path['sentiment']\n",
        "        self.image_index_path = image_index_path if image_index_path else default_path['image_index']\n",
        "        self.sentiment = []\n",
        "        self.image_index = []\n",
        "        self.sentiment_transform = sentiment_transform\n",
        "        self.load_data()\n",
        "        \n",
        "    def load_data(self):\n",
        "        self.sentiment = np.loadtxt(self.sentiment_path, dtype=int)\n",
        "        if self.text is not None:\n",
        "            with open(self.text_path, 'r') as f:\n",
        "                self.text = f.readlines()\n",
        "            self.text = [x.strip() for x in self.text]\n",
        "        with open(self.image_index_path, 'r') as f:\n",
        "            data = f.readlines()\n",
        "        self.image_index = [list(map(int, x[1:-2].split(','))) for x in data]\n",
        "\n",
        "    def __getitem__(self, index):\n",
        "        image = None\n",
        "        text = None\n",
        "        sentiment = self.sentiment[index]\n",
        "        if self.image is not None:\n",
        "            imag_path = os.path.join(self.image_path, str(index)+'.jpg')\n",
        "            image = read_image(imag_path)\n",
        "            if self.image_transform:\n",
        "                image = self.image_transform(image)\n",
        "        if self.text is not None:\n",
        "            text = self.text[index]\n",
        "            if self.text_transform:\n",
        "                text = self.text_transform(text)\n",
        "        if self.sentiment_transform:\n",
        "            sentiment = self.sentiment_transform(sentiment)\n",
        "        if text is not None and image is not None:\n",
        "            return image, text, sentiment\n",
        "        elif text is not None:\n",
        "            return text, sentiment\n",
        "        elif image is not None:\n",
        "            return image, sentiment\n",
        "        else:\n",
        "            raise Exception('Either image or text should be not None')\n",
        "\n",
        "    def __len__(self):\n",
        "        return len(self.sentiment)"
      ]
    },
    {
      "cell_type": "code",
      "execution_count": 147,
      "metadata": {
        "id": "WQB8Ofb_tp8A"
      },
      "outputs": [],
      "source": [
        "MSCTD_train = MSCTD(root='.', split='train', has_data={'image': False, 'text': True})\n",
        "MSCTD_dev = MSCTD(root='.', split='dev', has_data={'image': False, 'text': True})\n",
        "MSCTD_test = MSCTD(root='.', split='test', has_data={'image': False, 'text': True})"
      ]
    },
    {
      "cell_type": "code",
      "execution_count": 148,
      "metadata": {
        "id": "rcQACtNXtp8B"
      },
      "outputs": [],
      "source": [
        "def get_wordnet_pos(word):\n",
        "    \"\"\"Map POS tag to first character used by WordNetLemmatizer\"\"\"\n",
        "    tag = nltk.pos_tag([word])[0][1][0].upper()\n",
        "    tag_dict = {\"J\": wordnet.ADJ,\n",
        "                \"N\": wordnet.NOUN,\n",
        "                \"V\": wordnet.VERB,\n",
        "                \"R\": wordnet.ADV}\n",
        "\n",
        "    return tag_dict.get(tag, wordnet.NOUN)\n",
        "\n",
        "def text_preprocessor(dataset):\n",
        "      # preprocess text\n",
        "      dataset.text = [preprocess_text(text) for text in dataset.text]\n",
        "\n",
        "def preprocess_text(text):\n",
        "      # Replace contractions with original text\n",
        "  text = re.sub(r'(\\b[Aa]in\\'t\\b)', \"am not\", text)\n",
        "  text = re.sub(r'(\\b[Hh]a\\'t\\b)', \"has\", text)\n",
        "  text = re.sub(r'(\\b[Ii]\\'m\\b)', \"i am\", text)\n",
        "  # convert 's to is\n",
        "  text = re.sub(r'(\\b\\'s\\b)', \" is\", text)\n",
        "  text = re.sub(r'(\\b\\'re\\b)', \" are\", text)\n",
        "  text = re.sub(r'(\\b\\'ve\\b)', \" have\", text)\n",
        "  text = re.sub(r'(\\b\\'d\\b)', \" would\", text)\n",
        "  text = re.sub(r'(\\b\\'ll\\b)', \" will\", text)\n",
        "  text = re.sub(r'(\\b[Ss]han\\'t\\b)', \"shall not\", text)\n",
        "  text = re.sub(r'(\\b[Ww]on\\'t\\b)', \"will not\", text)\n",
        "  text = re.sub(r'(\\b[Ww]ouldn\\'t\\b)', \"would not\", text)\n",
        "  text = re.sub(r'(\\b[Dd]on\\'t\\b)', \"do not\", text)\n",
        "  text = re.sub(r'(\\b[Cc]an\\'t\\b)', \"can not\", text)\n",
        "  text = re.sub(r'(\\b[Ii]s\\'nt\\b)', \"is not\", text)\n",
        "  text = re.sub(r'(\\b[Ww]eren\\'t\\b)', \"were not\", text)\n",
        "  text = re.sub(r'(\\b[Hh]aven\\'t\\b)', \"have not\", text)\n",
        "  text = re.sub(r'(\\b[Hh]adn\\'t\\b)', \"had not\", text)\n",
        "  text = re.sub(r'(\\b[Hh]asn\\'t\\b)', \"has not\", text)\n",
        "  text = re.sub(r'(\\b[Hh]adn\\'t\\b)', \"had not\", text)\n",
        "  text = re.sub(r'(\\b[Dd]idn\\'t\\b)', \"did not\", text)\n",
        "\n",
        "  # Remove punctuation\n",
        "  text = text.translate(str.maketrans(\"\", \"\", string.punctuation))\n",
        "\n",
        "  # Convert to lowercase\n",
        "  text = text.lower()\n",
        "\n",
        "  # Tokenize text\n",
        "  tokens = word_tokenize(text)\n",
        "\n",
        "  # Remove stop words\n",
        "  # tokens = [token for token in tokens if token not in stop_words]\n",
        "  # Remove numbers\n",
        "  tokens = [token for token in tokens if token.isalpha()]\n",
        "\n",
        "  # Lemmatize tokens\n",
        "  tokens = [lemmatizer.lemmatize(token, get_wordnet_pos(token)) for token in tokens]\n",
        "\n",
        "  return ' '.join(tokens)\n",
        "\n",
        "# Test the TextPreprocessor\n",
        "text_preprocessor(MSCTD_train)\n",
        "text_preprocessor(MSCTD_dev)\n",
        "text_preprocessor(MSCTD_test)"
      ]
    },
    {
      "cell_type": "code",
      "source": [
        "class TFIDFProcessor:\n",
        "    def __init__(self, dataset):\n",
        "        self.dataset = dataset\n",
        "        self.tfidf = TfidfVectorizer()\n",
        "        self.tfidf_matrix = None\n",
        "\n",
        "    def fit(self):\n",
        "        # Get all the captions from the dataset\n",
        "        captions = [caption for caption, _ in self.dataset]\n",
        "\n",
        "        # Fit the TF-IDF model on the captions\n",
        "        self.tfidf_matrix = self.tfidf.fit_transform(captions)\n",
        "\n",
        "    def transform(self, caption):\n",
        "        # Transform the input caption using the fitted TF-IDF model\n",
        "        tfidf_vector = self.tfidf.transform([caption])\n",
        "\n",
        "        # Convert the resulting sparse matrix to a dense numpy array\n",
        "        return np.array(tfidf_vector.todense()).squeeze(0)\n",
        "\n",
        "    def __getitem__(self, index):\n",
        "        # Get the caption and sentiment from the dataset\n",
        "        caption, sentiment = self.dataset[index]\n",
        "\n",
        "        # Transform the caption using the TF-IDF model\n",
        "        tfidf_vector = self.transform(caption)\n",
        "\n",
        "        return tfidf_vector, sentiment"
      ],
      "metadata": {
        "id": "ulw6hKwezvvj"
      },
      "execution_count": 149,
      "outputs": []
    },
    {
      "cell_type": "code",
      "source": [
        "tfidf_processor = TFIDFProcessor(MSCTD_train)\n",
        "tfidf_processor.fit()"
      ],
      "metadata": {
        "id": "wZf7-W545And"
      },
      "execution_count": 150,
      "outputs": []
    },
    {
      "cell_type": "code",
      "source": [
        "tfidf_processor.tfidf.get_feature_names_out()"
      ],
      "metadata": {
        "colab": {
          "base_uri": "https://localhost:8080/"
        },
        "id": "qA2kOLuk5MtG",
        "outputId": "7d3ccf63-15c4-40f1-aeb1-8dd250048eda"
      },
      "execution_count": 151,
      "outputs": [
        {
          "output_type": "execute_result",
          "data": {
            "text/plain": [
              "array(['aa', 'aand', 'aaron', ..., 'zuckerberg', 'zup', 'zz'],\n",
              "      dtype=object)"
            ]
          },
          "metadata": {},
          "execution_count": 151
        }
      ]
    },
    {
      "cell_type": "code",
      "source": [
        "class TFIDFDataSet:\n",
        "    def __init__(self, dataset, tfidf_processor):\n",
        "        self.dataset = dataset\n",
        "        self.tfidf_processor = tfidf_processor\n",
        "        \n",
        "    def __getitem__(self, index):\n",
        "        # Get the caption and sentiment from the MSCTD dataset\n",
        "        caption, sentiment = self.dataset[index]\n",
        "\n",
        "        # Convert the caption to a TF-IDF vector using the TFIDFProcessor\n",
        "        tfidf_vector = self.tfidf_processor.transform(caption)\n",
        "\n",
        "        # Return the TF-IDF vector and sentiment\n",
        "        return torch.from_numpy(tfidf_vector.astype(np.float32)), torch.from_numpy(np.array(sentiment))\n",
        "\n",
        "    def __len__(self):\n",
        "        return len(self.dataset)"
      ],
      "metadata": {
        "id": "_sRmIQnc3cRB"
      },
      "execution_count": 183,
      "outputs": []
    },
    {
      "cell_type": "code",
      "source": [
        "train_dataset = TFIDFDataSet(MSCTD_train, tfidf_processor)\n",
        "dev_dataset = TFIDFDataSet(MSCTD_dev, tfidf_processor)\n",
        "test_dataset = TFIDFDataSet(MSCTD_dev, tfidf_processor)"
      ],
      "metadata": {
        "id": "LpeOaxLw8-FF"
      },
      "execution_count": 184,
      "outputs": []
    },
    {
      "cell_type": "code",
      "source": [
        "# data loader\n",
        "train_loader = DataLoader(train_dataset, batch_size=32, shuffle=True)\n",
        "dev_loader = DataLoader(dev_dataset, batch_size=32, shuffle=True)\n",
        "test_loader = DataLoader(test_dataset, batch_size=32, shuffle=True)"
      ],
      "metadata": {
        "id": "kfz_QK7v9Flj"
      },
      "execution_count": 198,
      "outputs": []
    },
    {
      "cell_type": "code",
      "source": [
        "class MLPClassifier(nn.Module):\n",
        "  def __init__(self, input_size, num_classes):\n",
        "    super(MLPClassifier, self).__init__()\n",
        "    self.linear = nn.Linear(input_size, num_classes)\n",
        "\n",
        "  def forward(self, x):\n",
        "    return self.linear(x)\n",
        "device = torch.device(\"cuda:0\" if torch.cuda.is_available() else \"cpu\")\n",
        "input_size = len(tfidf_processor.tfidf.get_feature_names_out())\n",
        "num_classes = 3\n",
        "model = MLPClassifier(input_size, num_classes)\n",
        "model = model.to(device)\n",
        "loss_fn = nn.CrossEntropyLoss()\n",
        "optimizer = torch.optim.Adam(model.parameters(), lr=0.001)"
      ],
      "metadata": {
        "id": "Nm9COjY39T6D"
      },
      "execution_count": 216,
      "outputs": []
    },
    {
      "cell_type": "code",
      "source": [
        "# Train the model for 10 epochs\n",
        "train_loss = []\n",
        "dev_loss = []\n",
        "train_acc = []\n",
        "dev_acc = []\n",
        "for epoch in range(10):\n",
        "    running_loss = 0.0\n",
        "    running_acc = 0.0\n",
        "    for i, (tfidf, sentiment) in enumerate(train_loader):\n",
        "        tfidf = tfidf.to(device)\n",
        "        sentiment = sentiment.to(device)\n",
        "        \n",
        "        outputs = model(tfidf)\n",
        "        # if i > 630:\n",
        "        #   print(tfidf.shape, sentiment.shape, outputs.shape)\n",
        "        loss = loss_fn(outputs, sentiment)\n",
        "        # backward and optimize\n",
        "        optimizer.zero_grad()\n",
        "        loss.backward()\n",
        "        optimizer.step()\n",
        "        running_loss += loss.item()\n",
        "        running_acc += (torch.argmax(outputs, dim=1) == sentiment).sum().item()\n",
        "    train_loss.append(running_loss / len(train_loader))\n",
        "    train_acc.append(running_acc / len(train_loader.dataset))\n",
        "    print(f'Epoch {epoch+1}/{10}, Training Loss: {train_loss[-1]:.4f}, Training Accuracy: {train_acc[-1]:.4f}')\n",
        "    # Evaluate on the dev set\n",
        "    with torch.no_grad():\n",
        "        running_loss = 0.0\n",
        "        running_acc = 0.0\n",
        "        for i, (tfidf, sentiment) in enumerate(dev_loader):\n",
        "            tfidf = tfidf.to(device)\n",
        "            sentiment = sentiment.to(device)\n",
        "            outputs = model(tfidf)\n",
        "            loss = loss_fn(outputs, sentiment)\n",
        "            running_loss += loss.item()\n",
        "            running_acc += (torch.argmax(outputs, dim=1) == sentiment).sum().item()\n",
        "        dev_loss.append(running_loss / len(dev_loader))\n",
        "        dev_acc.append(running_acc / len(dev_loader.dataset))\n",
        "        print(f'Epoch {epoch+1}/{10}, Dev Loss: {dev_loss[-1]:.4f}, Dev Accuracy: {dev_acc[-1]:.4f}')\n",
        "        \n",
        "\n",
        "    "
      ],
      "metadata": {
        "id": "YZTzBpGl9oXh",
        "outputId": "b24ea567-6a52-4da7-dab7-2369c3e63ff4",
        "colab": {
          "base_uri": "https://localhost:8080/"
        }
      },
      "execution_count": 217,
      "outputs": [
        {
          "output_type": "stream",
          "name": "stdout",
          "text": [
            "Epoch 1/10, Training Loss: 1.0715, Training Accuracy: 0.4122\n",
            "Epoch 1/10, Dev Loss: 1.0638, Dev Accuracy: 0.4175\n",
            "Epoch 2/10, Training Loss: 1.0286, Training Accuracy: 0.5189\n",
            "Epoch 2/10, Dev Loss: 1.0414, Dev Accuracy: 0.4705\n",
            "Epoch 3/10, Training Loss: 0.9944, Training Accuracy: 0.5756\n",
            "Epoch 3/10, Dev Loss: 1.0247, Dev Accuracy: 0.4938\n",
            "Epoch 4/10, Training Loss: 0.9660, Training Accuracy: 0.6038\n",
            "Epoch 4/10, Dev Loss: 1.0116, Dev Accuracy: 0.5023\n",
            "Epoch 5/10, Training Loss: 0.9419, Training Accuracy: 0.6206\n",
            "Epoch 5/10, Dev Loss: 1.0016, Dev Accuracy: 0.5078\n",
            "Epoch 6/10, Training Loss: 0.9209, Training Accuracy: 0.6369\n",
            "Epoch 6/10, Dev Loss: 0.9940, Dev Accuracy: 0.5110\n",
            "Epoch 7/10, Training Loss: 0.9023, Training Accuracy: 0.6469\n",
            "Epoch 7/10, Dev Loss: 0.9894, Dev Accuracy: 0.5133\n",
            "Epoch 8/10, Training Loss: 0.8856, Training Accuracy: 0.6551\n",
            "Epoch 8/10, Dev Loss: 0.9851, Dev Accuracy: 0.5151\n",
            "Epoch 9/10, Training Loss: 0.8706, Training Accuracy: 0.6631\n",
            "Epoch 9/10, Dev Loss: 0.9822, Dev Accuracy: 0.5191\n",
            "Epoch 10/10, Training Loss: 0.8570, Training Accuracy: 0.6680\n",
            "Epoch 10/10, Dev Loss: 0.9799, Dev Accuracy: 0.5200\n"
          ]
        }
      ]
    },
    {
      "cell_type": "code",
      "source": [
        "import matplotlib.pyplot as plt\n",
        "plt.plot(train_loss, label='train')\n",
        "plt.plot(dev_loss, label='dev')\n",
        "plt.legend()\n",
        "plt.show()\n",
        "plt.plot(train_acc, label='train')\n",
        "plt.plot(dev_acc, label='dev')\n",
        "plt.legend()\n",
        "plt.show()"
      ],
      "metadata": {
        "id": "wycwZ0lYDF2O",
        "outputId": "6886c7a2-5d55-4a6a-df4d-381535106db3",
        "colab": {
          "base_uri": "https://localhost:8080/",
          "height": 513
        }
      },
      "execution_count": 218,
      "outputs": [
        {
          "output_type": "display_data",
          "data": {
            "text/plain": [
              "<Figure size 432x288 with 1 Axes>"
            ],
            "image/png": "[encoded data removed]"
          },
          "metadata": {
            "needs_background": "light"
          }
        },
        {
          "output_type": "display_data",
          "data": {
            "text/plain": [
              "<Figure size 432x288 with 1 Axes>"
            ],
            "image/png": "[encoded data removed]"
          },
          "metadata": {
            "needs_background": "light"
          }
        }
      ]
    },
    {
      "cell_type": "code",
      "source": [
        "# evaluate on the test set\n",
        "with torch.no_grad():\n",
        "    running_loss = 0.0\n",
        "    running_acc = 0.0\n",
        "    for i, (tfidf, sentiment) in enumerate(test_loader):\n",
        "        tfidf = tfidf.to(device)\n",
        "        sentiment = sentiment.to(device)\n",
        "        outputs = model(tfidf)\n",
        "        loss = loss_fn(outputs, sentiment)\n",
        "        running_loss += loss.item()\n",
        "        running_acc += (torch.argmax(outputs, dim=1) == sentiment).sum().item()\n",
        "    test_loss = running_loss / len(test_loader)\n",
        "    test_acc = running_acc / len(test_loader.dataset)\n",
        "    print(f'Test Loss: {test_loss:.4f}, Test Accuracy: {test_acc:.4f}')"
      ],
      "metadata": {
        "id": "IAgD3xqo_b9S",
        "outputId": "638330c8-9309-4cca-a2e1-14ca58f5af63",
        "colab": {
          "base_uri": "https://localhost:8080/"
        }
      },
      "execution_count": 219,
      "outputs": [
        {
          "output_type": "stream",
          "name": "stdout",
          "text": [
            "Test Loss: 0.9794, Test Accuracy: 0.5200\n"
          ]
        }
      ]
    }
  ],
  "metadata": {
    "kernelspec": {
      "display_name": "Python 3",
      "language": "python",
      "name": "python3"
    },
    "language_info": {
      "codemirror_mode": {
        "name": "ipython",
        "version": 3
      },
      "file_extension": ".py",
      "mimetype": "text/x-python",
      "name": "python",
      "nbconvert_exporter": "python",
      "pygments_lexer": "ipython3",
      "version": "3.9.0"
    },
    "orig_nbformat": 4,
    "vscode": {
      "interpreter": {
        "hash": "4fbe9694f7587329a2893969593bb646d9caf203732995a36644052b7dd475e8"
      }
    },
    "colab": {
      "provenance": [],
      "include_colab_link": true
    },
    "accelerator": "GPU",
    "gpuClass": "standard"
  },
  "nbformat": 4,
  "nbformat_minor": 0
}