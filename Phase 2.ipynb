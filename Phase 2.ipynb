{
  "cells": [
    {
      "cell_type": "markdown",
      "metadata": {
        "id": "view-in-github",
        "colab_type": "text"
      },
      "source": [
        "<a href=\"https://colab.research.google.com/github/saeedzou/Deep-Learning-Project/blob/dev-saeed/Phase%202.ipynb\" target=\"_parent\"><img src=\"https://colab.research.google.com/assets/colab-badge.svg\" alt=\"Open In Colab\"/></a>"
      ]
    },
    {
      "cell_type": "markdown",
      "source": [
        "# Student Names : \n",
        "# Saeedreza Zouahkiani, Masoud Rahimi, Ehsanollah Shourezari"
      ],
      "metadata": {
        "id": "DBZ6Qqyz2xDl"
      }
    },
    {
      "cell_type": "code",
      "source": [
        "# This block downloads and preprocesses the needed data for the project\n",
        "!git clone https://github.com/XL2248/MSCTD\n",
        "!cp MSCTD/MSCTD_data/ende/eng* .\n",
        "!cp MSCTD/MSCTD_data/ende/ima* .\n",
        "!cp MSCTD/MSCTD_data/ende/sent* .\n",
        "!rm -rf MSCTD\n",
        "!mkdir train\n",
        "!mkdir dev\n",
        "!mkdir test\n",
        "!mv *train.txt train\n",
        "!mv *dev.txt dev\n",
        "!mv *test.txt test"
      ],
      "metadata": {
        "colab": {
          "base_uri": "https://localhost:8080/"
        },
        "id": "FBwW2kvXty3T",
        "outputId": "2a85eec2-a2e4-41ca-9be1-fac5c75884c5"
      },
      "execution_count": null,
      "outputs": [
        {
          "output_type": "stream",
          "name": "stdout",
          "text": [
            "Cloning into 'MSCTD'...\n",
            "remote: Enumerating objects: 1217, done.\u001b[K\n",
            "remote: Counting objects: 100% (27/27), done.\u001b[K\n",
            "remote: Compressing objects: 100% (23/23), done.\u001b[K\n",
            "remote: Total 1217 (delta 13), reused 7 (delta 3), pack-reused 1190\u001b[K\n",
            "Receiving objects: 100% (1217/1217), 102.24 MiB | 14.10 MiB/s, done.\n",
            "Resolving deltas: 100% (616/616), done.\n",
            "Updating files: 100% (934/934), done.\n"
          ]
        }
      ]
    },
    {
      "cell_type": "code",
      "execution_count": null,
      "metadata": {
        "colab": {
          "base_uri": "https://localhost:8080/"
        },
        "id": "gF8LxEI0tp74",
        "outputId": "584f256d-4d9d-400b-d42b-94d5cd638661"
      },
      "outputs": [
        {
          "output_type": "stream",
          "name": "stderr",
          "text": [
            "[nltk_data] Downloading package stopwords to /root/nltk_data...\n",
            "[nltk_data]   Unzipping corpora/stopwords.zip.\n",
            "[nltk_data] Downloading package omw-1.4 to /root/nltk_data...\n",
            "[nltk_data] Downloading package punkt to /root/nltk_data...\n",
            "[nltk_data]   Unzipping tokenizers/punkt.zip.\n",
            "[nltk_data] Downloading package averaged_perceptron_tagger to\n",
            "[nltk_data]     /root/nltk_data...\n",
            "[nltk_data]   Unzipping taggers/averaged_perceptron_tagger.zip.\n",
            "[nltk_data] Downloading package wordnet to /root/nltk_data...\n"
          ]
        }
      ],
      "source": [
        "import numpy as np\n",
        "import pandas as pd\n",
        "import nltk\n",
        "import nltk.tokenize as tokenize\n",
        "from nltk.corpus import stopwords\n",
        "from nltk.stem import WordNetLemmatizer\n",
        "from nltk.tokenize import word_tokenize\n",
        "from nltk.corpus import wordnet\n",
        "nltk.download('stopwords')\n",
        "nltk.download('omw-1.4')\n",
        "nltk.download('punkt')\n",
        "nltk.download('averaged_perceptron_tagger')\n",
        "nltk.download('wordnet')\n",
        "stop_words = set(stopwords.words(\"english\"))\n",
        "lemmatizer = WordNetLemmatizer()\n",
        "from sklearn.svm import LinearSVC\n",
        "from sklearn.metrics import classification_report, confusion_matrix\n",
        "from sklearn.feature_extraction.text import TfidfVectorizer\n",
        "import torch\n",
        "import torch.nn as nn\n",
        "import torch.nn.functional as F\n",
        "import torch.optim as optim\n",
        "from torch.utils.data import Dataset, DataLoader\n",
        "import os\n",
        "import string\n",
        "import re\n",
        "import gc\n",
        "import random\n",
        "import matplotlib.pyplot as plt\n",
        "!pip install -q transformers\n",
        "import seaborn as sns\n",
        "from transformers import BertTokenizer\n",
        "from transformers import BertModel"
      ]
    },
    {
      "cell_type": "code",
      "execution_count": null,
      "metadata": {
        "id": "yDWtqHh0tp7-"
      },
      "outputs": [],
      "source": [
        "class MSCTD(Dataset):\n",
        "    \"\"\"\n",
        "    :param root: root path of the dataset\n",
        "    :param split: train, dev, test\n",
        "    :param image_transform: transform for image\n",
        "    :param text_transform: transform for text\n",
        "    :param sentiment_transform: transform for sentiment\n",
        "    :param has_data: dict, whether the dataset has image, text\n",
        "    :param text_path: path of the text file\n",
        "    :param image_path: path of the image folder\n",
        "    :param sentiment_path: path of the sentiment file\n",
        "    :param image_index_path: path of the image index file\n",
        "\n",
        "    :return: combination of image, sentiment, text, image_index\n",
        "\n",
        "    Example:\n",
        "    >>> from torchvision import transforms\n",
        "    >>> image_transform = transforms.Compose([\n",
        "    >>>     transforms.Resize((640, 1280)),\n",
        "    >>>     transforms.Lambda(lambda x: x.permute(1, 2, 0))\n",
        "    >>> ])\n",
        "    >>> text_transform = None\n",
        "    >>> sentiment_transform = None\n",
        "    >>> dataset = MSCTD(root='data', split='train', image_transform=image_transform,\n",
        "    >>>                 text_transform=text_transform, sentiment_transform=sentiment_transform)\n",
        "    >>> image, text, sentiment = dataset[0]\n",
        "\n",
        "    \"\"\"\n",
        "    def __init__(self, root, split, image_transform=None, text_transform=None, sentiment_transform=None,\n",
        "                 has_data={'image': True, 'text': True}, text_path=None, image_path=None, sentiment_path=None,\n",
        "                 image_index_path=None):\n",
        "        data_path = os.path.join(root, split)\n",
        "        default_path = {\n",
        "            'text': os.path.join(data_path, 'english_' + split + '.txt'),\n",
        "            'image': os.path.join(data_path, 'image'),\n",
        "            'sentiment': os.path.join(data_path, 'sentiment_' + split + '.txt'),\n",
        "            'image_index': os.path.join(data_path, 'image_index_' + split + '.txt'),\n",
        "        }\n",
        "        self.image = [] if has_data['image'] else None\n",
        "        self.image_transform = image_transform\n",
        "        self.image_path = image_path if image_path else default_path['image']\n",
        "        self.text = [] if has_data['text'] else None\n",
        "        self.text_transform = text_transform\n",
        "        self.text_path = text_path if text_path else default_path['text']\n",
        "        self.sentiment_path = sentiment_path if sentiment_path else default_path['sentiment']\n",
        "        self.image_index_path = image_index_path if image_index_path else default_path['image_index']\n",
        "        self.sentiment = []\n",
        "        self.image_index = []\n",
        "        self.sentiment_transform = sentiment_transform\n",
        "        self.load_data()\n",
        "        \n",
        "    def load_data(self):\n",
        "        self.sentiment = np.loadtxt(self.sentiment_path, dtype=int)\n",
        "        if self.text is not None:\n",
        "            with open(self.text_path, 'r') as f:\n",
        "                self.text = f.readlines()\n",
        "            self.text = [x.strip() for x in self.text]\n",
        "        with open(self.image_index_path, 'r') as f:\n",
        "            data = f.readlines()\n",
        "        self.image_index = [list(map(int, x[1:-2].split(','))) for x in data]\n",
        "\n",
        "    def __getitem__(self, index):\n",
        "        image = None\n",
        "        text = None\n",
        "        sentiment = self.sentiment[index]\n",
        "        if self.image is not None:\n",
        "            imag_path = os.path.join(self.image_path, str(index)+'.jpg')\n",
        "            image = read_image(imag_path)\n",
        "            if self.image_transform:\n",
        "                image = self.image_transform(image)\n",
        "        if self.text is not None:\n",
        "            text = self.text[index]\n",
        "            if self.text_transform:\n",
        "                text = self.text_transform(text)\n",
        "        if self.sentiment_transform:\n",
        "            sentiment = self.sentiment_transform(sentiment)\n",
        "        if text is not None and image is not None:\n",
        "            return image, text, sentiment\n",
        "        elif text is not None:\n",
        "            return text, sentiment\n",
        "        elif image is not None:\n",
        "            return image, sentiment\n",
        "        else:\n",
        "            raise Exception('Either image or text should be not None')\n",
        "\n",
        "    def __len__(self):\n",
        "        return len(self.sentiment)"
      ]
    },
    {
      "cell_type": "code",
      "execution_count": null,
      "metadata": {
        "id": "WQB8Ofb_tp8A"
      },
      "outputs": [],
      "source": [
        "MSCTD_train = MSCTD(root='.', split='train', has_data={'image': False, 'text': True})\n",
        "MSCTD_dev = MSCTD(root='.', split='dev', has_data={'image': False, 'text': True})\n",
        "MSCTD_test = MSCTD(root='.', split='test', has_data={'image': False, 'text': True})"
      ]
    },
    {
      "cell_type": "code",
      "execution_count": null,
      "metadata": {
        "id": "rcQACtNXtp8B"
      },
      "outputs": [],
      "source": [
        "def get_wordnet_pos(word):\n",
        "    \"\"\"Map POS tag to first character used by WordNetLemmatizer\"\"\"\n",
        "    tag = nltk.pos_tag([word])[0][1][0].upper()\n",
        "    tag_dict = {\"J\": wordnet.ADJ,\n",
        "                \"N\": wordnet.NOUN,\n",
        "                \"V\": wordnet.VERB,\n",
        "                \"R\": wordnet.ADV}\n",
        "\n",
        "    return tag_dict.get(tag, wordnet.NOUN)\n",
        "\n",
        "def text_preprocessor(dataset):\n",
        "      # preprocess text\n",
        "      dataset.text = [preprocess_text(text) for text in dataset.text]\n",
        "\n",
        "def preprocess_text(text):\n",
        "      # Replace contractions with original text\n",
        "  text = re.sub(r'(\\b[Aa]in\\'t\\b)', \"am not\", text)\n",
        "  text = re.sub(r'(\\b[Hh]a\\'t\\b)', \"has\", text)\n",
        "  text = re.sub(r'(\\b[Ii]\\'m\\b)', \"i am\", text)\n",
        "  text = re.sub(r'(\\b\\'s\\b)', \" is\", text)\n",
        "  text = re.sub(r'(\\b\\'re\\b)', \" are\", text)\n",
        "  text = re.sub(r'(\\b\\'ve\\b)', \" have\", text)\n",
        "  text = re.sub(r'(\\b\\'d\\b)', \" would\", text)\n",
        "  text = re.sub(r'(\\b\\'ll\\b)', \" will\", text)\n",
        "  text = re.sub(r'(\\b[Ss]han\\'t\\b)', \"shall not\", text)\n",
        "  text = re.sub(r'(\\b[Ww]on\\'t\\b)', \"will not\", text)\n",
        "  text = re.sub(r'(\\b[Ww]ouldn\\'t\\b)', \"would not\", text)\n",
        "  text = re.sub(r'(\\b[Dd]on\\'t\\b)', \"do not\", text)\n",
        "  text = re.sub(r'(\\b[Cc]an\\'t\\b)', \"can not\", text)\n",
        "  text = re.sub(r'(\\b[Ii]s\\'nt\\b)', \"is not\", text)\n",
        "  text = re.sub(r'(\\b[Ww]eren\\'t\\b)', \"were not\", text)\n",
        "  text = re.sub(r'(\\b[Hh]aven\\'t\\b)', \"have not\", text)\n",
        "  text = re.sub(r'(\\b[Hh]adn\\'t\\b)', \"had not\", text)\n",
        "  text = re.sub(r'(\\b[Hh]asn\\'t\\b)', \"has not\", text)\n",
        "  text = re.sub(r'(\\b[Hh]adn\\'t\\b)', \"had not\", text)\n",
        "  text = re.sub(r'(\\b[Dd]idn\\'t\\b)', \"did not\", text)\n",
        "\n",
        "  # Remove punctuation\n",
        "  text = text.translate(str.maketrans(\"\", \"\", string.punctuation))\n",
        "\n",
        "  # Convert to lowercase\n",
        "  text = text.lower()\n",
        "\n",
        "  # Tokenize text\n",
        "  tokens = word_tokenize(text)\n",
        "\n",
        "  # Remove stop words\n",
        "  # tokens = [token for token in tokens if token not in stop_words]\n",
        "  # Remove numbers\n",
        "  tokens = [token for token in tokens if token.isalpha()]\n",
        "\n",
        "  # Lemmatize tokens\n",
        "  tokens = [lemmatizer.lemmatize(token, get_wordnet_pos(token)) for token in tokens]\n",
        "\n",
        "  return ' '.join(tokens)\n",
        "\n",
        "# Test the TextPreprocessor\n",
        "text_preprocessor(MSCTD_train)\n",
        "text_preprocessor(MSCTD_dev)\n",
        "text_preprocessor(MSCTD_test)"
      ]
    },
    {
      "cell_type": "markdown",
      "source": [
        "# TF-IDF Method"
      ],
      "metadata": {
        "id": "k4UKE_6dGC6Q"
      }
    },
    {
      "cell_type": "code",
      "source": [
        "class TFIDFProcessor:\n",
        "    def __init__(self, dataset):\n",
        "        self.dataset = dataset\n",
        "        self.tfidf = TfidfVectorizer()\n",
        "        self.tfidf_matrix = None\n",
        "\n",
        "    def fit(self):\n",
        "        # Get all the captions from the dataset\n",
        "        captions = [caption for caption, _ in self.dataset]\n",
        "\n",
        "        # Fit the TF-IDF model on the captions\n",
        "        self.tfidf_matrix = self.tfidf.fit_transform(captions)\n",
        "\n",
        "    def transform(self, caption):\n",
        "        # Transform the input caption using the fitted TF-IDF model\n",
        "        tfidf_vector = self.tfidf.transform([caption])\n",
        "\n",
        "        # Convert the resulting sparse matrix to a dense numpy array\n",
        "        return np.array(tfidf_vector.todense()).squeeze(0)\n",
        "\n",
        "    def __getitem__(self, index):\n",
        "        # Get the caption and sentiment from the dataset\n",
        "        caption, sentiment = self.dataset[index]\n",
        "\n",
        "        # Transform the caption using the TF-IDF model\n",
        "        tfidf_vector = self.transform(caption)\n",
        "\n",
        "        return tfidf_vector, sentiment"
      ],
      "metadata": {
        "id": "ulw6hKwezvvj"
      },
      "execution_count": null,
      "outputs": []
    },
    {
      "cell_type": "code",
      "source": [
        "tfidf_processor = TFIDFProcessor(MSCTD_train)\n",
        "tfidf_processor.fit()"
      ],
      "metadata": {
        "id": "wZf7-W545And"
      },
      "execution_count": null,
      "outputs": []
    },
    {
      "cell_type": "code",
      "source": [
        "class TFIDFDataSet:\n",
        "    def __init__(self, dataset, tfidf_processor):\n",
        "        self.dataset = dataset\n",
        "        self.tfidf_processor = tfidf_processor\n",
        "        \n",
        "    def __getitem__(self, index):\n",
        "        # Get the caption and sentiment from the MSCTD dataset\n",
        "        caption, sentiment = self.dataset[index]\n",
        "\n",
        "        # Convert the caption to a TF-IDF vector using the TFIDFProcessor\n",
        "        tfidf_vector = self.tfidf_processor.transform(caption)\n",
        "\n",
        "        # Return the TF-IDF vector and sentiment\n",
        "        return torch.from_numpy(tfidf_vector.astype(np.float32)), torch.from_numpy(np.array(sentiment))\n",
        "\n",
        "    def __len__(self):\n",
        "        return len(self.dataset)"
      ],
      "metadata": {
        "id": "_sRmIQnc3cRB"
      },
      "execution_count": null,
      "outputs": []
    },
    {
      "cell_type": "code",
      "source": [
        "train_dataset = TFIDFDataSet(MSCTD_train, tfidf_processor)\n",
        "dev_dataset = TFIDFDataSet(MSCTD_dev, tfidf_processor)\n",
        "test_dataset = TFIDFDataSet(MSCTD_dev, tfidf_processor)"
      ],
      "metadata": {
        "id": "LpeOaxLw8-FF"
      },
      "execution_count": null,
      "outputs": []
    },
    {
      "cell_type": "code",
      "source": [
        "# data loader\n",
        "train_loader = DataLoader(train_dataset, batch_size=32, shuffle=True)\n",
        "dev_loader = DataLoader(dev_dataset, batch_size=32, shuffle=True)\n",
        "test_loader = DataLoader(test_dataset, batch_size=32, shuffle=True)"
      ],
      "metadata": {
        "id": "kfz_QK7v9Flj"
      },
      "execution_count": null,
      "outputs": []
    },
    {
      "cell_type": "code",
      "source": [
        "class MLPClassifier(nn.Module):\n",
        "  def __init__(self, input_size, num_classes):\n",
        "    super(MLPClassifier, self).__init__()\n",
        "    self.linear = nn.Linear(input_size, num_classes)\n",
        "\n",
        "  def forward(self, x):\n",
        "    return self.linear(x)\n",
        "device = torch.device(\"cuda:0\" if torch.cuda.is_available() else \"cpu\")\n",
        "input_size = len(tfidf_processor.tfidf.get_feature_names_out())\n",
        "num_classes = 3\n",
        "model = MLPClassifier(input_size, num_classes)\n",
        "model = model.to(device)\n",
        "loss_fn = nn.CrossEntropyLoss()\n",
        "optimizer = torch.optim.Adam(model.parameters(), lr=0.001)"
      ],
      "metadata": {
        "id": "Nm9COjY39T6D"
      },
      "execution_count": null,
      "outputs": []
    },
    {
      "cell_type": "code",
      "source": [
        "# Train the model for 10 epochs\n",
        "train_loss = []\n",
        "dev_loss = []\n",
        "train_acc = []\n",
        "dev_acc = []\n",
        "for epoch in range(10):\n",
        "    running_loss = 0.0\n",
        "    running_acc = 0.0\n",
        "    for i, (tfidf, sentiment) in enumerate(train_loader):\n",
        "        tfidf = tfidf.to(device)\n",
        "        sentiment = sentiment.to(device)\n",
        "        \n",
        "        outputs = model(tfidf)\n",
        "        # if i > 630:\n",
        "        #   print(tfidf.shape, sentiment.shape, outputs.shape)\n",
        "        loss = loss_fn(outputs, sentiment)\n",
        "        # backward and optimize\n",
        "        optimizer.zero_grad()\n",
        "        loss.backward()\n",
        "        optimizer.step()\n",
        "        running_loss += loss.item()\n",
        "        running_acc += (torch.argmax(outputs, dim=1) == sentiment).sum().item()\n",
        "    train_loss.append(running_loss / len(train_loader))\n",
        "    train_acc.append(running_acc / len(train_loader.dataset))\n",
        "    print(f'Epoch {epoch+1}/{10}, Training Loss: {train_loss[-1]:.4f}, Training Accuracy: {train_acc[-1]:.4f}')\n",
        "    # Evaluate on the dev set\n",
        "    with torch.no_grad():\n",
        "        running_loss = 0.0\n",
        "        running_acc = 0.0\n",
        "        for i, (tfidf, sentiment) in enumerate(dev_loader):\n",
        "            tfidf = tfidf.to(device)\n",
        "            sentiment = sentiment.to(device)\n",
        "            outputs = model(tfidf)\n",
        "            loss = loss_fn(outputs, sentiment)\n",
        "            running_loss += loss.item()\n",
        "            running_acc += (torch.argmax(outputs, dim=1) == sentiment).sum().item()\n",
        "        dev_loss.append(running_loss / len(dev_loader))\n",
        "        dev_acc.append(running_acc / len(dev_loader.dataset))\n",
        "        print(f'Epoch {epoch+1}/{10}, Dev Loss: {dev_loss[-1]:.4f}, Dev Accuracy: {dev_acc[-1]:.4f}')"
      ],
      "metadata": {
        "id": "YZTzBpGl9oXh",
        "outputId": "9b3b30d8-7567-41a3-fac6-306928181692",
        "colab": {
          "base_uri": "https://localhost:8080/"
        }
      },
      "execution_count": null,
      "outputs": [
        {
          "output_type": "stream",
          "name": "stdout",
          "text": [
            "Epoch 1/10, Training Loss: 1.0713, Training Accuracy: 0.4158\n",
            "Epoch 1/10, Dev Loss: 1.0631, Dev Accuracy: 0.4274\n",
            "Epoch 2/10, Training Loss: 1.0284, Training Accuracy: 0.5178\n",
            "Epoch 2/10, Dev Loss: 1.0398, Dev Accuracy: 0.4740\n",
            "Epoch 3/10, Training Loss: 0.9943, Training Accuracy: 0.5802\n",
            "Epoch 3/10, Dev Loss: 1.0237, Dev Accuracy: 0.4926\n",
            "Epoch 4/10, Training Loss: 0.9659, Training Accuracy: 0.6027\n",
            "Epoch 4/10, Dev Loss: 1.0115, Dev Accuracy: 0.5029\n",
            "Epoch 5/10, Training Loss: 0.9418, Training Accuracy: 0.6241\n",
            "Epoch 5/10, Dev Loss: 1.0030, Dev Accuracy: 0.5092\n",
            "Epoch 6/10, Training Loss: 0.9207, Training Accuracy: 0.6353\n",
            "Epoch 6/10, Dev Loss: 0.9956, Dev Accuracy: 0.5104\n",
            "Epoch 7/10, Training Loss: 0.9020, Training Accuracy: 0.6465\n",
            "Epoch 7/10, Dev Loss: 0.9904, Dev Accuracy: 0.5119\n",
            "Epoch 8/10, Training Loss: 0.8855, Training Accuracy: 0.6539\n",
            "Epoch 8/10, Dev Loss: 0.9867, Dev Accuracy: 0.5141\n",
            "Epoch 9/10, Training Loss: 0.8704, Training Accuracy: 0.6602\n",
            "Epoch 9/10, Dev Loss: 0.9807, Dev Accuracy: 0.5179\n",
            "Epoch 10/10, Training Loss: 0.8567, Training Accuracy: 0.6696\n",
            "Epoch 10/10, Dev Loss: 0.9798, Dev Accuracy: 0.5212\n"
          ]
        }
      ]
    },
    {
      "cell_type": "code",
      "source": [
        "plt.plot(train_loss, label='train')\n",
        "plt.plot(dev_loss, label='dev')\n",
        "plt.legend()\n",
        "plt.show()\n",
        "plt.plot(train_acc, label='train')\n",
        "plt.plot(dev_acc, label='dev')\n",
        "plt.legend()\n",
        "plt.show()"
      ],
      "metadata": {
        "id": "wycwZ0lYDF2O",
        "outputId": "c9708351-56f6-4fe4-813d-8e4fef540ddb",
        "colab": {
          "base_uri": "https://localhost:8080/",
          "height": 513
        }
      },
      "execution_count": null,
      "outputs": [
        {
          "output_type": "display_data",
          "data": {
            "text/plain": [
              "<Figure size 432x288 with 1 Axes>"
            ],
            "image/png": "[encoded data removed]"
          },
          "metadata": {
            "needs_background": "light"
          }
        },
        {
          "output_type": "display_data",
          "data": {
            "text/plain": [
              "<Figure size 432x288 with 1 Axes>"
            ],
            "image/png": "[encoded data removed]"
          },
          "metadata": {
            "needs_background": "light"
          }
        }
      ]
    },
    {
      "cell_type": "code",
      "source": [
        "y_true = []\n",
        "y_pred = []\n",
        "for i, (tfidf, sentiment) in enumerate(test_loader):\n",
        "    tfidf = tfidf.to(device)\n",
        "    sentiment = sentiment.to(device)\n",
        "    outputs = model(tfidf)\n",
        "    y_true.extend(sentiment.cpu().numpy())\n",
        "    y_pred.extend(torch.argmax(outputs, dim=1).cpu().numpy())\n",
        "print(classification_report(y_true, y_pred))\n",
        "sns.heatmap(confusion_matrix(y_true, y_pred), annot=True, fmt='d')\n",
        "plt.show()"
      ],
      "metadata": {
        "colab": {
          "base_uri": "https://localhost:8080/",
          "height": 450
        },
        "id": "SNVQmG7scLmP",
        "outputId": "8538e92a-f422-4d4e-f9e2-875232a5eb75"
      },
      "execution_count": null,
      "outputs": [
        {
          "output_type": "stream",
          "name": "stdout",
          "text": [
            "              precision    recall  f1-score   support\n",
            "\n",
            "           0       0.50      0.50      0.50      1777\n",
            "           1       0.52      0.68      0.59      1838\n",
            "           2       0.59      0.35      0.44      1448\n",
            "\n",
            "    accuracy                           0.52      5063\n",
            "   macro avg       0.53      0.51      0.51      5063\n",
            "weighted avg       0.53      0.52      0.51      5063\n",
            "\n"
          ]
        },
        {
          "output_type": "display_data",
          "data": {
            "text/plain": [
              "<Figure size 432x288 with 2 Axes>"
            ],
            "image/png": "[encoded data removed]"
          },
          "metadata": {
            "needs_background": "light"
          }
        }
      ]
    },
    {
      "cell_type": "markdown",
      "source": [
        "# SVM on TFIDF Vectors for Word2Vec"
      ],
      "metadata": {
        "id": "o_da9OobGUmb"
      }
    },
    {
      "cell_type": "markdown",
      "source": [
        "### We used the average of the word vectors in the sentence to represent the sentence and then trained a simple MLP to predict the sentiments. It is a very simple model but it gives a good enough accuracy."
      ],
      "metadata": {
        "id": "7EABJ7Ah0H-Z"
      }
    },
    {
      "cell_type": "code",
      "source": [
        "# build a dictionary where the keys are the words and the values are columns in the tfidf matrix corresponding to the words\n",
        "tfidf_dict = {word: tfidf_processor.tfidf_matrix[:, i].toarray().squeeze(1) for i, word in enumerate(tfidf_processor.tfidf.get_feature_names_out())}\n",
        "word_vectors = {word:[] for word in tfidf_dict.keys()}"
      ],
      "metadata": {
        "id": "-Uu-ENUE5Sma"
      },
      "execution_count": null,
      "outputs": []
    },
    {
      "cell_type": "code",
      "source": [
        "# create dataloaders for MSCTD_train, MSCTD_dev, MSCTD_test\n",
        "MSCTD_train_loader = DataLoader(MSCTD_train, batch_size=32, shuffle=True)\n",
        "MSCTD_dev_loader = DataLoader(MSCTD_dev, batch_size=32, shuffle=True)\n",
        "MSCTD_test_loader = DataLoader(MSCTD_test, batch_size=32, shuffle=True)"
      ],
      "metadata": {
        "id": "qo7xECsC6im7"
      },
      "execution_count": null,
      "outputs": []
    },
    {
      "cell_type": "code",
      "source": [
        "for i, (captions, _) in enumerate(MSCTD_train_loader):\n",
        "    print(f'Processing batch {i+1}') if i % 50 == 0 else None\n",
        "    for caption in captions:\n",
        "        for word in caption.split():\n",
        "            if word in tfidf_dict.keys():\n",
        "                tfidf = tfidf_dict[word]\n",
        "                pos = [(tfidf_dict[i], 1) for i in caption.split() if i != word and i in tfidf_dict.keys()]\n",
        "                if len(pos) > 4:\n",
        "                    neg = [(tfidf_dict[i], 0) for i in np.random.choice(list(tfidf_dict.keys()), len(pos)) if i not in caption.split()]\n",
        "                    # create a shuffled numpy array of pos and neg\n",
        "                    combined = pos + neg\n",
        "                    random.shuffle(combined)\n",
        "                    # fit a linearsvc model on the combined array\n",
        "                    model = LinearSVC(max_iter=10000)\n",
        "                    model.fit(np.array([x for x, _ in combined]), np.array([y for _, y in combined]))\n",
        "                    # add the weights and bias to the word_vectors dictionary. e.g) if params are w and b then word_vectors[word] = [w.T, b].T\n",
        "                    weights = np.concatenate((model.coef_.squeeze(0), model.intercept_))\n",
        "                    if not word_vectors[word]:\n",
        "                        word_vectors[word].append([weights, 1])\n",
        "                    else:\n",
        "                        word_vectors[word][0][0] += weights\n",
        "                        word_vectors[word][0][1] += 1\n",
        "            "
      ],
      "metadata": {
        "colab": {
          "base_uri": "https://localhost:8080/"
        },
        "id": "OH75d0D36_Zf",
        "outputId": "daceb74c-833a-4f90-83d0-bb854fdd907f"
      },
      "execution_count": null,
      "outputs": [
        {
          "output_type": "stream",
          "name": "stdout",
          "text": [
            "Processing batch 1\n",
            "Processing batch 51\n",
            "Processing batch 101\n",
            "Processing batch 151\n",
            "Processing batch 201\n",
            "Processing batch 251\n",
            "Processing batch 301\n",
            "Processing batch 351\n",
            "Processing batch 401\n",
            "Processing batch 451\n",
            "Processing batch 501\n",
            "Processing batch 551\n",
            "Processing batch 601\n"
          ]
        }
      ]
    },
    {
      "cell_type": "code",
      "source": [
        "# average the weights and bias\n",
        "len_of_weights = len(word_vectors['the'][0][0])\n",
        "for word in word_vectors.keys():\n",
        "    if len(word_vectors[word]) > 0:\n",
        "        word_vectors[word][0] = word_vectors[word][0][0] / word_vectors[word][0][1]\n",
        "    else:\n",
        "        word_vectors[word].append(np.zeros(len_of_weights))"
      ],
      "metadata": {
        "id": "6oP_RCGENXmZ"
      },
      "execution_count": null,
      "outputs": []
    },
    {
      "cell_type": "code",
      "source": [
        "# define a SVMEmbedding class\n",
        "class SVMEmbedding:\n",
        "    def __init__(self, embeddings):\n",
        "        self.embeddings = embeddings\n",
        "        self.dim = list(embeddings.values())[0][0].shape[0]\n",
        "    def __call__(self, caption):\n",
        "        # return the average of the word embeddings of the words in the caption\n",
        "        words = caption.split()\n",
        "        words = [word for word in words if word in self.embeddings.keys()]\n",
        "        if len(words) == 0:\n",
        "            return np.zeros(self.dim)\n",
        "        else:\n",
        "            return np.mean([self.embeddings[word][0] for word in words], axis=0)\n",
        "\n",
        "# create a SVMEmbedding object\n",
        "svm_embedding = SVMEmbedding(word_vectors)\n",
        "# Test the SVMEmbedding object\n",
        "print(svm_embedding('the cat is on the mat'))"
      ],
      "metadata": {
        "id": "NJcoSGZWQmsT",
        "outputId": "d8108bfe-9c49-42a4-ff49-39dcd06ebb81",
        "colab": {
          "base_uri": "https://localhost:8080/"
        }
      },
      "execution_count": null,
      "outputs": [
        {
          "output_type": "stream",
          "name": "stdout",
          "text": [
            "[ 1.51647619e-04  7.93873313e-04  1.28596773e-03 ...  4.43881812e-04\n",
            "  6.74582471e-05 -6.51240441e-01]\n"
          ]
        }
      ]
    },
    {
      "cell_type": "code",
      "source": [
        "class SVMDataset(Dataset):\n",
        "    def __init__(self, dataset, embedding):\n",
        "        self.dataset = dataset\n",
        "        self.embedding = embedding\n",
        "    def __len__(self):\n",
        "        return len(self.dataset)\n",
        "    def __getitem__(self, idx):\n",
        "        caption, sentiment = self.dataset[idx]\n",
        "        embedding = self.embedding(caption)\n",
        "        return embedding, sentiment\n",
        "\n",
        "train_dataset = SVMDataset(MSCTD_train, svm_embedding)\n",
        "dev_dataset = SVMDataset(MSCTD_dev, svm_embedding)\n",
        "test_dataset = SVMDataset(MSCTD_test, svm_embedding)\n",
        "\n",
        "train_loader = DataLoader(train_dataset, batch_size=32, shuffle=True)\n",
        "dev_loader = DataLoader(dev_dataset, batch_size=32, shuffle=True)\n",
        "test_loader = DataLoader(test_dataset, batch_size=32, shuffle=True)\n"
      ],
      "metadata": {
        "id": "StVtzZbHSKmd"
      },
      "execution_count": null,
      "outputs": []
    },
    {
      "cell_type": "code",
      "source": [
        "input_size = len_of_weights\n",
        "num_classes = 3\n",
        "model = MLPClassifier(input_size, num_classes)\n",
        "model = model.to(device)\n",
        "loss_fn = nn.CrossEntropyLoss()\n",
        "optimizer = torch.optim.Adam(model.parameters(), lr=1e-3)"
      ],
      "metadata": {
        "id": "qg-boUjrSRB2"
      },
      "execution_count": null,
      "outputs": []
    },
    {
      "cell_type": "code",
      "source": [
        "# Train the model for 10 epochs\n",
        "train_loss = []\n",
        "dev_loss = []\n",
        "train_acc = []\n",
        "dev_acc = []\n",
        "for epoch in range(10):\n",
        "    running_loss = 0.0\n",
        "    running_acc = 0.0\n",
        "    for i, (embedding, sentiment) in enumerate(train_loader):\n",
        "        embedding = embedding.to(device)\n",
        "        sentiment = sentiment.to(device)\n",
        "        outputs = model(embedding.float())\n",
        "        loss = loss_fn(outputs, sentiment)\n",
        "        # backward and optimize\n",
        "        optimizer.zero_grad()\n",
        "        loss.backward()\n",
        "        optimizer.step()\n",
        "        running_loss += loss.item()\n",
        "        running_acc += (torch.argmax(outputs, dim=1) == sentiment).sum().item()\n",
        "    train_loss.append(running_loss / len(train_loader))\n",
        "    train_acc.append(running_acc / len(train_loader.dataset))\n",
        "    print(f'Epoch {epoch+1}/{10}, Training Loss: {train_loss[-1]:.4f}, Training Accuracy: {train_acc[-1]:.4f}')\n",
        "    # Evaluate on the dev set\n",
        "    with torch.no_grad():\n",
        "        running_loss = 0.0\n",
        "        running_acc = 0.0\n",
        "        for i, (embedding, sentiment) in enumerate(dev_loader):\n",
        "            embedding = embedding.to(device)\n",
        "            sentiment = sentiment.to(device)\n",
        "            outputs = model(embedding.float())\n",
        "            loss = loss_fn(outputs, sentiment)\n",
        "            running_loss += loss.item()\n",
        "            running_acc += (torch.argmax(outputs, dim=1) == sentiment).sum().item()\n",
        "        dev_loss.append(running_loss / len(dev_loader))\n",
        "        dev_acc.append(running_acc / len(dev_loader.dataset))\n",
        "        print(f'Epoch {epoch+1}/{10}, Dev Loss: {dev_loss[-1]:.4f}, Dev Accuracy: {dev_acc[-1]:.4f}')\n",
        "        "
      ],
      "metadata": {
        "id": "qm18GeEySgP4",
        "outputId": "36ecfaf1-870b-4365-c725-a49087b1a040",
        "colab": {
          "base_uri": "https://localhost:8080/"
        }
      },
      "execution_count": null,
      "outputs": [
        {
          "output_type": "stream",
          "name": "stdout",
          "text": [
            "Epoch 1/10, Training Loss: 1.0809, Training Accuracy: 0.4066\n",
            "Epoch 1/10, Dev Loss: 1.0821, Dev Accuracy: 0.4071\n",
            "Epoch 2/10, Training Loss: 1.0630, Training Accuracy: 0.4459\n",
            "Epoch 2/10, Dev Loss: 1.0795, Dev Accuracy: 0.3915\n",
            "Epoch 3/10, Training Loss: 1.0497, Training Accuracy: 0.4631\n",
            "Epoch 3/10, Dev Loss: 1.0734, Dev Accuracy: 0.4138\n",
            "Epoch 4/10, Training Loss: 1.0386, Training Accuracy: 0.4770\n",
            "Epoch 4/10, Dev Loss: 1.0634, Dev Accuracy: 0.4391\n",
            "Epoch 5/10, Training Loss: 1.0290, Training Accuracy: 0.4896\n",
            "Epoch 5/10, Dev Loss: 1.0624, Dev Accuracy: 0.4420\n",
            "Epoch 6/10, Training Loss: 1.0206, Training Accuracy: 0.4956\n",
            "Epoch 6/10, Dev Loss: 1.0564, Dev Accuracy: 0.4507\n",
            "Epoch 7/10, Training Loss: 1.0127, Training Accuracy: 0.5075\n",
            "Epoch 7/10, Dev Loss: 1.0562, Dev Accuracy: 0.4408\n",
            "Epoch 8/10, Training Loss: 1.0064, Training Accuracy: 0.5116\n",
            "Epoch 8/10, Dev Loss: 1.0499, Dev Accuracy: 0.4626\n",
            "Epoch 9/10, Training Loss: 0.9997, Training Accuracy: 0.5198\n",
            "Epoch 9/10, Dev Loss: 1.0508, Dev Accuracy: 0.4513\n",
            "Epoch 10/10, Training Loss: 0.9942, Training Accuracy: 0.5250\n",
            "Epoch 10/10, Dev Loss: 1.0450, Dev Accuracy: 0.4709\n"
          ]
        }
      ]
    },
    {
      "cell_type": "code",
      "source": [
        "plt.plot(train_loss, label='train')\n",
        "plt.plot(dev_loss, label='dev')\n",
        "plt.legend()\n",
        "plt.show()\n",
        "plt.plot(train_acc, label='train')\n",
        "plt.plot(dev_acc, label='dev')\n",
        "plt.legend()\n",
        "plt.show()"
      ],
      "metadata": {
        "id": "F7g8ew_DTXC9",
        "outputId": "aa55b0e5-0634-4186-eb71-2b1455906c4b",
        "colab": {
          "base_uri": "https://localhost:8080/",
          "height": 513
        }
      },
      "execution_count": null,
      "outputs": [
        {
          "output_type": "display_data",
          "data": {
            "text/plain": [
              "<Figure size 432x288 with 1 Axes>"
            ],
            "image/png": "[encoded data removed]"
          },
          "metadata": {
            "needs_background": "light"
          }
        },
        {
          "output_type": "display_data",
          "data": {
            "text/plain": [
              "<Figure size 432x288 with 1 Axes>"
            ],
            "image/png": "[encoded data removed]"
          },
          "metadata": {
            "needs_background": "light"
          }
        }
      ]
    },
    {
      "cell_type": "code",
      "source": [
        "# confusion matrix and classification report\n",
        "y_pred = []\n",
        "y_true = []\n",
        "with torch.no_grad():\n",
        "    for i, (embedding, sentiment) in enumerate(test_loader):\n",
        "        embedding = embedding.to(device)\n",
        "        sentiment = sentiment.to(device)\n",
        "        outputs = model(embedding.float())\n",
        "        y_pred.extend(torch.argmax(outputs, dim=1).cpu().numpy())\n",
        "        y_true.extend(sentiment.cpu().numpy())\n",
        "sns.heatmap(confusion_matrix(y_true, y_pred), annot=True, fmt='d')\n",
        "print(classification_report(y_true, y_pred))"
      ],
      "metadata": {
        "id": "N9fpPjY4TbiU",
        "outputId": "12a9f725-7e59-48f4-9465-45fcdbe3cb52",
        "colab": {
          "base_uri": "https://localhost:8080/",
          "height": 450
        }
      },
      "execution_count": null,
      "outputs": [
        {
          "output_type": "stream",
          "name": "stdout",
          "text": [
            "              precision    recall  f1-score   support\n",
            "\n",
            "           0       0.36      0.51      0.42      1298\n",
            "           1       0.54      0.69      0.60      2163\n",
            "           2       0.63      0.18      0.28      1606\n",
            "\n",
            "    accuracy                           0.48      5067\n",
            "   macro avg       0.51      0.46      0.43      5067\n",
            "weighted avg       0.52      0.48      0.45      5067\n",
            "\n"
          ]
        },
        {
          "output_type": "display_data",
          "data": {
            "text/plain": [
              "<Figure size 432x288 with 2 Axes>"
            ],
            "image/png": "[encoded data removed]"
          },
          "metadata": {
            "needs_background": "light"
          }
        }
      ]
    },
    {
      "cell_type": "markdown",
      "source": [
        "# GloVe "
      ],
      "metadata": {
        "id": "Lp7olCQoGcOc"
      }
    },
    {
      "cell_type": "markdown",
      "source": [
        "### We used the average of the word vectors in the sentence to represent the sentence and then trained a simple MLP to predict the sentiments. It is a very simple model but it gives a good enough accuracy."
      ],
      "metadata": {
        "id": "MFrTbaq-0Etm"
      }
    },
    {
      "cell_type": "code",
      "source": [
        "# download glove embeddings\n",
        "!wget http://nlp.stanford.edu/data/glove.6B.zip\n",
        "!unzip glove.6B.zip"
      ],
      "metadata": {
        "colab": {
          "base_uri": "https://localhost:8080/"
        },
        "id": "_KybsouMhikF",
        "outputId": "3abbdba4-3646-44b8-9cb4-994e0c9034a4"
      },
      "execution_count": null,
      "outputs": [
        {
          "output_type": "stream",
          "name": "stdout",
          "text": [
            "--2023-02-06 11:36:38--  http://nlp.stanford.edu/data/glove.6B.zip\n",
            "Resolving nlp.stanford.edu (nlp.stanford.edu)... 171.64.67.140\n",
            "Connecting to nlp.stanford.edu (nlp.stanford.edu)|171.64.67.140|:80... connected.\n",
            "HTTP request sent, awaiting response... 302 Found\n",
            "Location: https://nlp.stanford.edu/data/glove.6B.zip [following]\n",
            "--2023-02-06 11:36:38--  https://nlp.stanford.edu/data/glove.6B.zip\n",
            "Connecting to nlp.stanford.edu (nlp.stanford.edu)|171.64.67.140|:443... connected.\n",
            "HTTP request sent, awaiting response... 301 Moved Permanently\n",
            "Location: https://downloads.cs.stanford.edu/nlp/data/glove.6B.zip [following]\n",
            "--2023-02-06 11:36:39--  https://downloads.cs.stanford.edu/nlp/data/glove.6B.zip\n",
            "Resolving downloads.cs.stanford.edu (downloads.cs.stanford.edu)... 171.64.64.22\n",
            "Connecting to downloads.cs.stanford.edu (downloads.cs.stanford.edu)|171.64.64.22|:443... connected.\n",
            "HTTP request sent, awaiting response... 200 OK\n",
            "Length: 862182613 (822M) [application/zip]\n",
            "Saving to: ‘glove.6B.zip’\n",
            "\n",
            "glove.6B.zip        100%[===================>] 822.24M  5.06MB/s    in 2m 41s  \n",
            "\n",
            "2023-02-06 11:39:21 (5.11 MB/s) - ‘glove.6B.zip’ saved [862182613/862182613]\n",
            "\n",
            "Archive:  glove.6B.zip\n",
            "  inflating: glove.6B.50d.txt        \n",
            "  inflating: glove.6B.100d.txt       \n",
            "  inflating: glove.6B.200d.txt       \n",
            "  inflating: glove.6B.300d.txt       \n"
          ]
        }
      ]
    },
    {
      "cell_type": "code",
      "source": [
        "glove_embeddings = {}\n",
        "with open('glove.6B.50d.txt', 'r') as f:\n",
        "    for line in f:\n",
        "        values = line.split()\n",
        "        word = values[0]\n",
        "        vector = np.asarray(values[1:], 'float32')\n",
        "        glove_embeddings[word] = vector\n",
        "\n",
        "class GloveEmbedding:\n",
        "    def __init__(self, embeddings):\n",
        "        self.embeddings = embeddings\n",
        "        self.dim = list(embeddings.values())[0].shape[0]\n",
        "        \n",
        "    def __call__(self, caption):\n",
        "        words = caption.split()\n",
        "        vectors = [self.embeddings.get(word, np.zeros(self.dim)) for word in words]\n",
        "        if len(vectors) == 0:\n",
        "            return np.zeros(self.dim)\n",
        "        return np.mean(vectors, axis=0)\n",
        "\n",
        "glove_embedding = GloveEmbedding(glove_embeddings)"
      ],
      "metadata": {
        "id": "2aF742rzmGRp"
      },
      "execution_count": null,
      "outputs": []
    },
    {
      "cell_type": "code",
      "source": [
        "class GloveDataSet(Dataset):\n",
        "    def __init__(self, dataset, embedding):\n",
        "        self.dataset = dataset\n",
        "        self.embedding = embedding\n",
        "        \n",
        "    def __getitem__(self, index):\n",
        "        caption, sentiment = self.dataset[index]\n",
        "        embedding = self.embedding(caption)\n",
        "        return torch.from_numpy(embedding.astype(np.float32)), torch.from_numpy(np.array(sentiment))\n",
        "\n",
        "    def __len__(self):\n",
        "        return len(self.dataset)"
      ],
      "metadata": {
        "id": "JtFMkjiVnGhn"
      },
      "execution_count": null,
      "outputs": []
    },
    {
      "cell_type": "code",
      "source": [
        "# create datasets\n",
        "train_dataset = GloveDataSet(MSCTD_train, glove_embedding)\n",
        "dev_dataset = GloveDataSet(MSCTD_dev, glove_embedding)\n",
        "test_dataset = GloveDataSet(MSCTD_test, glove_embedding)"
      ],
      "metadata": {
        "id": "V7CCdT8gnKw6"
      },
      "execution_count": null,
      "outputs": []
    },
    {
      "cell_type": "code",
      "source": [
        "# create data loaders\n",
        "train_loader = DataLoader(train_dataset, batch_size=32, shuffle=True)\n",
        "dev_loader = DataLoader(dev_dataset, batch_size=32, shuffle=True)\n",
        "test_loader = DataLoader(test_dataset, batch_size=32, shuffle=True)\n"
      ],
      "metadata": {
        "id": "xsLM2kmOncyj"
      },
      "execution_count": null,
      "outputs": []
    },
    {
      "cell_type": "code",
      "source": [
        "input_size = 50\n",
        "num_classes = 3\n",
        "model = MLPClassifier(input_size, num_classes)\n",
        "model = model.to(device)\n",
        "loss_fn = nn.CrossEntropyLoss()\n",
        "optimizer = torch.optim.Adam(model.parameters(), lr=1e-3)"
      ],
      "metadata": {
        "id": "tLX_h0mHnhOv"
      },
      "execution_count": null,
      "outputs": []
    },
    {
      "cell_type": "code",
      "source": [
        "# Train the model for 10 epochs\n",
        "train_loss = []\n",
        "dev_loss = []\n",
        "train_acc = []\n",
        "dev_acc = []\n",
        "for epoch in range(10):\n",
        "    running_loss = 0.0\n",
        "    running_acc = 0.0\n",
        "    for i, (embedding, sentiment) in enumerate(train_loader):\n",
        "        embedding = embedding.to(device)\n",
        "        sentiment = sentiment.to(device)\n",
        "        \n",
        "        outputs = model(embedding)\n",
        "        loss = loss_fn(outputs, sentiment)\n",
        "        # backward and optimize\n",
        "        optimizer.zero_grad()\n",
        "        loss.backward()\n",
        "        optimizer.step()\n",
        "        running_loss += loss.item()\n",
        "        running_acc += (torch.argmax(outputs, dim=1) == sentiment).sum().item()\n",
        "    train_loss.append(running_loss / len(train_loader))\n",
        "    train_acc.append(running_acc / len(train_loader.dataset))\n",
        "    print(f'Epoch {epoch+1}/{10}, Training Loss: {train_loss[-1]:.4f}, Training Accuracy: {train_acc[-1]:.4f}')\n",
        "    # Evaluate on the dev set\n",
        "    with torch.no_grad():\n",
        "        running_loss = 0.0\n",
        "        running_acc = 0.0\n",
        "        for i, (embedding, sentiment) in enumerate(dev_loader):\n",
        "            embedding = embedding.to(device)\n",
        "            sentiment = sentiment.to(device)\n",
        "            outputs = model(embedding)\n",
        "            loss = loss_fn(outputs, sentiment)\n",
        "            running_loss += loss.item()\n",
        "            running_acc += (torch.argmax(outputs, dim=1) == sentiment).sum().item()\n",
        "        dev_loss.append(running_loss / len(dev_loader))\n",
        "        dev_acc.append(running_acc / len(dev_loader.dataset))\n",
        "        print(f'Epoch {epoch+1}/{10}, Dev Loss: {dev_loss[-1]:.4f}, Dev Accuracy: {dev_acc[-1]:.4f}')\n",
        "        "
      ],
      "metadata": {
        "colab": {
          "base_uri": "https://localhost:8080/"
        },
        "id": "_O6QbVSwnpuS",
        "outputId": "90497a75-5e79-48e7-a2ac-d285478ab52d"
      },
      "execution_count": null,
      "outputs": [
        {
          "output_type": "stream",
          "name": "stdout",
          "text": [
            "Epoch 1/10, Training Loss: 1.0695, Training Accuracy: 0.4338\n",
            "Epoch 1/10, Dev Loss: 1.0538, Dev Accuracy: 0.4385\n",
            "Epoch 2/10, Training Loss: 1.0332, Training Accuracy: 0.4810\n",
            "Epoch 2/10, Dev Loss: 1.0313, Dev Accuracy: 0.4782\n",
            "Epoch 3/10, Training Loss: 1.0199, Training Accuracy: 0.4960\n",
            "Epoch 3/10, Dev Loss: 1.0246, Dev Accuracy: 0.4825\n",
            "Epoch 4/10, Training Loss: 1.0138, Training Accuracy: 0.5005\n",
            "Epoch 4/10, Dev Loss: 1.0211, Dev Accuracy: 0.4914\n",
            "Epoch 5/10, Training Loss: 1.0100, Training Accuracy: 0.5044\n",
            "Epoch 5/10, Dev Loss: 1.0185, Dev Accuracy: 0.4898\n",
            "Epoch 6/10, Training Loss: 1.0078, Training Accuracy: 0.5064\n",
            "Epoch 6/10, Dev Loss: 1.0149, Dev Accuracy: 0.4997\n",
            "Epoch 7/10, Training Loss: 1.0062, Training Accuracy: 0.5087\n",
            "Epoch 7/10, Dev Loss: 1.0125, Dev Accuracy: 0.4989\n",
            "Epoch 8/10, Training Loss: 1.0054, Training Accuracy: 0.5082\n",
            "Epoch 8/10, Dev Loss: 1.0141, Dev Accuracy: 0.4969\n",
            "Epoch 9/10, Training Loss: 1.0038, Training Accuracy: 0.5073\n",
            "Epoch 9/10, Dev Loss: 1.0141, Dev Accuracy: 0.4932\n",
            "Epoch 10/10, Training Loss: 1.0033, Training Accuracy: 0.5117\n",
            "Epoch 10/10, Dev Loss: 1.0096, Dev Accuracy: 0.4987\n"
          ]
        }
      ]
    },
    {
      "cell_type": "code",
      "source": [
        "plt.plot(train_loss, label='train')\n",
        "plt.plot(dev_loss, label='dev')\n",
        "plt.legend()\n",
        "plt.show()\n",
        "plt.plot(train_acc, label='train')\n",
        "plt.plot(dev_acc, label='dev')\n",
        "plt.legend()\n",
        "plt.show()"
      ],
      "metadata": {
        "colab": {
          "base_uri": "https://localhost:8080/",
          "height": 513
        },
        "id": "oOGQ9syenuh5",
        "outputId": "90ce5c05-289c-42cb-a60e-01b192c86e1a"
      },
      "execution_count": null,
      "outputs": [
        {
          "output_type": "display_data",
          "data": {
            "text/plain": [
              "<Figure size 432x288 with 1 Axes>"
            ],
            "image/png": "[encoded data removed]"
          },
          "metadata": {
            "needs_background": "light"
          }
        },
        {
          "output_type": "display_data",
          "data": {
            "text/plain": [
              "<Figure size 432x288 with 1 Axes>"
            ],
            "image/png": "[encoded data removed]"
          },
          "metadata": {
            "needs_background": "light"
          }
        }
      ]
    },
    {
      "cell_type": "code",
      "source": [
        "# confusion matrix and classification report\n",
        "y_pred = []\n",
        "y_true = []\n",
        "with torch.no_grad():\n",
        "    for i, (embedding, sentiment) in enumerate(test_loader):\n",
        "        embedding = embedding.to(device)\n",
        "        sentiment = sentiment.to(device)\n",
        "        outputs = model(embedding)\n",
        "        y_pred.extend(torch.argmax(outputs, dim=1).cpu().numpy())\n",
        "        y_true.extend(sentiment.cpu().numpy())\n",
        "print(classification_report(y_true, y_pred),)\n",
        "sns.heatmap(confusion_matrix(y_true, y_pred), annot=True, fmt='d')\n"
      ],
      "metadata": {
        "colab": {
          "base_uri": "https://localhost:8080/",
          "height": 468
        },
        "id": "iLWstpmWqjK3",
        "outputId": "001c3294-e9ff-453f-de37-4d526ccc929c"
      },
      "execution_count": null,
      "outputs": [
        {
          "output_type": "stream",
          "name": "stdout",
          "text": [
            "              precision    recall  f1-score   support\n",
            "\n",
            "           0       0.38      0.47      0.42      1298\n",
            "           1       0.56      0.63      0.60      2163\n",
            "           2       0.56      0.35      0.43      1606\n",
            "\n",
            "    accuracy                           0.50      5067\n",
            "   macro avg       0.50      0.49      0.48      5067\n",
            "weighted avg       0.52      0.50      0.50      5067\n",
            "\n"
          ]
        },
        {
          "output_type": "execute_result",
          "data": {
            "text/plain": [
              "<matplotlib.axes._subplots.AxesSubplot at 0x7f1cc197d130>"
            ]
          },
          "metadata": {},
          "execution_count": 36
        },
        {
          "output_type": "display_data",
          "data": {
            "text/plain": [
              "<Figure size 432x288 with 2 Axes>"
            ],
            "image/png": "[encoded data removed]"
          },
          "metadata": {
            "needs_background": "light"
          }
        }
      ]
    },
    {
      "cell_type": "markdown",
      "source": [
        "# BERT Classifier"
      ],
      "metadata": {
        "id": "p_lnKzx7dYG7"
      }
    },
    {
      "cell_type": "markdown",
      "source": [
        "### In this part we used the bert tokenizer to tokenize words and pad them to max length and then fed the data to the freezed bert model and added a linear layer on top of it to predict the sentiment."
      ],
      "metadata": {
        "id": "XfF3bIdB0eHS"
      }
    },
    {
      "cell_type": "code",
      "source": [
        "# define a class that get a dataset and return tokenized dataset\n",
        "class TokenizedDataset(Dataset):\n",
        "    def __init__(self, dataset, tokenizer, max_length=80):\n",
        "        self.dataset = dataset\n",
        "        self.tokenizer = tokenizer\n",
        "        self.max_length = max_length\n",
        "    def __getitem__(self, index):\n",
        "        text, sentiment = self.dataset[index]\n",
        "        text = self.tokenizer.encode_plus(text, add_special_tokens=True, max_length=self.max_length, \n",
        "                                          padding='max_length', truncation=True, return_tensors='pt')\n",
        "        return text, sentiment\n",
        "    def __len__(self):\n",
        "        return len(self.dataset)\n",
        "\n",
        "tokenizer = BertTokenizer.from_pretrained('bert-base-uncased')"
      ],
      "metadata": {
        "id": "48gwZp2LdlR8"
      },
      "execution_count": null,
      "outputs": []
    },
    {
      "cell_type": "code",
      "source": [
        "# tokenize datasets\n",
        "max_length = 25\n",
        "tokenized_train = TokenizedDataset(MSCTD_train, tokenizer, max_length)\n",
        "tokenized_dev = TokenizedDataset(MSCTD_dev, tokenizer, max_length)\n",
        "tokenized_test = TokenizedDataset(MSCTD_test, tokenizer, max_length)\n",
        "# dataloader\n",
        "train_dataloader_tokenized = DataLoader(tokenized_train, batch_size=32, shuffle=True)\n",
        "dev_dataloader_tokenized = DataLoader(tokenized_dev, batch_size=32, shuffle=True)\n",
        "test_dataloader_tokenized = DataLoader(tokenized_test, batch_size=32, shuffle=True)"
      ],
      "metadata": {
        "id": "2WvCRPvGd0Mk"
      },
      "execution_count": null,
      "outputs": []
    },
    {
      "cell_type": "code",
      "source": [
        "bert = BertModel.from_pretrained('bert-base-uncased')\n",
        "# freeze bert parameters\n",
        "for param in bert.parameters():\n",
        "    param.requires_grad = False\n",
        "# create a new classifier from bert to classify sentiment\n",
        "class BertClassifier(nn.Module):\n",
        "    def __init__(self, bert, num_classes):\n",
        "        super(BertClassifier, self).__init__()\n",
        "        self.bert = bert\n",
        "        self.linear = nn.Linear(768, num_classes)\n",
        "    def forward(self, input_ids, attention_mask):\n",
        "        output = self.bert(input_ids=input_ids, attention_mask=attention_mask)\n",
        "        output = self.linear(output[1])\n",
        "        return output"
      ],
      "metadata": {
        "colab": {
          "base_uri": "https://localhost:8080/",
          "height": 124,
          "referenced_widgets": [
            "8591cc7620e7401a9245b5c4cde79672",
            "208d46d904a745b6b44f9c9714c400d2",
            "7f9033bf52c047f2ad60b415992e3e2f",
            "d8d43d73f0f349ac856ab09ffd38517d",
            "95d1866e77f74dda83530c87c5a131e9",
            "39e3c6382daf461b9dfe8731aefdc2b1",
            "4a23b3c8585341c581ee1c4ceb0ce200",
            "eca123252d5e4ff19540c96376ef0bf4",
            "ab52e4cfbbb942feabf0fa9ce97cc123",
            "e9d29ab66878481e9e804c557215e7ee",
            "b08ef6f9a7874ff7829c643ad52be9d3"
          ]
        },
        "id": "CJHRe8Mkd2q8",
        "outputId": "7cfcfa01-2b15-4723-a240-b954837675fd"
      },
      "execution_count": null,
      "outputs": [
        {
          "output_type": "display_data",
          "data": {
            "text/plain": [
              "Downloading (…)\"pytorch_model.bin\";:   0%|          | 0.00/440M [00:00<?, ?B/s]"
            ],
            "application/vnd.jupyter.widget-view+json": {
              "version_major": 2,
              "version_minor": 0,
              "model_id": "8591cc7620e7401a9245b5c4cde79672"
            }
          },
          "metadata": {}
        },
        {
          "output_type": "stream",
          "name": "stderr",
          "text": [
            "Some weights of the model checkpoint at bert-base-uncased were not used when initializing BertModel: ['cls.predictions.transform.dense.bias', 'cls.predictions.bias', 'cls.seq_relationship.bias', 'cls.seq_relationship.weight', 'cls.predictions.transform.LayerNorm.weight', 'cls.predictions.decoder.weight', 'cls.predictions.transform.LayerNorm.bias', 'cls.predictions.transform.dense.weight']\n",
            "- This IS expected if you are initializing BertModel from the checkpoint of a model trained on another task or with another architecture (e.g. initializing a BertForSequenceClassification model from a BertForPreTraining model).\n",
            "- This IS NOT expected if you are initializing BertModel from the checkpoint of a model that you expect to be exactly identical (initializing a BertForSequenceClassification model from a BertForSequenceClassification model).\n"
          ]
        }
      ]
    },
    {
      "cell_type": "code",
      "source": [
        "def train(model, train_loader, val_loader, optimizer, criterion, epochs, device):\n",
        "    train_losses, train_accs, val_losses, val_accs = [], [], [], []\n",
        "    model = model.to(device)\n",
        "    for epoch in range(epochs):\n",
        "        model.train()\n",
        "        train_loss = 0\n",
        "        train_acc = 0\n",
        "        for i, (inputs, labels) in enumerate(train_loader):\n",
        "            inputs = inputs.to(device)\n",
        "            labels = labels.to(device)\n",
        "            optimizer.zero_grad()\n",
        "            outputs = model(input_ids=inputs['input_ids'].squeeze(1).to(device), attention_mask=inputs['attention_mask'].to(device))\n",
        "            loss = criterion(outputs, labels)\n",
        "            loss.backward()\n",
        "            optimizer.step()\n",
        "            train_loss += loss.item()\n",
        "            train_acc += (outputs.argmax(1) == labels).sum().item()\n",
        "        train_loss /= len(train_loader)\n",
        "        train_acc /= len(train_loader.dataset)\n",
        "        val_loss, val_acc = evaluate(model, val_loader, criterion, device)\n",
        "        print(f'Epoch: {epoch+1}/{epochs}, Train Loss: {train_loss:.4f}, Train Acc: {train_acc:.4f}, Val Loss: {val_loss:.4f}, Val Acc: {val_acc:.4f}')\n",
        "        train_losses.append(train_loss)\n",
        "        train_accs.append(train_acc)\n",
        "        val_losses.append(val_loss)\n",
        "        val_accs.append(val_acc)\n",
        "    return train_losses, train_accs, val_losses, val_accs\n",
        "\n",
        "def evaluate(model, val_loader, criterion, device):\n",
        "    model = model.to(device)\n",
        "    model.eval()\n",
        "    val_loss = 0\n",
        "    val_acc = 0\n",
        "    with torch.no_grad():\n",
        "        for i, (inputs, labels) in enumerate(val_loader):\n",
        "            inputs = inputs.to(device)\n",
        "            labels = labels.to(device)\n",
        "            outputs = model(input_ids=inputs['input_ids'].squeeze(1).to(device), attention_mask=inputs['attention_mask'].to(device))\n",
        "            loss = criterion(outputs, labels)\n",
        "            val_loss += loss.item()\n",
        "            val_acc += (outputs.argmax(1) == labels).sum().item()\n",
        "    val_loss /= len(val_loader)\n",
        "    val_acc /= len(val_loader.dataset)\n",
        "    return val_loss, val_acc"
      ],
      "metadata": {
        "id": "2Kvw_IM0eJXg"
      },
      "execution_count": null,
      "outputs": []
    },
    {
      "cell_type": "code",
      "source": [
        "model = BertClassifier(bert, 3)\n",
        "optimizer = torch.optim.Adam(model.parameters(), lr=0.001)\n",
        "criterion = nn.CrossEntropyLoss()\n",
        "epochs = 10\n",
        "device = torch.device('cuda' if torch.cuda.is_available() else 'cpu')\n",
        "train_losses, train_accs, val_losses, val_accs = train(model, train_dataloader_tokenized, dev_dataloader_tokenized, optimizer, criterion, epochs, device)"
      ],
      "metadata": {
        "colab": {
          "base_uri": "https://localhost:8080/"
        },
        "id": "l-euSujmeLek",
        "outputId": "09699f98-0940-4993-9ee7-d2b30e31e221"
      },
      "execution_count": null,
      "outputs": [
        {
          "output_type": "stream",
          "name": "stdout",
          "text": [
            "Epoch: 1/10, Train Loss: 1.0445, Train Acc: 0.4535, Val Loss: 1.0116, Val Acc: 0.5173\n",
            "Epoch: 2/10, Train Loss: 0.9961, Train Acc: 0.5108, Val Loss: 0.9865, Val Acc: 0.5116\n",
            "Epoch: 3/10, Train Loss: 0.9824, Train Acc: 0.5246, Val Loss: 0.9773, Val Acc: 0.5177\n",
            "Epoch: 4/10, Train Loss: 0.9702, Train Acc: 0.5353, Val Loss: 0.9728, Val Acc: 0.5489\n",
            "Epoch: 5/10, Train Loss: 0.9641, Train Acc: 0.5383, Val Loss: 0.9482, Val Acc: 0.5489\n",
            "Epoch: 6/10, Train Loss: 0.9602, Train Acc: 0.5482, Val Loss: 0.9517, Val Acc: 0.5509\n",
            "Epoch: 7/10, Train Loss: 0.9553, Train Acc: 0.5457, Val Loss: 0.9454, Val Acc: 0.5564\n",
            "Epoch: 8/10, Train Loss: 0.9506, Train Acc: 0.5485, Val Loss: 0.9635, Val Acc: 0.5443\n",
            "Epoch: 9/10, Train Loss: 0.9534, Train Acc: 0.5479, Val Loss: 0.9373, Val Acc: 0.5526\n",
            "Epoch: 10/10, Train Loss: 0.9507, Train Acc: 0.5516, Val Loss: 0.9506, Val Acc: 0.5574\n"
          ]
        }
      ]
    },
    {
      "cell_type": "code",
      "source": [
        "plt.plot(train_losses, label='train')\n",
        "plt.plot(val_losses, label='dev')\n",
        "plt.legend()\n",
        "plt.show()\n",
        "plt.plot(train_accs, label='train')\n",
        "plt.plot(val_accs, label='dev')\n",
        "plt.legend()\n",
        "plt.show()"
      ],
      "metadata": {
        "colab": {
          "base_uri": "https://localhost:8080/",
          "height": 513
        },
        "id": "4BeQds-beZWV",
        "outputId": "75a06b47-3089-4206-b9f4-8b279ae8629e"
      },
      "execution_count": null,
      "outputs": [
        {
          "output_type": "display_data",
          "data": {
            "text/plain": [
              "<Figure size 432x288 with 1 Axes>"
            ],
            "image/png": "[encoded data removed]"
          },
          "metadata": {
            "needs_background": "light"
          }
        },
        {
          "output_type": "display_data",
          "data": {
            "text/plain": [
              "<Figure size 432x288 with 1 Axes>"
            ],
            "image/png": "[encoded data removed]"
          },
          "metadata": {
            "needs_background": "light"
          }
        }
      ]
    },
    {
      "cell_type": "code",
      "source": [
        "y_pred = []\n",
        "y_true = []\n",
        "with torch.no_grad():\n",
        "    for i, (inputs, sentiment) in enumerate(test_dataloader_tokenized):\n",
        "        inputs = inputs.to(device)\n",
        "        sentiment = sentiment.to(device)\n",
        "        outputs = model(input_ids=inputs['input_ids'].squeeze(1).to(device), attention_mask=inputs['attention_mask'].to(device))\n",
        "        y_pred.extend(torch.argmax(outputs, dim=1).cpu().numpy())\n",
        "        y_true.extend(sentiment.cpu().numpy())\n",
        "print(classification_report(y_true, y_pred))\n",
        "sns.heatmap(confusion_matrix(y_true, y_pred), annot=True, fmt='d')\n",
        "plt.show()"
      ],
      "metadata": {
        "colab": {
          "base_uri": "https://localhost:8080/",
          "height": 450
        },
        "id": "9scKgLpseXsG",
        "outputId": "1227508b-e2e2-4d3d-a545-56cb3f980047"
      },
      "execution_count": null,
      "outputs": [
        {
          "output_type": "stream",
          "name": "stdout",
          "text": [
            "              precision    recall  f1-score   support\n",
            "\n",
            "           0       0.45      0.44      0.45      1298\n",
            "           1       0.63      0.70      0.66      2163\n",
            "           2       0.59      0.51      0.55      1606\n",
            "\n",
            "    accuracy                           0.57      5067\n",
            "   macro avg       0.56      0.55      0.55      5067\n",
            "weighted avg       0.57      0.57      0.57      5067\n",
            "\n"
          ]
        },
        {
          "output_type": "display_data",
          "data": {
            "text/plain": [
              "<Figure size 432x288 with 2 Axes>"
            ],
            "image/png": "[encoded data removed]"
          },
          "metadata": {
            "needs_background": "light"
          }
        }
      ]
    },
    {
      "cell_type": "markdown",
      "source": [
        "### We got a very better result than using sentence embedding. We now try to fine-tune the Bert model "
      ],
      "metadata": {
        "id": "3SanIGzQ0g9v"
      }
    },
    {
      "cell_type": "code",
      "source": [
        "# Fine-tune the whole model\n",
        "bert = BertModel.from_pretrained('bert-base-uncased')\n",
        "gc.collect()\n",
        "torch.cuda.empty_cache()\n",
        "model = BertClassifier(bert, 3)\n",
        "optimizer = torch.optim.Adam(model.parameters(), lr=5e-5)\n",
        "criterion = nn.CrossEntropyLoss()\n",
        "epochs = 10\n",
        "device = torch.device('cuda' if torch.cuda.is_available() else 'cpu')\n",
        "train_losses, train_accs, val_losses, val_accs = train(model, train_dataloader_tokenized, dev_dataloader_tokenized, optimizer, criterion, 2, device)"
      ],
      "metadata": {
        "colab": {
          "base_uri": "https://localhost:8080/"
        },
        "id": "Pag5PA73oLn3",
        "outputId": "4de2dfb6-f21c-47c4-dad8-05e3d6eb8ab1"
      },
      "execution_count": null,
      "outputs": [
        {
          "output_type": "stream",
          "name": "stderr",
          "text": [
            "Some weights of the model checkpoint at bert-base-uncased were not used when initializing BertModel: ['cls.predictions.transform.dense.bias', 'cls.predictions.bias', 'cls.seq_relationship.bias', 'cls.seq_relationship.weight', 'cls.predictions.transform.LayerNorm.weight', 'cls.predictions.decoder.weight', 'cls.predictions.transform.LayerNorm.bias', 'cls.predictions.transform.dense.weight']\n",
            "- This IS expected if you are initializing BertModel from the checkpoint of a model trained on another task or with another architecture (e.g. initializing a BertForSequenceClassification model from a BertForPreTraining model).\n",
            "- This IS NOT expected if you are initializing BertModel from the checkpoint of a model that you expect to be exactly identical (initializing a BertForSequenceClassification model from a BertForSequenceClassification model).\n"
          ]
        },
        {
          "output_type": "stream",
          "name": "stdout",
          "text": [
            "Epoch: 1/2, Train Loss: 0.8841, Train Acc: 0.5993, Val Loss: 0.8682, Val Acc: 0.5985\n",
            "Epoch: 2/2, Train Loss: 0.7176, Train Acc: 0.6994, Val Loss: 0.9768, Val Acc: 0.5917\n"
          ]
        }
      ]
    },
    {
      "cell_type": "code",
      "source": [
        "y_pred = []\n",
        "y_true = []\n",
        "with torch.no_grad():\n",
        "    for i, (inputs, sentiment) in enumerate(test_dataloader_tokenized):\n",
        "        inputs = inputs.to(device)\n",
        "        sentiment = sentiment.to(device)\n",
        "        outputs = model(input_ids=inputs['input_ids'].squeeze(1).to(device), attention_mask=inputs['attention_mask'].to(device))\n",
        "        y_pred.extend(torch.argmax(outputs, dim=1).cpu().numpy())\n",
        "        y_true.extend(sentiment.cpu().numpy())\n",
        "print(classification_report(y_true, y_pred))\n",
        "sns.heatmap(confusion_matrix(y_true, y_pred), annot=True, fmt='d')\n",
        "plt.show()"
      ],
      "metadata": {
        "colab": {
          "base_uri": "https://localhost:8080/",
          "height": 450
        },
        "id": "RGZFoc5Pohtf",
        "outputId": "b6a8ed5d-6413-40b7-b778-80fcd0c2ff93"
      },
      "execution_count": null,
      "outputs": [
        {
          "output_type": "stream",
          "name": "stdout",
          "text": [
            "              precision    recall  f1-score   support\n",
            "\n",
            "           0       0.46      0.50      0.48      1298\n",
            "           1       0.68      0.71      0.70      2163\n",
            "           2       0.63      0.55      0.59      1606\n",
            "\n",
            "    accuracy                           0.61      5067\n",
            "   macro avg       0.59      0.59      0.59      5067\n",
            "weighted avg       0.61      0.61      0.61      5067\n",
            "\n"
          ]
        },
        {
          "output_type": "display_data",
          "data": {
            "text/plain": [
              "<Figure size 432x288 with 2 Axes>"
            ],
            "image/png": "[encoded data removed]"
          },
          "metadata": {
            "needs_background": "light"
          }
        }
      ]
    },
    {
      "cell_type": "markdown",
      "source": [
        "### Lastly we used the bert tokenizer to tokenize words and pad them to max length and then fine-tuned the bert model and added a linear layer on top of it to predict the sentiment. We used the AdamW optimizer and the CrossEntropyLoss function. We trained the model for 2 epochs and got a good accuracy. "
      ],
      "metadata": {
        "id": "WQ9CwTPf0pZ_"
      }
    },
    {
      "cell_type": "markdown",
      "source": [
        "* By comparing different models, we found that the BERT model with fine-tuning gives the best accuracy.\n",
        "* We also found out that word embedding worked better than sentence embedding. \n",
        "* The word vectors resulted from training SVM on words didn't work well compared to the word vectors resulted from GloVe and BERT.\n",
        "* The confusion matrix also shows that the model is much better at predicting the 2nd sentiment than others"
      ],
      "metadata": {
        "id": "ArwZH39g1vGp"
      }
    }
  ],
  "metadata": {
    "kernelspec": {
      "display_name": "Python 3",
      "language": "python",
      "name": "python3"
    },
    "language_info": {
      "codemirror_mode": {
        "name": "ipython",
        "version": 3
      },
      "file_extension": ".py",
      "mimetype": "text/x-python",
      "name": "python",
      "nbconvert_exporter": "python",
      "pygments_lexer": "ipython3",
      "version": "3.9.0"
    },
    "orig_nbformat": 4,
    "vscode": {
      "interpreter": {
        "hash": "4fbe9694f7587329a2893969593bb646d9caf203732995a36644052b7dd475e8"
      }
    },
    "colab": {
      "provenance": [],
      "include_colab_link": true
    },
    "accelerator": "GPU",
    "gpuClass": "standard",
    "widgets": {
      "application/vnd.jupyter.widget-state+json": {
        "8591cc7620e7401a9245b5c4cde79672": {
          "model_module": "@jupyter-widgets/controls",
          "model_name": "HBoxModel",
          "model_module_version": "1.5.0",
          "state": {
            "_dom_classes": [],
            "_model_module": "@jupyter-widgets/controls",
            "_model_module_version": "1.5.0",
            "_model_name": "HBoxModel",
            "_view_count": null,
            "_view_module": "@jupyter-widgets/controls",
            "_view_module_version": "1.5.0",
            "_view_name": "HBoxView",
            "box_style": "",
            "children": [
              "IPY_MODEL_208d46d904a745b6b44f9c9714c400d2",
              "IPY_MODEL_7f9033bf52c047f2ad60b415992e3e2f",
              "IPY_MODEL_d8d43d73f0f349ac856ab09ffd38517d"
            ],
            "layout": "IPY_MODEL_95d1866e77f74dda83530c87c5a131e9"
          }
        },
        "208d46d904a745b6b44f9c9714c400d2": {
          "model_module": "@jupyter-widgets/controls",
          "model_name": "HTMLModel",
          "model_module_version": "1.5.0",
          "state": {
            "_dom_classes": [],
            "_model_module": "@jupyter-widgets/controls",
            "_model_module_version": "1.5.0",
            "_model_name": "HTMLModel",
            "_view_count": null,
            "_view_module": "@jupyter-widgets/controls",
            "_view_module_version": "1.5.0",
            "_view_name": "HTMLView",
            "description": "",
            "description_tooltip": null,
            "layout": "IPY_MODEL_39e3c6382daf461b9dfe8731aefdc2b1",
            "placeholder": "​",
            "style": "IPY_MODEL_4a23b3c8585341c581ee1c4ceb0ce200",
            "value": "Downloading (…)&quot;pytorch_model.bin&quot;;: 100%"
          }
        },
        "7f9033bf52c047f2ad60b415992e3e2f": {
          "model_module": "@jupyter-widgets/controls",
          "model_name": "FloatProgressModel",
          "model_module_version": "1.5.0",
          "state": {
            "_dom_classes": [],
            "_model_module": "@jupyter-widgets/controls",
            "_model_module_version": "1.5.0",
            "_model_name": "FloatProgressModel",
            "_view_count": null,
            "_view_module": "@jupyter-widgets/controls",
            "_view_module_version": "1.5.0",
            "_view_name": "ProgressView",
            "bar_style": "success",
            "description": "",
            "description_tooltip": null,
            "layout": "IPY_MODEL_eca123252d5e4ff19540c96376ef0bf4",
            "max": 440473133,
            "min": 0,
            "orientation": "horizontal",
            "style": "IPY_MODEL_ab52e4cfbbb942feabf0fa9ce97cc123",
            "value": 440473133
          }
        },
        "d8d43d73f0f349ac856ab09ffd38517d": {
          "model_module": "@jupyter-widgets/controls",
          "model_name": "HTMLModel",
          "model_module_version": "1.5.0",
          "state": {
            "_dom_classes": [],
            "_model_module": "@jupyter-widgets/controls",
            "_model_module_version": "1.5.0",
            "_model_name": "HTMLModel",
            "_view_count": null,
            "_view_module": "@jupyter-widgets/controls",
            "_view_module_version": "1.5.0",
            "_view_name": "HTMLView",
            "description": "",
            "description_tooltip": null,
            "layout": "IPY_MODEL_e9d29ab66878481e9e804c557215e7ee",
            "placeholder": "​",
            "style": "IPY_MODEL_b08ef6f9a7874ff7829c643ad52be9d3",
            "value": " 440M/440M [00:01&lt;00:00, 247MB/s]"
          }
        },
        "95d1866e77f74dda83530c87c5a131e9": {
          "model_module": "@jupyter-widgets/base",
          "model_name": "LayoutModel",
          "model_module_version": "1.2.0",
          "state": {
            "_model_module": "@jupyter-widgets/base",
            "_model_module_version": "1.2.0",
            "_model_name": "LayoutModel",
            "_view_count": null,
            "_view_module": "@jupyter-widgets/base",
            "_view_module_version": "1.2.0",
            "_view_name": "LayoutView",
            "align_content": null,
            "align_items": null,
            "align_self": null,
            "border": null,
            "bottom": null,
            "display": null,
            "flex": null,
            "flex_flow": null,
            "grid_area": null,
            "grid_auto_columns": null,
            "grid_auto_flow": null,
            "grid_auto_rows": null,
            "grid_column": null,
            "grid_gap": null,
            "grid_row": null,
            "grid_template_areas": null,
            "grid_template_columns": null,
            "grid_template_rows": null,
            "height": null,
            "justify_content": null,
            "justify_items": null,
            "left": null,
            "margin": null,
            "max_height": null,
            "max_width": null,
            "min_height": null,
            "min_width": null,
            "object_fit": null,
            "object_position": null,
            "order": null,
            "overflow": null,
            "overflow_x": null,
            "overflow_y": null,
            "padding": null,
            "right": null,
            "top": null,
            "visibility": null,
            "width": null
          }
        },
        "39e3c6382daf461b9dfe8731aefdc2b1": {
          "model_module": "@jupyter-widgets/base",
          "model_name": "LayoutModel",
          "model_module_version": "1.2.0",
          "state": {
            "_model_module": "@jupyter-widgets/base",
            "_model_module_version": "1.2.0",
            "_model_name": "LayoutModel",
            "_view_count": null,
            "_view_module": "@jupyter-widgets/base",
            "_view_module_version": "1.2.0",
            "_view_name": "LayoutView",
            "align_content": null,
            "align_items": null,
            "align_self": null,
            "border": null,
            "bottom": null,
            "display": null,
            "flex": null,
            "flex_flow": null,
            "grid_area": null,
            "grid_auto_columns": null,
            "grid_auto_flow": null,
            "grid_auto_rows": null,
            "grid_column": null,
            "grid_gap": null,
            "grid_row": null,
            "grid_template_areas": null,
            "grid_template_columns": null,
            "grid_template_rows": null,
            "height": null,
            "justify_content": null,
            "justify_items": null,
            "left": null,
            "margin": null,
            "max_height": null,
            "max_width": null,
            "min_height": null,
            "min_width": null,
            "object_fit": null,
            "object_position": null,
            "order": null,
            "overflow": null,
            "overflow_x": null,
            "overflow_y": null,
            "padding": null,
            "right": null,
            "top": null,
            "visibility": null,
            "width": null
          }
        },
        "4a23b3c8585341c581ee1c4ceb0ce200": {
          "model_module": "@jupyter-widgets/controls",
          "model_name": "DescriptionStyleModel",
          "model_module_version": "1.5.0",
          "state": {
            "_model_module": "@jupyter-widgets/controls",
            "_model_module_version": "1.5.0",
            "_model_name": "DescriptionStyleModel",
            "_view_count": null,
            "_view_module": "@jupyter-widgets/base",
            "_view_module_version": "1.2.0",
            "_view_name": "StyleView",
            "description_width": ""
          }
        },
        "eca123252d5e4ff19540c96376ef0bf4": {
          "model_module": "@jupyter-widgets/base",
          "model_name": "LayoutModel",
          "model_module_version": "1.2.0",
          "state": {
            "_model_module": "@jupyter-widgets/base",
            "_model_module_version": "1.2.0",
            "_model_name": "LayoutModel",
            "_view_count": null,
            "_view_module": "@jupyter-widgets/base",
            "_view_module_version": "1.2.0",
            "_view_name": "LayoutView",
            "align_content": null,
            "align_items": null,
            "align_self": null,
            "border": null,
            "bottom": null,
            "display": null,
            "flex": null,
            "flex_flow": null,
            "grid_area": null,
            "grid_auto_columns": null,
            "grid_auto_flow": null,
            "grid_auto_rows": null,
            "grid_column": null,
            "grid_gap": null,
            "grid_row": null,
            "grid_template_areas": null,
            "grid_template_columns": null,
            "grid_template_rows": null,
            "height": null,
            "justify_content": null,
            "justify_items": null,
            "left": null,
            "margin": null,
            "max_height": null,
            "max_width": null,
            "min_height": null,
            "min_width": null,
            "object_fit": null,
            "object_position": null,
            "order": null,
            "overflow": null,
            "overflow_x": null,
            "overflow_y": null,
            "padding": null,
            "right": null,
            "top": null,
            "visibility": null,
            "width": null
          }
        },
        "ab52e4cfbbb942feabf0fa9ce97cc123": {
          "model_module": "@jupyter-widgets/controls",
          "model_name": "ProgressStyleModel",
          "model_module_version": "1.5.0",
          "state": {
            "_model_module": "@jupyter-widgets/controls",
            "_model_module_version": "1.5.0",
            "_model_name": "ProgressStyleModel",
            "_view_count": null,
            "_view_module": "@jupyter-widgets/base",
            "_view_module_version": "1.2.0",
            "_view_name": "StyleView",
            "bar_color": null,
            "description_width": ""
          }
        },
        "e9d29ab66878481e9e804c557215e7ee": {
          "model_module": "@jupyter-widgets/base",
          "model_name": "LayoutModel",
          "model_module_version": "1.2.0",
          "state": {
            "_model_module": "@jupyter-widgets/base",
            "_model_module_version": "1.2.0",
            "_model_name": "LayoutModel",
            "_view_count": null,
            "_view_module": "@jupyter-widgets/base",
            "_view_module_version": "1.2.0",
            "_view_name": "LayoutView",
            "align_content": null,
            "align_items": null,
            "align_self": null,
            "border": null,
            "bottom": null,
            "display": null,
            "flex": null,
            "flex_flow": null,
            "grid_area": null,
            "grid_auto_columns": null,
            "grid_auto_flow": null,
            "grid_auto_rows": null,
            "grid_column": null,
            "grid_gap": null,
            "grid_row": null,
            "grid_template_areas": null,
            "grid_template_columns": null,
            "grid_template_rows": null,
            "height": null,
            "justify_content": null,
            "justify_items": null,
            "left": null,
            "margin": null,
            "max_height": null,
            "max_width": null,
            "min_height": null,
            "min_width": null,
            "object_fit": null,
            "object_position": null,
            "order": null,
            "overflow": null,
            "overflow_x": null,
            "overflow_y": null,
            "padding": null,
            "right": null,
            "top": null,
            "visibility": null,
            "width": null
          }
        },
        "b08ef6f9a7874ff7829c643ad52be9d3": {
          "model_module": "@jupyter-widgets/controls",
          "model_name": "DescriptionStyleModel",
          "model_module_version": "1.5.0",
          "state": {
            "_model_module": "@jupyter-widgets/controls",
            "_model_module_version": "1.5.0",
            "_model_name": "DescriptionStyleModel",
            "_view_count": null,
            "_view_module": "@jupyter-widgets/base",
            "_view_module_version": "1.2.0",
            "_view_name": "StyleView",
            "description_width": ""
          }
        }
      }
    }
  },
  "nbformat": 4,
  "nbformat_minor": 0
}