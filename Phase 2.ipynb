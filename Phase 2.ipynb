{
  "cells": [
    {
      "cell_type": "markdown",
      "metadata": {
        "id": "view-in-github",
        "colab_type": "text"
      },
      "source": [
        "<a href=\"https://colab.research.google.com/github/saeedzou/Deep-Learning-Project/blob/dev-saeed/Phase%202.ipynb\" target=\"_parent\"><img src=\"https://colab.research.google.com/assets/colab-badge.svg\" alt=\"Open In Colab\"/></a>"
      ]
    },
    {
      "cell_type": "code",
      "source": [
        "# This block downloads and preprocesses the needed data for the project\n",
        "!git clone https://github.com/XL2248/MSCTD\n",
        "!cp MSCTD/MSCTD_data/ende/eng* .\n",
        "!cp MSCTD/MSCTD_data/ende/ima* .\n",
        "!cp MSCTD/MSCTD_data/ende/sent* .\n",
        "!rm -rf MSCTD\n",
        "!mkdir train\n",
        "!mkdir dev\n",
        "!mkdir test\n",
        "!mv *train.txt train\n",
        "!mv *dev.txt dev\n",
        "!mv *test.txt test"
      ],
      "metadata": {
        "colab": {
          "base_uri": "https://localhost:8080/"
        },
        "id": "FBwW2kvXty3T",
        "outputId": "4a9e99c3-1245-400e-8ee3-dd4c429b055c"
      },
      "execution_count": 1,
      "outputs": [
        {
          "output_type": "stream",
          "name": "stdout",
          "text": [
            "Cloning into 'MSCTD'...\n",
            "remote: Enumerating objects: 1217, done.\u001b[K\n",
            "remote: Counting objects: 100% (27/27), done.\u001b[K\n",
            "remote: Compressing objects: 100% (23/23), done.\u001b[K\n",
            "remote: Total 1217 (delta 13), reused 7 (delta 3), pack-reused 1190\u001b[K\n",
            "Receiving objects: 100% (1217/1217), 102.24 MiB | 20.75 MiB/s, done.\n",
            "Resolving deltas: 100% (616/616), done.\n",
            "Updating files: 100% (934/934), done.\n"
          ]
        }
      ]
    },
    {
      "cell_type": "code",
      "execution_count": 2,
      "metadata": {
        "colab": {
          "base_uri": "https://localhost:8080/"
        },
        "id": "gF8LxEI0tp74",
        "outputId": "7180e0a2-7c04-4ff7-bcd5-bde48de1393b"
      },
      "outputs": [
        {
          "output_type": "stream",
          "name": "stderr",
          "text": [
            "[nltk_data] Downloading package stopwords to /root/nltk_data...\n",
            "[nltk_data]   Unzipping corpora/stopwords.zip.\n",
            "[nltk_data] Downloading package omw-1.4 to /root/nltk_data...\n",
            "[nltk_data] Downloading package punkt to /root/nltk_data...\n",
            "[nltk_data]   Unzipping tokenizers/punkt.zip.\n",
            "[nltk_data] Downloading package averaged_perceptron_tagger to\n",
            "[nltk_data]     /root/nltk_data...\n",
            "[nltk_data]   Unzipping taggers/averaged_perceptron_tagger.zip.\n",
            "[nltk_data] Downloading package wordnet to /root/nltk_data...\n"
          ]
        }
      ],
      "source": [
        "import numpy as np\n",
        "import pandas as pd\n",
        "import re\n",
        "import nltk\n",
        "import nltk.tokenize as tokenize\n",
        "from nltk.corpus import stopwords\n",
        "from nltk.stem import WordNetLemmatizer\n",
        "from nltk.tokenize import word_tokenize\n",
        "from nltk.corpus import wordnet\n",
        "nltk.download('stopwords')\n",
        "nltk.download('omw-1.4')\n",
        "nltk.download('punkt')\n",
        "nltk.download('averaged_perceptron_tagger')\n",
        "nltk.download('wordnet')\n",
        "stop_words = set(stopwords.words(\"english\"))\n",
        "lemmatizer = WordNetLemmatizer()\n",
        "from sklearn.svm import LinearSVC\n",
        "from sklearn.metrics import classification_report, confusion_matrix\n",
        "from sklearn.feature_extraction.text import TfidfVectorizer\n",
        "import torch\n",
        "import torch.nn as nn\n",
        "import torch.nn.functional as F\n",
        "import torch.optim as optim\n",
        "from torch.utils.data import Dataset, DataLoader\n",
        "import os\n",
        "import string\n",
        "import re"
      ]
    },
    {
      "cell_type": "code",
      "execution_count": 3,
      "metadata": {
        "id": "yDWtqHh0tp7-"
      },
      "outputs": [],
      "source": [
        "class MSCTD(Dataset):\n",
        "    \"\"\"\n",
        "    :param root: root path of the dataset\n",
        "    :param split: train, dev, test\n",
        "    :param image_transform: transform for image\n",
        "    :param text_transform: transform for text\n",
        "    :param sentiment_transform: transform for sentiment\n",
        "    :param has_data: dict, whether the dataset has image, text\n",
        "    :param text_path: path of the text file\n",
        "    :param image_path: path of the image folder\n",
        "    :param sentiment_path: path of the sentiment file\n",
        "    :param image_index_path: path of the image index file\n",
        "\n",
        "    :return: combination of image, sentiment, text, image_index\n",
        "\n",
        "    Example:\n",
        "    >>> from torchvision import transforms\n",
        "    >>> image_transform = transforms.Compose([\n",
        "    >>>     transforms.Resize((640, 1280)),\n",
        "    >>>     transforms.Lambda(lambda x: x.permute(1, 2, 0))\n",
        "    >>> ])\n",
        "    >>> text_transform = None\n",
        "    >>> sentiment_transform = None\n",
        "    >>> dataset = MSCTD(root='data', split='train', image_transform=image_transform,\n",
        "    >>>                 text_transform=text_transform, sentiment_transform=sentiment_transform)\n",
        "    >>> image, text, sentiment = dataset[0]\n",
        "\n",
        "    \"\"\"\n",
        "    def __init__(self, root, split, image_transform=None, text_transform=None, sentiment_transform=None,\n",
        "                 has_data={'image': True, 'text': True}, text_path=None, image_path=None, sentiment_path=None,\n",
        "                 image_index_path=None):\n",
        "        data_path = os.path.join(root, split)\n",
        "        default_path = {\n",
        "            'text': os.path.join(data_path, 'english_' + split + '.txt'),\n",
        "            'image': os.path.join(data_path, 'image'),\n",
        "            'sentiment': os.path.join(data_path, 'sentiment_' + split + '.txt'),\n",
        "            'image_index': os.path.join(data_path, 'image_index_' + split + '.txt'),\n",
        "        }\n",
        "        self.image = [] if has_data['image'] else None\n",
        "        self.image_transform = image_transform\n",
        "        self.image_path = image_path if image_path else default_path['image']\n",
        "        self.text = [] if has_data['text'] else None\n",
        "        self.text_transform = text_transform\n",
        "        self.text_path = text_path if text_path else default_path['text']\n",
        "        self.sentiment_path = sentiment_path if sentiment_path else default_path['sentiment']\n",
        "        self.image_index_path = image_index_path if image_index_path else default_path['image_index']\n",
        "        self.sentiment = []\n",
        "        self.image_index = []\n",
        "        self.sentiment_transform = sentiment_transform\n",
        "        self.load_data()\n",
        "        \n",
        "    def load_data(self):\n",
        "        self.sentiment = np.loadtxt(self.sentiment_path, dtype=int)\n",
        "        if self.text is not None:\n",
        "            with open(self.text_path, 'r') as f:\n",
        "                self.text = f.readlines()\n",
        "            self.text = [x.strip() for x in self.text]\n",
        "        with open(self.image_index_path, 'r') as f:\n",
        "            data = f.readlines()\n",
        "        self.image_index = [list(map(int, x[1:-2].split(','))) for x in data]\n",
        "\n",
        "    def __getitem__(self, index):\n",
        "        image = None\n",
        "        text = None\n",
        "        sentiment = self.sentiment[index]\n",
        "        if self.image is not None:\n",
        "            imag_path = os.path.join(self.image_path, str(index)+'.jpg')\n",
        "            image = read_image(imag_path)\n",
        "            if self.image_transform:\n",
        "                image = self.image_transform(image)\n",
        "        if self.text is not None:\n",
        "            text = self.text[index]\n",
        "            if self.text_transform:\n",
        "                text = self.text_transform(text)\n",
        "        if self.sentiment_transform:\n",
        "            sentiment = self.sentiment_transform(sentiment)\n",
        "        if text is not None and image is not None:\n",
        "            return image, text, sentiment\n",
        "        elif text is not None:\n",
        "            return text, sentiment\n",
        "        elif image is not None:\n",
        "            return image, sentiment\n",
        "        else:\n",
        "            raise Exception('Either image or text should be not None')\n",
        "\n",
        "    def __len__(self):\n",
        "        return len(self.sentiment)"
      ]
    },
    {
      "cell_type": "code",
      "execution_count": 103,
      "metadata": {
        "id": "WQB8Ofb_tp8A"
      },
      "outputs": [],
      "source": [
        "MSCTD_train = MSCTD(root='.', split='train', has_data={'image': False, 'text': True})\n",
        "MSCTD_dev = MSCTD(root='.', split='dev', has_data={'image': False, 'text': True})\n",
        "MSCTD_test = MSCTD(root='.', split='test', has_data={'image': False, 'text': True})"
      ]
    },
    {
      "cell_type": "code",
      "execution_count": 104,
      "metadata": {
        "id": "rcQACtNXtp8B"
      },
      "outputs": [],
      "source": [
        "def get_wordnet_pos(word):\n",
        "    \"\"\"Map POS tag to first character used by WordNetLemmatizer\"\"\"\n",
        "    tag = nltk.pos_tag([word])[0][1][0].upper()\n",
        "    tag_dict = {\"J\": wordnet.ADJ,\n",
        "                \"N\": wordnet.NOUN,\n",
        "                \"V\": wordnet.VERB,\n",
        "                \"R\": wordnet.ADV}\n",
        "\n",
        "    return tag_dict.get(tag, wordnet.NOUN)\n",
        "\n",
        "def text_preprocessor(dataset):\n",
        "      # preprocess text\n",
        "      dataset.text = [preprocess_text(text) for text in dataset.text]\n",
        "\n",
        "def preprocess_text(text):\n",
        "      # Replace contractions with original text\n",
        "  text = re.sub(r'(\\b[Aa]in\\'t\\b)', \"am not\", text)\n",
        "  text = re.sub(r'(\\b[Hh]a\\'t\\b)', \"has\", text)\n",
        "  text = re.sub(r'(\\b[Ii]\\'m\\b)', \"i am\", text)\n",
        "  text = re.sub(r'(\\b\\'s\\b)', \" is\", text)\n",
        "  text = re.sub(r'(\\b\\'re\\b)', \" are\", text)\n",
        "  text = re.sub(r'(\\b\\'ve\\b)', \" have\", text)\n",
        "  text = re.sub(r'(\\b\\'d\\b)', \" would\", text)\n",
        "  text = re.sub(r'(\\b\\'ll\\b)', \" will\", text)\n",
        "  text = re.sub(r'(\\b[Ss]han\\'t\\b)', \"shall not\", text)\n",
        "  text = re.sub(r'(\\b[Ww]on\\'t\\b)', \"will not\", text)\n",
        "  text = re.sub(r'(\\b[Ww]ouldn\\'t\\b)', \"would not\", text)\n",
        "  text = re.sub(r'(\\b[Dd]on\\'t\\b)', \"do not\", text)\n",
        "  text = re.sub(r'(\\b[Cc]an\\'t\\b)', \"can not\", text)\n",
        "  text = re.sub(r'(\\b[Ii]s\\'nt\\b)', \"is not\", text)\n",
        "  text = re.sub(r'(\\b[Ww]eren\\'t\\b)', \"were not\", text)\n",
        "  text = re.sub(r'(\\b[Hh]aven\\'t\\b)', \"have not\", text)\n",
        "  text = re.sub(r'(\\b[Hh]adn\\'t\\b)', \"had not\", text)\n",
        "  text = re.sub(r'(\\b[Hh]asn\\'t\\b)', \"has not\", text)\n",
        "  text = re.sub(r'(\\b[Hh]adn\\'t\\b)', \"had not\", text)\n",
        "  text = re.sub(r'(\\b[Dd]idn\\'t\\b)', \"did not\", text)\n",
        "\n",
        "  # Remove punctuation\n",
        "  text = text.translate(str.maketrans(\"\", \"\", string.punctuation))\n",
        "\n",
        "  # Convert to lowercase\n",
        "  text = text.lower()\n",
        "\n",
        "  # Tokenize text\n",
        "  tokens = word_tokenize(text)\n",
        "\n",
        "  # Remove stop words\n",
        "  # tokens = [token for token in tokens if token not in stop_words]\n",
        "  # Remove numbers\n",
        "  tokens = [token for token in tokens if token.isalpha()]\n",
        "\n",
        "  # Lemmatize tokens\n",
        "  tokens = [lemmatizer.lemmatize(token, get_wordnet_pos(token)) for token in tokens]\n",
        "\n",
        "  return ' '.join(tokens)\n",
        "\n",
        "# Test the TextPreprocessor\n",
        "text_preprocessor(MSCTD_train)\n",
        "text_preprocessor(MSCTD_dev)\n",
        "text_preprocessor(MSCTD_test)"
      ]
    },
    {
      "cell_type": "code",
      "source": [
        "class TFIDFProcessor:\n",
        "    def __init__(self, dataset):\n",
        "        self.dataset = dataset\n",
        "        self.tfidf = TfidfVectorizer()\n",
        "        self.tfidf_matrix = None\n",
        "\n",
        "    def fit(self):\n",
        "        # Get all the captions from the dataset\n",
        "        captions = [caption for caption, _ in self.dataset]\n",
        "\n",
        "        # Fit the TF-IDF model on the captions\n",
        "        self.tfidf_matrix = self.tfidf.fit_transform(captions)\n",
        "\n",
        "    def transform(self, caption):\n",
        "        # Transform the input caption using the fitted TF-IDF model\n",
        "        tfidf_vector = self.tfidf.transform([caption])\n",
        "\n",
        "        # Convert the resulting sparse matrix to a dense numpy array\n",
        "        return np.array(tfidf_vector.todense()).squeeze(0)\n",
        "\n",
        "    def __getitem__(self, index):\n",
        "        # Get the caption and sentiment from the dataset\n",
        "        caption, sentiment = self.dataset[index]\n",
        "\n",
        "        # Transform the caption using the TF-IDF model\n",
        "        tfidf_vector = self.transform(caption)\n",
        "\n",
        "        return tfidf_vector, sentiment"
      ],
      "metadata": {
        "id": "ulw6hKwezvvj"
      },
      "execution_count": 105,
      "outputs": []
    },
    {
      "cell_type": "code",
      "source": [
        "tfidf_processor = TFIDFProcessor(MSCTD_train)\n",
        "tfidf_processor.fit()"
      ],
      "metadata": {
        "id": "wZf7-W545And"
      },
      "execution_count": 106,
      "outputs": []
    },
    {
      "cell_type": "code",
      "source": [
        "class TFIDFDataSet:\n",
        "    def __init__(self, dataset, tfidf_processor):\n",
        "        self.dataset = dataset\n",
        "        self.tfidf_processor = tfidf_processor\n",
        "        \n",
        "    def __getitem__(self, index):\n",
        "        # Get the caption and sentiment from the MSCTD dataset\n",
        "        caption, sentiment = self.dataset[index]\n",
        "\n",
        "        # Convert the caption to a TF-IDF vector using the TFIDFProcessor\n",
        "        tfidf_vector = self.tfidf_processor.transform(caption)\n",
        "\n",
        "        # Return the TF-IDF vector and sentiment\n",
        "        return torch.from_numpy(tfidf_vector.astype(np.float32)), torch.from_numpy(np.array(sentiment))\n",
        "\n",
        "    def __len__(self):\n",
        "        return len(self.dataset)"
      ],
      "metadata": {
        "id": "_sRmIQnc3cRB"
      },
      "execution_count": 107,
      "outputs": []
    },
    {
      "cell_type": "code",
      "source": [
        "train_dataset = TFIDFDataSet(MSCTD_train, tfidf_processor)\n",
        "dev_dataset = TFIDFDataSet(MSCTD_dev, tfidf_processor)\n",
        "test_dataset = TFIDFDataSet(MSCTD_dev, tfidf_processor)"
      ],
      "metadata": {
        "id": "LpeOaxLw8-FF"
      },
      "execution_count": 108,
      "outputs": []
    },
    {
      "cell_type": "code",
      "source": [
        "# data loader\n",
        "train_loader = DataLoader(train_dataset, batch_size=32, shuffle=True)\n",
        "dev_loader = DataLoader(dev_dataset, batch_size=32, shuffle=True)\n",
        "test_loader = DataLoader(test_dataset, batch_size=32, shuffle=True)"
      ],
      "metadata": {
        "id": "kfz_QK7v9Flj"
      },
      "execution_count": 109,
      "outputs": []
    },
    {
      "cell_type": "code",
      "source": [
        "class MLPClassifier(nn.Module):\n",
        "  def __init__(self, input_size, num_classes):\n",
        "    super(MLPClassifier, self).__init__()\n",
        "    self.linear = nn.Linear(input_size, num_classes)\n",
        "\n",
        "  def forward(self, x):\n",
        "    return self.linear(x)\n",
        "device = torch.device(\"cuda:0\" if torch.cuda.is_available() else \"cpu\")\n",
        "input_size = len(tfidf_processor.tfidf.get_feature_names_out())\n",
        "num_classes = 3\n",
        "model = MLPClassifier(input_size, num_classes)\n",
        "model = model.to(device)\n",
        "loss_fn = nn.CrossEntropyLoss()\n",
        "optimizer = torch.optim.Adam(model.parameters(), lr=0.001)"
      ],
      "metadata": {
        "id": "Nm9COjY39T6D"
      },
      "execution_count": 110,
      "outputs": []
    },
    {
      "cell_type": "code",
      "source": [
        "# Train the model for 10 epochs\n",
        "train_loss = []\n",
        "dev_loss = []\n",
        "train_acc = []\n",
        "dev_acc = []\n",
        "for epoch in range(10):\n",
        "    running_loss = 0.0\n",
        "    running_acc = 0.0\n",
        "    for i, (tfidf, sentiment) in enumerate(train_loader):\n",
        "        tfidf = tfidf.to(device)\n",
        "        sentiment = sentiment.to(device)\n",
        "        \n",
        "        outputs = model(tfidf)\n",
        "        # if i > 630:\n",
        "        #   print(tfidf.shape, sentiment.shape, outputs.shape)\n",
        "        loss = loss_fn(outputs, sentiment)\n",
        "        # backward and optimize\n",
        "        optimizer.zero_grad()\n",
        "        loss.backward()\n",
        "        optimizer.step()\n",
        "        running_loss += loss.item()\n",
        "        running_acc += (torch.argmax(outputs, dim=1) == sentiment).sum().item()\n",
        "    train_loss.append(running_loss / len(train_loader))\n",
        "    train_acc.append(running_acc / len(train_loader.dataset))\n",
        "    print(f'Epoch {epoch+1}/{10}, Training Loss: {train_loss[-1]:.4f}, Training Accuracy: {train_acc[-1]:.4f}')\n",
        "    # Evaluate on the dev set\n",
        "    with torch.no_grad():\n",
        "        running_loss = 0.0\n",
        "        running_acc = 0.0\n",
        "        for i, (tfidf, sentiment) in enumerate(dev_loader):\n",
        "            tfidf = tfidf.to(device)\n",
        "            sentiment = sentiment.to(device)\n",
        "            outputs = model(tfidf)\n",
        "            loss = loss_fn(outputs, sentiment)\n",
        "            running_loss += loss.item()\n",
        "            running_acc += (torch.argmax(outputs, dim=1) == sentiment).sum().item()\n",
        "        dev_loss.append(running_loss / len(dev_loader))\n",
        "        dev_acc.append(running_acc / len(dev_loader.dataset))\n",
        "        print(f'Epoch {epoch+1}/{10}, Dev Loss: {dev_loss[-1]:.4f}, Dev Accuracy: {dev_acc[-1]:.4f}')"
      ],
      "metadata": {
        "id": "YZTzBpGl9oXh",
        "outputId": "507d553a-14c9-48a7-aef7-aa942f420ee9",
        "colab": {
          "base_uri": "https://localhost:8080/"
        }
      },
      "execution_count": 111,
      "outputs": [
        {
          "output_type": "stream",
          "name": "stdout",
          "text": [
            "Epoch 1/10, Training Loss: 1.0715, Training Accuracy: 0.4113\n",
            "Epoch 1/10, Dev Loss: 1.0633, Dev Accuracy: 0.4266\n",
            "Epoch 2/10, Training Loss: 1.0283, Training Accuracy: 0.5157\n",
            "Epoch 2/10, Dev Loss: 1.0405, Dev Accuracy: 0.4778\n",
            "Epoch 3/10, Training Loss: 0.9942, Training Accuracy: 0.5801\n",
            "Epoch 3/10, Dev Loss: 1.0254, Dev Accuracy: 0.4936\n",
            "Epoch 4/10, Training Loss: 0.9658, Training Accuracy: 0.6052\n",
            "Epoch 4/10, Dev Loss: 1.0118, Dev Accuracy: 0.5050\n",
            "Epoch 5/10, Training Loss: 0.9416, Training Accuracy: 0.6231\n",
            "Epoch 5/10, Dev Loss: 1.0025, Dev Accuracy: 0.5090\n",
            "Epoch 6/10, Training Loss: 0.9207, Training Accuracy: 0.6370\n",
            "Epoch 6/10, Dev Loss: 0.9952, Dev Accuracy: 0.5108\n",
            "Epoch 7/10, Training Loss: 0.9021, Training Accuracy: 0.6453\n",
            "Epoch 7/10, Dev Loss: 0.9916, Dev Accuracy: 0.5123\n",
            "Epoch 8/10, Training Loss: 0.8855, Training Accuracy: 0.6547\n",
            "Epoch 8/10, Dev Loss: 0.9857, Dev Accuracy: 0.5155\n",
            "Epoch 9/10, Training Loss: 0.8706, Training Accuracy: 0.6624\n",
            "Epoch 9/10, Dev Loss: 0.9825, Dev Accuracy: 0.5183\n",
            "Epoch 10/10, Training Loss: 0.8567, Training Accuracy: 0.6698\n",
            "Epoch 10/10, Dev Loss: 0.9783, Dev Accuracy: 0.5202\n"
          ]
        }
      ]
    },
    {
      "cell_type": "code",
      "source": [
        "import matplotlib.pyplot as plt\n",
        "plt.plot(train_loss, label='train')\n",
        "plt.plot(dev_loss, label='dev')\n",
        "plt.legend()\n",
        "plt.show()\n",
        "plt.plot(train_acc, label='train')\n",
        "plt.plot(dev_acc, label='dev')\n",
        "plt.legend()\n",
        "plt.show()"
      ],
      "metadata": {
        "id": "wycwZ0lYDF2O",
        "outputId": "fde6865a-1422-461d-99b8-73f60b89e340",
        "colab": {
          "base_uri": "https://localhost:8080/",
          "height": 513
        }
      },
      "execution_count": 112,
      "outputs": [
        {
          "output_type": "display_data",
          "data": {
            "text/plain": [
              "<Figure size 432x288 with 1 Axes>"
            ],
            "image/png": "[encoded data removed]"
          },
          "metadata": {
            "needs_background": "light"
          }
        },
        {
          "output_type": "display_data",
          "data": {
            "text/plain": [
              "<Figure size 432x288 with 1 Axes>"
            ],
            "image/png": "[encoded data removed]"
          },
          "metadata": {
            "needs_background": "light"
          }
        }
      ]
    },
    {
      "cell_type": "code",
      "source": [
        "# evaluate on the test set\n",
        "with torch.no_grad():\n",
        "    running_loss = 0.0\n",
        "    running_acc = 0.0\n",
        "    for i, (tfidf, sentiment) in enumerate(test_loader):\n",
        "        tfidf = tfidf.to(device)\n",
        "        sentiment = sentiment.to(device)\n",
        "        outputs = model(tfidf)\n",
        "        loss = loss_fn(outputs, sentiment)\n",
        "        running_loss += loss.item()\n",
        "        running_acc += (torch.argmax(outputs, dim=1) == sentiment).sum().item()\n",
        "    test_loss = running_loss / len(test_loader)\n",
        "    test_acc = running_acc / len(test_loader.dataset)\n",
        "    print(f'Test Loss: {test_loss:.4f}, Test Accuracy: {test_acc:.4f}')"
      ],
      "metadata": {
        "id": "IAgD3xqo_b9S",
        "outputId": "50314981-1bd7-4085-cd36-4d3c8843753e",
        "colab": {
          "base_uri": "https://localhost:8080/"
        }
      },
      "execution_count": 113,
      "outputs": [
        {
          "output_type": "stream",
          "name": "stdout",
          "text": [
            "Test Loss: 0.9800, Test Accuracy: 0.5202\n"
          ]
        }
      ]
    },
    {
      "cell_type": "code",
      "source": [
        "# download glove embeddings\n",
        "!wget http://nlp.stanford.edu/data/glove.6B.zip\n",
        "!unzip glove.6B.zip"
      ],
      "metadata": {
        "id": "_KybsouMhikF",
        "outputId": "d254df98-ff52-4238-d025-fd21a42ae431",
        "colab": {
          "base_uri": "https://localhost:8080/"
        }
      },
      "execution_count": 39,
      "outputs": [
        {
          "output_type": "stream",
          "name": "stdout",
          "text": [
            "--2023-02-04 13:23:16--  http://nlp.stanford.edu/data/glove.6B.zip\n",
            "Resolving nlp.stanford.edu (nlp.stanford.edu)... 171.64.67.140\n",
            "Connecting to nlp.stanford.edu (nlp.stanford.edu)|171.64.67.140|:80... connected.\n",
            "HTTP request sent, awaiting response... 302 Found\n",
            "Location: https://nlp.stanford.edu/data/glove.6B.zip [following]\n",
            "--2023-02-04 13:23:16--  https://nlp.stanford.edu/data/glove.6B.zip\n",
            "Connecting to nlp.stanford.edu (nlp.stanford.edu)|171.64.67.140|:443... connected.\n",
            "HTTP request sent, awaiting response... 301 Moved Permanently\n",
            "Location: https://downloads.cs.stanford.edu/nlp/data/glove.6B.zip [following]\n",
            "--2023-02-04 13:23:16--  https://downloads.cs.stanford.edu/nlp/data/glove.6B.zip\n",
            "Resolving downloads.cs.stanford.edu (downloads.cs.stanford.edu)... 171.64.64.22\n",
            "Connecting to downloads.cs.stanford.edu (downloads.cs.stanford.edu)|171.64.64.22|:443... connected.\n",
            "HTTP request sent, awaiting response... 200 OK\n",
            "Length: 862182613 (822M) [application/zip]\n",
            "Saving to: ‘glove.6B.zip’\n",
            "\n",
            "glove.6B.zip        100%[===================>] 822.24M  5.02MB/s    in 2m 39s  \n",
            "\n",
            "2023-02-04 13:25:55 (5.19 MB/s) - ‘glove.6B.zip’ saved [862182613/862182613]\n",
            "\n",
            "Archive:  glove.6B.zip\n",
            "  inflating: glove.6B.50d.txt        \n",
            "  inflating: glove.6B.100d.txt       \n",
            "  inflating: glove.6B.200d.txt       \n",
            "  inflating: glove.6B.300d.txt       \n"
          ]
        }
      ]
    },
    {
      "cell_type": "code",
      "source": [
        "glove_embeddings = {}\n",
        "with open('glove.6B.50d.txt', 'r') as f:\n",
        "    for line in f:\n",
        "        values = line.split()\n",
        "        word = values[0]\n",
        "        vector = np.asarray(values[1:], 'float32')\n",
        "        glove_embeddings[word] = vector\n",
        "\n",
        "class GloveEmbedding:\n",
        "    def __init__(self, embeddings):\n",
        "        self.embeddings = embeddings\n",
        "        self.dim = list(embeddings.values())[0].shape[0]\n",
        "        \n",
        "    def __call__(self, caption):\n",
        "        words = caption.split()\n",
        "        vectors = [self.embeddings.get(word, np.zeros(self.dim)) for word in words]\n",
        "        if len(vectors) == 0:\n",
        "            return np.zeros(self.dim)\n",
        "        return np.mean(vectors, axis=0)\n",
        "\n",
        "glove_embedding = GloveEmbedding(glove_embeddings)"
      ],
      "metadata": {
        "id": "2aF742rzmGRp"
      },
      "execution_count": 114,
      "outputs": []
    },
    {
      "cell_type": "code",
      "source": [
        "class GloveDataSet(Dataset):\n",
        "    def __init__(self, dataset, embedding):\n",
        "        self.dataset = dataset\n",
        "        self.embedding = embedding\n",
        "        \n",
        "    def __getitem__(self, index):\n",
        "        caption, sentiment = self.dataset[index]\n",
        "        embedding = self.embedding(caption)\n",
        "        return torch.from_numpy(embedding.astype(np.float32)), torch.from_numpy(np.array(sentiment))\n",
        "\n",
        "    def __len__(self):\n",
        "        return len(self.dataset)"
      ],
      "metadata": {
        "id": "JtFMkjiVnGhn"
      },
      "execution_count": 115,
      "outputs": []
    },
    {
      "cell_type": "code",
      "source": [
        "# create datasets\n",
        "train_dataset = GloveDataSet(MSCTD_train, glove_embedding)\n",
        "dev_dataset = GloveDataSet(MSCTD_dev, glove_embedding)\n",
        "test_dataset = GloveDataSet(MSCTD_test, glove_embedding)"
      ],
      "metadata": {
        "id": "V7CCdT8gnKw6"
      },
      "execution_count": 116,
      "outputs": []
    },
    {
      "cell_type": "code",
      "source": [
        "# create data loaders\n",
        "train_loader = DataLoader(train_dataset, batch_size=32, shuffle=True)\n",
        "dev_loader = DataLoader(dev_dataset, batch_size=32, shuffle=True)\n",
        "test_loader = DataLoader(test_dataset, batch_size=32, shuffle=True)\n"
      ],
      "metadata": {
        "id": "xsLM2kmOncyj"
      },
      "execution_count": 117,
      "outputs": []
    },
    {
      "cell_type": "code",
      "source": [
        "input_size = 50\n",
        "num_classes = 3\n",
        "model = MLPClassifier(input_size, num_classes)\n",
        "model = model.to(device)\n",
        "loss_fn = nn.CrossEntropyLoss()\n",
        "optimizer = torch.optim.Adam(model.parameters(), lr=1e-3)"
      ],
      "metadata": {
        "id": "tLX_h0mHnhOv"
      },
      "execution_count": 118,
      "outputs": []
    },
    {
      "cell_type": "code",
      "source": [
        "# Train the model for 10 epochs\n",
        "train_loss = []\n",
        "dev_loss = []\n",
        "train_acc = []\n",
        "dev_acc = []\n",
        "for epoch in range(10):\n",
        "    running_loss = 0.0\n",
        "    running_acc = 0.0\n",
        "    for i, (embedding, sentiment) in enumerate(train_loader):\n",
        "        embedding = embedding.to(device)\n",
        "        sentiment = sentiment.to(device)\n",
        "        \n",
        "        outputs = model(embedding)\n",
        "        loss = loss_fn(outputs, sentiment)\n",
        "        # backward and optimize\n",
        "        optimizer.zero_grad()\n",
        "        loss.backward()\n",
        "        optimizer.step()\n",
        "        running_loss += loss.item()\n",
        "        running_acc += (torch.argmax(outputs, dim=1) == sentiment).sum().item()\n",
        "    train_loss.append(running_loss / len(train_loader))\n",
        "    train_acc.append(running_acc / len(train_loader.dataset))\n",
        "    print(f'Epoch {epoch+1}/{10}, Training Loss: {train_loss[-1]:.4f}, Training Accuracy: {train_acc[-1]:.4f}')\n",
        "    # Evaluate on the dev set\n",
        "    with torch.no_grad():\n",
        "        running_loss = 0.0\n",
        "        running_acc = 0.0\n",
        "        for i, (embedding, sentiment) in enumerate(dev_loader):\n",
        "            embedding = embedding.to(device)\n",
        "            sentiment = sentiment.to(device)\n",
        "            outputs = model(embedding)\n",
        "            loss = loss_fn(outputs, sentiment)\n",
        "            running_loss += loss.item()\n",
        "            running_acc += (torch.argmax(outputs, dim=1) == sentiment).sum().item()\n",
        "        dev_loss.append(running_loss / len(dev_loader))\n",
        "        dev_acc.append(running_acc / len(dev_loader.dataset))\n",
        "        print(f'Epoch {epoch+1}/{10}, Dev Loss: {dev_loss[-1]:.4f}, Dev Accuracy: {dev_acc[-1]:.4f}')\n",
        "        "
      ],
      "metadata": {
        "id": "_O6QbVSwnpuS",
        "outputId": "648004b2-7ca0-44f1-8144-46fdc29b43fa",
        "colab": {
          "base_uri": "https://localhost:8080/"
        }
      },
      "execution_count": 119,
      "outputs": [
        {
          "output_type": "stream",
          "name": "stdout",
          "text": [
            "Epoch 1/10, Training Loss: 1.0616, Training Accuracy: 0.4454\n",
            "Epoch 1/10, Dev Loss: 1.0425, Dev Accuracy: 0.4606\n",
            "Epoch 2/10, Training Loss: 1.0291, Training Accuracy: 0.4857\n",
            "Epoch 2/10, Dev Loss: 1.0270, Dev Accuracy: 0.4782\n",
            "Epoch 3/10, Training Loss: 1.0180, Training Accuracy: 0.4969\n",
            "Epoch 3/10, Dev Loss: 1.0241, Dev Accuracy: 0.4845\n",
            "Epoch 4/10, Training Loss: 1.0122, Training Accuracy: 0.5036\n",
            "Epoch 4/10, Dev Loss: 1.0182, Dev Accuracy: 0.4904\n",
            "Epoch 5/10, Training Loss: 1.0086, Training Accuracy: 0.5047\n",
            "Epoch 5/10, Dev Loss: 1.0185, Dev Accuracy: 0.4898\n",
            "Epoch 6/10, Training Loss: 1.0064, Training Accuracy: 0.5083\n",
            "Epoch 6/10, Dev Loss: 1.0142, Dev Accuracy: 0.4977\n",
            "Epoch 7/10, Training Loss: 1.0051, Training Accuracy: 0.5093\n",
            "Epoch 7/10, Dev Loss: 1.0137, Dev Accuracy: 0.4950\n",
            "Epoch 8/10, Training Loss: 1.0043, Training Accuracy: 0.5102\n",
            "Epoch 8/10, Dev Loss: 1.0132, Dev Accuracy: 0.4950\n",
            "Epoch 9/10, Training Loss: 1.0031, Training Accuracy: 0.5104\n",
            "Epoch 9/10, Dev Loss: 1.0140, Dev Accuracy: 0.4934\n",
            "Epoch 10/10, Training Loss: 1.0026, Training Accuracy: 0.5109\n",
            "Epoch 10/10, Dev Loss: 1.0112, Dev Accuracy: 0.4940\n"
          ]
        }
      ]
    },
    {
      "cell_type": "code",
      "source": [
        "plt.plot(train_loss, label='train')\n",
        "plt.plot(dev_loss, label='dev')\n",
        "plt.legend()\n",
        "plt.show()\n",
        "plt.plot(train_acc, label='train')\n",
        "plt.plot(dev_acc, label='dev')\n",
        "plt.legend()\n",
        "plt.show()"
      ],
      "metadata": {
        "id": "oOGQ9syenuh5",
        "outputId": "f5af6ce5-5ab8-4dd2-94cc-6ead2d9ca7ce",
        "colab": {
          "base_uri": "https://localhost:8080/",
          "height": 513
        }
      },
      "execution_count": 120,
      "outputs": [
        {
          "output_type": "display_data",
          "data": {
            "text/plain": [
              "<Figure size 432x288 with 1 Axes>"
            ],
            "image/png": "[encoded data removed]"
          },
          "metadata": {
            "needs_background": "light"
          }
        },
        {
          "output_type": "display_data",
          "data": {
            "text/plain": [
              "<Figure size 432x288 with 1 Axes>"
            ],
            "image/png": "[encoded data removed]"
          },
          "metadata": {
            "needs_background": "light"
          }
        }
      ]
    },
    {
      "cell_type": "code",
      "source": [
        "# evaluate on the test set\n",
        "with torch.no_grad():\n",
        "    running_loss = 0.0\n",
        "    running_acc = 0.0\n",
        "    for i, (tfidf, sentiment) in enumerate(test_loader):\n",
        "        tfidf = tfidf.to(device)\n",
        "        sentiment = sentiment.to(device)\n",
        "        outputs = model(tfidf)\n",
        "        loss = loss_fn(outputs, sentiment)\n",
        "        running_loss += loss.item()\n",
        "        running_acc += (torch.argmax(outputs, dim=1) == sentiment).sum().item()\n",
        "    test_loss = running_loss / len(test_loader)\n",
        "    test_acc = running_acc / len(test_loader.dataset)\n",
        "    print(f'Test Loss: {test_loss:.4f}, Test Accuracy: {test_acc:.4f}')"
      ],
      "metadata": {
        "id": "iLWstpmWqjK3",
        "outputId": "15fa16a0-2aa8-430d-d112-f7389937c84f",
        "colab": {
          "base_uri": "https://localhost:8080/"
        }
      },
      "execution_count": 121,
      "outputs": [
        {
          "output_type": "stream",
          "name": "stdout",
          "text": [
            "Test Loss: 1.0187, Test Accuracy: 0.4963\n"
          ]
        }
      ]
    }
  ],
  "metadata": {
    "kernelspec": {
      "display_name": "Python 3",
      "language": "python",
      "name": "python3"
    },
    "language_info": {
      "codemirror_mode": {
        "name": "ipython",
        "version": 3
      },
      "file_extension": ".py",
      "mimetype": "text/x-python",
      "name": "python",
      "nbconvert_exporter": "python",
      "pygments_lexer": "ipython3",
      "version": "3.9.0"
    },
    "orig_nbformat": 4,
    "vscode": {
      "interpreter": {
        "hash": "4fbe9694f7587329a2893969593bb646d9caf203732995a36644052b7dd475e8"
      }
    },
    "colab": {
      "provenance": [],
      "include_colab_link": true
    },
    "accelerator": "GPU",
    "gpuClass": "standard"
  },
  "nbformat": 4,
  "nbformat_minor": 0
}