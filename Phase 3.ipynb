{
  "cells": [
    {
      "cell_type": "markdown",
      "metadata": {
        "id": "view-in-github",
        "colab_type": "text"
      },
      "source": [
        "<a href=\"https://colab.research.google.com/github/saeedzou/Deep-Learning-Project/blob/dev-saeed/Phase%203.ipynb\" target=\"_parent\"><img src=\"https://colab.research.google.com/assets/colab-badge.svg\" alt=\"Open In Colab\"/></a>"
      ]
    },
    {
      "cell_type": "code",
      "execution_count": 1,
      "metadata": {
        "colab": {
          "base_uri": "https://localhost:8080/"
        },
        "id": "efwLVBYQo76z",
        "outputId": "4cad233d-4249-47a8-9876-9c8237c302aa"
      },
      "outputs": [
        {
          "output_type": "stream",
          "name": "stdout",
          "text": [
            "Cloning into 'MSCTD'...\n",
            "remote: Enumerating objects: 1217, done.\u001b[K\n",
            "remote: Counting objects: 100% (27/27), done.\u001b[K\n",
            "remote: Compressing objects: 100% (23/23), done.\u001b[K\n",
            "remote: Total 1217 (delta 13), reused 7 (delta 3), pack-reused 1190\u001b[K\n",
            "Receiving objects: 100% (1217/1217), 102.24 MiB | 13.37 MiB/s, done.\n",
            "Resolving deltas: 100% (616/616), done.\n",
            "Updating files: 100% (934/934), done.\n",
            "Downloading...\n",
            "From: https://drive.google.com/uc?id=1-43sQYxSCsCIxQjOCAS-H4dDI6c2zgi8\n",
            "To: /content/train_ende.zip\n",
            "100% 2.90G/2.90G [00:27<00:00, 107MB/s]\n",
            "Downloading...\n",
            "From: https://drive.google.com/uc?id=1k-m84NIuOOTbXjn6ELwj1qBeH7jsN6IO\n",
            "To: /content/dev.zip\n",
            "100% 638M/638M [00:05<00:00, 113MB/s]\n",
            "Downloading...\n",
            "From: https://drive.google.com/uc?id=1-0Gg-qpqJpNfLPU7DT81UaFgwu8DVn15\n",
            "To: /content/test.zip\n",
            "100% 641M/641M [00:06<00:00, 98.4MB/s]\n"
          ]
        }
      ],
      "source": [
        "# This block downloads and preprocesses the needed data for the project\n",
        "!git clone https://github.com/XL2248/MSCTD\n",
        "!cp MSCTD/MSCTD_data/ende/eng* .\n",
        "!cp MSCTD/MSCTD_data/ende/ima* .\n",
        "!cp MSCTD/MSCTD_data/ende/sent* .\n",
        "!rm -rf MSCTD\n",
        "!pip -q install --upgrade --no-cache-dir gdown\n",
        "!gdown 1-43sQYxSCsCIxQjOCAS-H4dDI6c2zgi8\n",
        "!gdown 1k-m84NIuOOTbXjn6ELwj1qBeH7jsN6IO\n",
        "!gdown 1-0Gg-qpqJpNfLPU7DT81UaFgwu8DVn15\n",
        "!unzip -q train_ende.zip\n",
        "!unzip -q dev.zip\n",
        "!unzip -q test.zip\n",
        "!mv train_ende train\n",
        "!mkdir train/image\n",
        "!mkdir dev/image\n",
        "!mkdir test/image\n",
        "!mv train/*.jpg train/image\n",
        "!mv dev/*.jpg dev/image\n",
        "!mv test/*.jpg test/image\n",
        "!mv *train.txt train\n",
        "!mv *dev.txt dev\n",
        "!mv *test.txt test"
      ]
    },
    {
      "cell_type": "code",
      "execution_count": 2,
      "metadata": {
        "colab": {
          "base_uri": "https://localhost:8080/"
        },
        "id": "oM987Bi4o2q2",
        "outputId": "4927a394-c3d8-4b4f-cc20-a0fbb3ec0adc"
      },
      "outputs": [
        {
          "output_type": "stream",
          "name": "stderr",
          "text": [
            "[nltk_data] Downloading package stopwords to /root/nltk_data...\n",
            "[nltk_data]   Unzipping corpora/stopwords.zip.\n",
            "[nltk_data] Downloading package omw-1.4 to /root/nltk_data...\n",
            "[nltk_data] Downloading package punkt to /root/nltk_data...\n",
            "[nltk_data]   Unzipping tokenizers/punkt.zip.\n",
            "[nltk_data] Downloading package averaged_perceptron_tagger to\n",
            "[nltk_data]     /root/nltk_data...\n",
            "[nltk_data]   Unzipping taggers/averaged_perceptron_tagger.zip.\n",
            "[nltk_data] Downloading package wordnet to /root/nltk_data...\n"
          ]
        },
        {
          "output_type": "stream",
          "name": "stdout",
          "text": [
            "\u001b[2K     \u001b[90m━━━━━━━━━━━━━━━━━━━━━━━━━━━━━━━━━━━━━━━━\u001b[0m \u001b[32m6.3/6.3 MB\u001b[0m \u001b[31m48.6 MB/s\u001b[0m eta \u001b[36m0:00:00\u001b[0m\n",
            "\u001b[2K     \u001b[90m━━━━━━━━━━━━━━━━━━━━━━━━━━━━━━━━━━━━━━━━\u001b[0m \u001b[32m7.6/7.6 MB\u001b[0m \u001b[31m75.1 MB/s\u001b[0m eta \u001b[36m0:00:00\u001b[0m\n",
            "\u001b[2K     \u001b[90m━━━━━━━━━━━━━━━━━━━━━━━━━━━━━━━━━━━━━━\u001b[0m \u001b[32m190.3/190.3 KB\u001b[0m \u001b[31m20.7 MB/s\u001b[0m eta \u001b[36m0:00:00\u001b[0m\n",
            "\u001b[2K     \u001b[90m━━━━━━━━━━━━━━━━━━━━━━━━━━━━━━━━━━━━━━\u001b[0m \u001b[32m549.1/549.1 KB\u001b[0m \u001b[31m14.6 MB/s\u001b[0m eta \u001b[36m0:00:00\u001b[0m\n",
            "\u001b[2K     \u001b[90m━━━━━━━━━━━━━━━━━━━━━━━━━━━━━━━━━━━━━━━━\u001b[0m \u001b[32m1.9/1.9 MB\u001b[0m \u001b[31m26.5 MB/s\u001b[0m eta \u001b[36m0:00:00\u001b[0m\n",
            "\u001b[?25h"
          ]
        }
      ],
      "source": [
        "import numpy as np\n",
        "import pandas as pd\n",
        "import nltk\n",
        "import nltk.tokenize as tokenize\n",
        "from nltk.corpus import stopwords\n",
        "from nltk.stem import WordNetLemmatizer\n",
        "from nltk.tokenize import word_tokenize\n",
        "from nltk.corpus import wordnet\n",
        "nltk.download('stopwords')\n",
        "nltk.download('omw-1.4')\n",
        "nltk.download('punkt')\n",
        "nltk.download('averaged_perceptron_tagger')\n",
        "nltk.download('wordnet')\n",
        "stop_words = set(stopwords.words(\"english\"))\n",
        "lemmatizer = WordNetLemmatizer()\n",
        "from sklearn.metrics import classification_report, confusion_matrix\n",
        "import torch\n",
        "import torch.nn as nn\n",
        "import torch.nn.functional as F\n",
        "import torch.optim as optim\n",
        "from torch.utils.data import Dataset, DataLoader\n",
        "import torchvision\n",
        "from torchvision.io import read_image\n",
        "from torchvision import transforms\n",
        "import json\n",
        "import cv2\n",
        "from pycocotools.coco import COCO\n",
        "import os\n",
        "import string\n",
        "import re\n",
        "import gc\n",
        "import random\n",
        "import matplotlib.pyplot as plt\n",
        "!pip install -q transformers\n",
        "import seaborn as sns\n",
        "from transformers import BertTokenizer\n",
        "from transformers import BertModel\n",
        "from PIL import Image\n",
        "!pip install -q timm\n",
        "import timm\n",
        "from tqdm import tqdm\n",
        "!pip install -q facenet_pytorch\n",
        "from facenet_pytorch import MTCNN, InceptionResnetV1"
      ]
    },
    {
      "cell_type": "code",
      "execution_count": 3,
      "metadata": {
        "id": "1HI_093VpCl1"
      },
      "outputs": [],
      "source": [
        "class MSCTD(Dataset):\n",
        "    \"\"\"\n",
        "    :param root: root path of the dataset\n",
        "    :param split: train, dev, test\n",
        "    :param image_transform: transform for image\n",
        "    :param text_transform: transform for text\n",
        "    :param sentiment_transform: transform for sentiment\n",
        "    :param has_data: dict, whether the dataset has image, text\n",
        "    :param text_path: path of the text file\n",
        "    :param image_path: path of the image folder\n",
        "    :param sentiment_path: path of the sentiment file\n",
        "    :param image_index_path: path of the image index file\n",
        "\n",
        "    :return: combination of image, sentiment, text, image_index\n",
        "\n",
        "    Example:\n",
        "    >>> from torchvision import transforms\n",
        "    >>> image_transform = transforms.Compose([\n",
        "    >>>     transforms.Resize((640, 1280)),\n",
        "    >>>     transforms.Lambda(lambda x: x.permute(1, 2, 0))\n",
        "    >>> ])\n",
        "    >>> text_transform = None\n",
        "    >>> sentiment_transform = None\n",
        "    >>> dataset = MSCTD(root='data', split='train', image_transform=image_transform,\n",
        "    >>>                 text_transform=text_transform, sentiment_transform=sentiment_transform)\n",
        "    >>> image, text, sentiment = dataset[0]\n",
        "\n",
        "    \"\"\"\n",
        "    def __init__(self, root, split, image_transform=None, text_transform=None, sentiment_transform=None,\n",
        "                 has_data={'image': True, 'text': True}, text_path=None, image_path=None, sentiment_path=None,\n",
        "                 image_index_path=None):\n",
        "        data_path = os.path.join(root, split)\n",
        "        default_path = {\n",
        "            'text': os.path.join(data_path, 'english_' + split + '.txt'),\n",
        "            'image': os.path.join(data_path, 'image'),\n",
        "            'sentiment': os.path.join(data_path, 'sentiment_' + split + '.txt'),\n",
        "            'image_index': os.path.join(data_path, 'image_index_' + split + '.txt'),\n",
        "        }\n",
        "        self.image = [] if has_data['image'] else None\n",
        "        self.image_transform = image_transform\n",
        "        self.image_path = image_path if image_path else default_path['image']\n",
        "        self.text = [] if has_data['text'] else None\n",
        "        self.text_transform = text_transform\n",
        "        self.text_path = text_path if text_path else default_path['text']\n",
        "        self.sentiment_path = sentiment_path if sentiment_path else default_path['sentiment']\n",
        "        self.image_index_path = image_index_path if image_index_path else default_path['image_index']\n",
        "        self.sentiment = []\n",
        "        self.image_index = []\n",
        "        self.sentiment_transform = sentiment_transform\n",
        "        self.load_data()\n",
        "        \n",
        "    def load_data(self):\n",
        "        self.sentiment = np.loadtxt(self.sentiment_path, dtype=int)\n",
        "        if self.text is not None:\n",
        "            with open(self.text_path, 'r') as f:\n",
        "                self.text = f.readlines()\n",
        "            self.text = [x.strip() for x in self.text]\n",
        "        with open(self.image_index_path, 'r') as f:\n",
        "            data = f.readlines()\n",
        "        self.image_index = [list(map(int, x[1:-2].split(','))) for x in data]\n",
        "\n",
        "    def __getitem__(self, index):\n",
        "        image = None\n",
        "        text = None\n",
        "        sentiment = self.sentiment[index]\n",
        "        if self.image is not None:\n",
        "            imag_path = os.path.join(self.image_path, str(index)+'.jpg')\n",
        "            image = read_image(imag_path)\n",
        "            if self.image_transform:\n",
        "                image = self.image_transform(image)\n",
        "        if self.text is not None:\n",
        "            text = self.text[index]\n",
        "            if self.text_transform:\n",
        "                text = self.text_transform(text)\n",
        "        if self.sentiment_transform:\n",
        "            sentiment = self.sentiment_transform(sentiment)\n",
        "        if text is not None and image is not None:\n",
        "            return image, text, sentiment\n",
        "        elif text is not None:\n",
        "            return text, sentiment\n",
        "        elif image is not None:\n",
        "            return image, sentiment\n",
        "        else:\n",
        "            raise Exception('Either image or text should be not None')\n",
        "\n",
        "    def __len__(self):\n",
        "        return len(self.sentiment)"
      ]
    },
    {
      "cell_type": "code",
      "execution_count": 4,
      "metadata": {
        "id": "OQr-lM0Epwx7"
      },
      "outputs": [],
      "source": [
        "image_transform = torchvision.transforms.Compose([\n",
        "    torchvision.transforms.ToPILImage(),\n",
        "    torchvision.transforms.Resize((224, 224)),\n",
        "    torchvision.transforms.ToTensor(),\n",
        "    torchvision.transforms.Normalize(mean=[0.485, 0.456, 0.406], std=[0.229, 0.224, 0.225])\n",
        "    ])\n",
        "MSCTD_train = MSCTD(root='.', split='train', image_transform=image_transform, has_data={'image': True, 'text': True})\n",
        "MSCTD_dev = MSCTD(root='.', split='dev', image_transform=image_transform, has_data={'image': True, 'text': True})\n",
        "MSCTD_test = MSCTD(root='.', split='test', image_transform=image_transform, has_data={'image': True, 'text': True})"
      ]
    },
    {
      "cell_type": "code",
      "execution_count": 5,
      "metadata": {
        "id": "SklafdvXpxGn"
      },
      "outputs": [],
      "source": [
        "def get_wordnet_pos(word):\n",
        "    \"\"\"Map POS tag to first character used by WordNetLemmatizer\"\"\"\n",
        "    tag = nltk.pos_tag([word])[0][1][0].upper()\n",
        "    tag_dict = {\"J\": wordnet.ADJ,\n",
        "                \"N\": wordnet.NOUN,\n",
        "                \"V\": wordnet.VERB,\n",
        "                \"R\": wordnet.ADV}\n",
        "\n",
        "    return tag_dict.get(tag, wordnet.NOUN)\n",
        "\n",
        "def text_preprocessor(dataset):\n",
        "      # preprocess text\n",
        "      dataset.text = [preprocess_text(text) for text in dataset.text]\n",
        "\n",
        "def preprocess_text(text):\n",
        "      # Replace contractions with original text\n",
        "  text = re.sub(r'(\\b[Aa]in\\'t\\b)', \"am not\", text)\n",
        "  text = re.sub(r'(\\b[Hh]a\\'t\\b)', \"has\", text)\n",
        "  text = re.sub(r'(\\b[Ii]\\'m\\b)', \"i am\", text)\n",
        "  text = re.sub(r'(\\b\\'s\\b)', \" is\", text)\n",
        "  text = re.sub(r'(\\b\\'re\\b)', \" are\", text)\n",
        "  text = re.sub(r'(\\b\\'ve\\b)', \" have\", text)\n",
        "  text = re.sub(r'(\\b\\'d\\b)', \" would\", text)\n",
        "  text = re.sub(r'(\\b\\'ll\\b)', \" will\", text)\n",
        "  text = re.sub(r'(\\b[Ss]han\\'t\\b)', \"shall not\", text)\n",
        "  text = re.sub(r'(\\b[Ww]on\\'t\\b)', \"will not\", text)\n",
        "  text = re.sub(r'(\\b[Ww]ouldn\\'t\\b)', \"would not\", text)\n",
        "  text = re.sub(r'(\\b[Dd]on\\'t\\b)', \"do not\", text)\n",
        "  text = re.sub(r'(\\b[Cc]an\\'t\\b)', \"can not\", text)\n",
        "  text = re.sub(r'(\\b[Ii]s\\'nt\\b)', \"is not\", text)\n",
        "  text = re.sub(r'(\\b[Ww]eren\\'t\\b)', \"were not\", text)\n",
        "  text = re.sub(r'(\\b[Hh]aven\\'t\\b)', \"have not\", text)\n",
        "  text = re.sub(r'(\\b[Hh]adn\\'t\\b)', \"had not\", text)\n",
        "  text = re.sub(r'(\\b[Hh]asn\\'t\\b)', \"has not\", text)\n",
        "  text = re.sub(r'(\\b[Hh]adn\\'t\\b)', \"had not\", text)\n",
        "  text = re.sub(r'(\\b[Dd]idn\\'t\\b)', \"did not\", text)\n",
        "\n",
        "  # Remove punctuation\n",
        "  text = text.translate(str.maketrans(\"\", \"\", string.punctuation))\n",
        "\n",
        "  # Convert to lowercase\n",
        "  text = text.lower()\n",
        "\n",
        "  # Tokenize text\n",
        "  tokens = word_tokenize(text)\n",
        "\n",
        "  # Remove stop words\n",
        "  # tokens = [token for token in tokens if token not in stop_words]\n",
        "  # Remove numbers\n",
        "  tokens = [token for token in tokens if token.isalpha()]\n",
        "\n",
        "  # Lemmatize tokens\n",
        "  tokens = [lemmatizer.lemmatize(token, get_wordnet_pos(token)) for token in tokens]\n",
        "\n",
        "  return ' '.join(tokens)\n",
        "\n",
        "# Test the TextPreprocessor\n",
        "text_preprocessor(MSCTD_train)\n",
        "text_preprocessor(MSCTD_dev)\n",
        "text_preprocessor(MSCTD_test)"
      ]
    },
    {
      "cell_type": "markdown",
      "source": [
        "## Part 1 Subpart 1"
      ],
      "metadata": {
        "id": "pzqrpT_a8yJj"
      }
    },
    {
      "cell_type": "markdown",
      "source": [
        "### Using ResNet50 as image encoder (entire image) and BERT as text encoder. \n",
        "We passed the images to a ResNet50 and removed the fc head. This outputs a 2048-d vector for each image. We then concatenated the encoded image with encoded text (size 768) and pass the result to a Multi-layer Perceptron to predict the sentiment."
      ],
      "metadata": {
        "id": "rWFLAj-iALxs"
      }
    },
    {
      "cell_type": "code",
      "execution_count": 9,
      "metadata": {
        "id": "7jgwu_OxCor0"
      },
      "outputs": [],
      "source": [
        "# define a class that get a dataset and return tokenized dataset\n",
        "class TokenizedDataset(Dataset):\n",
        "    def __init__(self, dataset, tokenizer, max_length=80):\n",
        "        self.dataset = dataset\n",
        "        self.tokenizer = tokenizer\n",
        "        self.max_length = max_length\n",
        "    def __getitem__(self, index):\n",
        "        image, text, sentiment = self.dataset[index]\n",
        "        text = self.tokenizer.encode_plus(text, add_special_tokens=True, max_length=self.max_length, \n",
        "                                          padding='max_length', truncation=True, return_tensors='pt')\n",
        "        return image, text, sentiment\n",
        "    def __len__(self):\n",
        "        return len(self.dataset)\n",
        "\n",
        "# define a image_encoder model using resnet50 on timm\n",
        "class ImageEncoder(nn.Module):\n",
        "    def __init__(self, is_trainable=True):\n",
        "        super(ImageEncoder, self).__init__()\n",
        "        self.resnet = timm.create_model('resnet50', pretrained=True)\n",
        "        self.resnet.fc = nn.Identity()\n",
        "        if not is_trainable:\n",
        "            for param in self.resnet.parameters():\n",
        "                param.requires_grad = False\n",
        "\n",
        "    def forward(self, x):\n",
        "        return self.resnet(x)\n",
        "\n",
        "# define a text_encoder model using bert-base-uncased on huggingface\n",
        "class TextEncoder(nn.Module):\n",
        "    def __init__(self, is_trainable=True):\n",
        "        super(TextEncoder, self).__init__()\n",
        "        self.bert = BertModel.from_pretrained('bert-base-uncased')\n",
        "        if not is_trainable:\n",
        "            for param in self.bert.parameters():\n",
        "                param.requires_grad = False\n",
        "\n",
        "    def forward(self, x):\n",
        "        x = {k: v.squeeze(1) for k, v in x.items()}\n",
        "        return self.bert(**x).last_hidden_state[:, 0, :]\n",
        "\n",
        "# define an MLP classifier\n",
        "class MLPClassifier(nn.Module):\n",
        "    def __init__(self, input_dim, hidden_dim, output_dim):\n",
        "        super(MLPClassifier, self).__init__()\n",
        "        self.fc1 = nn.Linear(input_dim, hidden_dim)\n",
        "        self.fc2 = nn.Linear(hidden_dim, output_dim)\n",
        "        self.relu = nn.ReLU()\n",
        "        self.dropout = nn.Dropout(0.2)\n",
        "        self.softmax = nn.Softmax(dim=1)\n",
        "\n",
        "    def forward(self, x):\n",
        "        x = self.fc1(x)\n",
        "        x = self.relu(x)\n",
        "        x = self.dropout(x)\n",
        "        x = self.fc2(x)\n",
        "        x = self.softmax(x)\n",
        "        return x\n"
      ]
    },
    {
      "cell_type": "code",
      "execution_count": null,
      "metadata": {
        "colab": {
          "base_uri": "https://localhost:8080/"
        },
        "id": "2vgsrDe1eqaw",
        "outputId": "86a1644e-5004-4836-a81c-f78c9d370cce"
      },
      "outputs": [
        {
          "output_type": "stream",
          "name": "stderr",
          "text": [
            "Some weights of the model checkpoint at bert-base-uncased were not used when initializing BertModel: ['cls.seq_relationship.weight', 'cls.predictions.transform.dense.weight', 'cls.predictions.transform.LayerNorm.weight', 'cls.predictions.transform.LayerNorm.bias', 'cls.predictions.bias', 'cls.seq_relationship.bias', 'cls.predictions.decoder.weight', 'cls.predictions.transform.dense.bias']\n",
            "- This IS expected if you are initializing BertModel from the checkpoint of a model trained on another task or with another architecture (e.g. initializing a BertForSequenceClassification model from a BertForPreTraining model).\n",
            "- This IS NOT expected if you are initializing BertModel from the checkpoint of a model that you expect to be exactly identical (initializing a BertForSequenceClassification model from a BertForSequenceClassification model).\n"
          ]
        }
      ],
      "source": [
        "tokenizer = BertTokenizer.from_pretrained('bert-base-uncased')\n",
        "\n",
        "# tokenize datasets\n",
        "max_length = 25\n",
        "tokenized_train = TokenizedDataset(MSCTD_train, tokenizer, max_length)\n",
        "tokenized_dev = TokenizedDataset(MSCTD_dev, tokenizer, max_length)\n",
        "tokenized_test = TokenizedDataset(MSCTD_test, tokenizer, max_length)\n",
        "\n",
        "# dataloader\n",
        "train_dataloader_tokenized = DataLoader(tokenized_train, batch_size=32, shuffle=True)\n",
        "dev_dataloader_tokenized = DataLoader(tokenized_dev, batch_size=32, shuffle=True)\n",
        "test_dataloader_tokenized = DataLoader(tokenized_test, batch_size=32, shuffle=True)\n",
        "\n",
        "# define device\n",
        "device = torch.device('cuda' if torch.cuda.is_available() else 'cpu')\n",
        "\n",
        "# define image_encoder and text_encoder\n",
        "image_encoder = ImageEncoder(is_trainable=True).to(device)\n",
        "text_encoder = TextEncoder(is_trainable=True).to(device)\n",
        "\n",
        "# define the classifier\n",
        "classifier = MLPClassifier(2048 + 768, 512, 3).to(device)\n",
        "\n",
        "# define the optimizer\n",
        "optimizer = optim.Adam(list(text_encoder.parameters()) + list(classifier.parameters()) + list(image_encoder.parameters()), lr=1e-5)"
      ]
    },
    {
      "cell_type": "code",
      "execution_count": null,
      "metadata": {
        "colab": {
          "base_uri": "https://localhost:8080/"
        },
        "id": "DQybwz-iVy5v",
        "outputId": "9a489ccd-808b-405a-ee34-b49e38da7854"
      },
      "outputs": [
        {
          "output_type": "stream",
          "name": "stderr",
          "text": [
            "100%|██████████| 633/633 [09:49<00:00,  1.07it/s]\n",
            "100%|██████████| 159/159 [01:20<00:00,  1.98it/s]\n"
          ]
        },
        {
          "output_type": "stream",
          "name": "stdout",
          "text": [
            "Epoch 1/3, Train Loss: 0.9549, Train Acc: 0.5847, Dev Loss: 0.9391, Dev Acc: 0.6000\n"
          ]
        },
        {
          "output_type": "stream",
          "name": "stderr",
          "text": [
            "100%|██████████| 633/633 [09:15<00:00,  1.14it/s]\n",
            "100%|██████████| 159/159 [01:46<00:00,  1.49it/s]\n"
          ]
        },
        {
          "output_type": "stream",
          "name": "stdout",
          "text": [
            "Epoch 2/3, Train Loss: 0.8628, Train Acc: 0.6818, Dev Loss: 0.9342, Dev Acc: 0.6008\n"
          ]
        },
        {
          "output_type": "stream",
          "name": "stderr",
          "text": [
            "100%|██████████| 633/633 [09:37<00:00,  1.10it/s]\n",
            "100%|██████████| 159/159 [01:20<00:00,  1.99it/s]"
          ]
        },
        {
          "output_type": "stream",
          "name": "stdout",
          "text": [
            "Epoch 3/3, Train Loss: 0.8073, Train Acc: 0.7419, Dev Loss: 0.9481, Dev Acc: 0.5927\n"
          ]
        },
        {
          "output_type": "stream",
          "name": "stderr",
          "text": [
            "\n"
          ]
        }
      ],
      "source": [
        "train_losses = []\n",
        "dev_losses = []\n",
        "train_accs = []\n",
        "dev_accs = []\n",
        "num_epochs = 3\n",
        "for epoch in range(num_epochs):\n",
        "    # train\n",
        "    train_loss = 0\n",
        "    train_acc = 0\n",
        "    total_samples = 0\n",
        "    for images, texts, labels in tqdm(train_dataloader_tokenized):\n",
        "        images = images.to(device)\n",
        "        labels = labels.to(device)\n",
        "        texts = texts.to(device)\n",
        "        # get the image and text embeddings\n",
        "        image_embeddings = image_encoder(images)\n",
        "        text_embeddings = text_encoder(texts)\n",
        "        # concatenate the image and text embeddings\n",
        "        embeddings = torch.cat((image_embeddings, text_embeddings), dim=1)\n",
        "        # get the predictions\n",
        "        predictions = classifier(embeddings)\n",
        "        # calculate the loss\n",
        "        loss = F.cross_entropy(predictions, labels)\n",
        "        # calculate the accuracy\n",
        "        acc = (predictions.argmax(dim=1) == labels).float().sum()\n",
        "        # backpropagation\n",
        "        optimizer.zero_grad()\n",
        "        loss.backward()\n",
        "        optimizer.step()\n",
        "        # update the loss and accuracy\n",
        "        train_loss += loss.item()\n",
        "        train_acc += acc.item()\n",
        "        total_samples += labels.size(0)\n",
        "    # calculate the average loss and accuracy\n",
        "    train_loss /= len(train_dataloader_tokenized)\n",
        "    train_acc /= total_samples\n",
        "    # save the loss and accuracy\n",
        "    train_losses.append(train_loss)\n",
        "    train_accs.append(train_acc)\n",
        "\n",
        "    # evaluate\n",
        "    dev_loss = 0\n",
        "    dev_acc = 0\n",
        "    total_samples = 0\n",
        "    with torch.no_grad():\n",
        "        for images, texts, labels in tqdm(dev_dataloader_tokenized):\n",
        "            images = images.to(device)\n",
        "            labels = labels.to(device)\n",
        "            texts = texts.to(device)\n",
        "            # get the image and text embeddings\n",
        "            image_embeddings = image_encoder(images)\n",
        "            text_embeddings = text_encoder(texts)\n",
        "            # concatenate the image and text embeddings\n",
        "            embeddings = torch.cat((image_embeddings, text_embeddings), dim=1)\n",
        "            # get the predictions\n",
        "            predictions = classifier(embeddings)\n",
        "            # calculate the loss\n",
        "            loss = F.cross_entropy(predictions, labels)\n",
        "            # calculate the accuracy\n",
        "            acc = (predictions.argmax(dim=1) == labels).float().sum()\n",
        "            # update the loss and accuracy\n",
        "            dev_loss += loss.item()\n",
        "            dev_acc += acc.item()\n",
        "            total_samples += labels.size(0)\n",
        "    # calculate the average loss and accuracy\n",
        "    dev_loss /= len(dev_dataloader_tokenized)\n",
        "    dev_acc /= total_samples\n",
        "    # save the loss and accuracy\n",
        "    dev_losses.append(dev_loss)\n",
        "    dev_accs.append(dev_acc)\n",
        "\n",
        "    # print the loss and accuracy\n",
        "    print(f'Epoch {epoch+1}/{num_epochs}, Train Loss: {train_loss:.4f}, Train Acc: {train_acc:.4f}, Dev Loss: {dev_loss:.4f}, Dev Acc: {dev_acc:.4f}')"
      ]
    },
    {
      "cell_type": "code",
      "execution_count": null,
      "metadata": {
        "id": "gCM5X2-_nxMT",
        "outputId": "7d164499-fad5-46e2-9691-2f213118002c",
        "colab": {
          "base_uri": "https://localhost:8080/",
          "height": 350
        }
      },
      "outputs": [
        {
          "output_type": "display_data",
          "data": {
            "text/plain": [
              "<Figure size 1080x360 with 2 Axes>"
            ],
            "image/png": "[encoded data removed]"
          },
          "metadata": {
            "needs_background": "light"
          }
        }
      ],
      "source": [
        "# plot the loss and accuracy\n",
        "fig, ax = plt.subplots(1, 2, figsize=(15, 5))\n",
        "ax[0].plot(train_losses, label='train')\n",
        "ax[0].plot(dev_losses, label='dev')\n",
        "ax[0].set_xlabel('Epoch')\n",
        "ax[0].set_ylabel('Loss')\n",
        "ax[0].title.set_text('Loss')\n",
        "ax[0].legend()\n",
        "ax[1].plot(train_accs, label='train')\n",
        "ax[1].plot(dev_accs, label='dev')\n",
        "ax[1].set_xlabel('Epoch')\n",
        "ax[1].set_ylabel('Accuracy')\n",
        "ax[1].title.set_text('Accuracy')\n",
        "ax[1].legend()\n",
        "plt.show()\n"
      ]
    },
    {
      "cell_type": "code",
      "source": [
        "# confusion matrix and classification report\n",
        "y_true = []\n",
        "y_pred = []\n",
        "with torch.no_grad():\n",
        "    for images, texts, labels in tqdm(test_dataloader_tokenized):\n",
        "        images = images.to(device)\n",
        "        labels = labels.to(device)\n",
        "        texts = texts.to(device)\n",
        "        # get the image and text embeddings\n",
        "        image_embeddings = image_encoder(images)\n",
        "        text_embeddings = text_encoder(texts)\n",
        "        # concatenate the image and text embeddings\n",
        "        embeddings = torch.cat((image_embeddings, text_embeddings), dim=1)\n",
        "        # get the predictions\n",
        "        predictions = classifier(embeddings)\n",
        "        # get the labels\n",
        "        y_true.extend(labels.tolist())\n",
        "        y_pred.extend(predictions.argmax(dim=1).tolist())"
      ],
      "metadata": {
        "colab": {
          "base_uri": "https://localhost:8080/"
        },
        "id": "QryvA-kbD5g8",
        "outputId": "6f954cf3-b220-4d08-91e4-60029f07ffae"
      },
      "execution_count": null,
      "outputs": [
        {
          "output_type": "stream",
          "name": "stderr",
          "text": [
            "100%|██████████| 159/159 [01:31<00:00,  1.75it/s]\n"
          ]
        }
      ]
    },
    {
      "cell_type": "code",
      "source": [
        "# confusion matrix\n",
        "cm = sns.heatmap(confusion_matrix(y_true, y_pred), annot=True, fmt='d', cmap='Blues', xticklabels=['neutral', 'negative', 'positive'], yticklabels=['neutral', 'negative', 'positive'])\n",
        "cm.set_xlabel('Predicted')\n",
        "cm.set_ylabel('True')\n",
        "plt.show()\n",
        "# classification report\n",
        "print('\\n\\n')\n",
        "print(classification_report(y_true, y_pred, target_names=['neutral', 'negative', 'positive']))"
      ],
      "metadata": {
        "colab": {
          "base_uri": "https://localhost:8080/",
          "height": 519
        },
        "id": "jtSgFVDoEPJO",
        "outputId": "c4641487-b26e-406b-e4f7-f6fa6872fa2c"
      },
      "execution_count": null,
      "outputs": [
        {
          "output_type": "display_data",
          "data": {
            "text/plain": [
              "<Figure size 432x288 with 2 Axes>"
            ],
            "image/png": "[encoded data removed]"
          },
          "metadata": {
            "needs_background": "light"
          }
        },
        {
          "output_type": "stream",
          "name": "stdout",
          "text": [
            "\n",
            "\n",
            "\n",
            "              precision    recall  f1-score   support\n",
            "\n",
            "     neutral       0.44      0.55      0.49      1298\n",
            "    negative       0.67      0.71      0.69      2163\n",
            "    positive       0.67      0.48      0.56      1606\n",
            "\n",
            "    accuracy                           0.60      5067\n",
            "   macro avg       0.59      0.58      0.58      5067\n",
            "weighted avg       0.61      0.60      0.60      5067\n",
            "\n"
          ]
        }
      ]
    },
    {
      "cell_type": "markdown",
      "source": [
        "### Using Face Features\n",
        "We used MTCNN to extract faces from the images, then pass the cropped images to InceptionResnetV1 with pretrained 'vggface2' weights which embeds each face to a 512 dimensional vector. We then average these embeddings for images with multiple faces and use an all zeros 512 dimensional vector for images with no detected faces. We then concatenate these image embeddings with BERT output and pass it to a Multi-Layer Perceptron."
      ],
      "metadata": {
        "id": "J8ADYFDeByde"
      }
    },
    {
      "cell_type": "code",
      "source": [
        "# define an image transform that resizes the input to 640x1280 and reshape to (H, W, C)\n",
        "image_transform = transforms.Compose([\n",
        "    transforms.Resize((640, 1280)),\n",
        "    torchvision.transforms.Lambda(lambda x: x.permute(1, 2, 0))\n",
        "])\n",
        "# change the image transform of the dataset\n",
        "MSCTD_train.image_transform = image_transform\n",
        "MSCTD_dev.image_transform = image_transform\n",
        "MSCTD_test.image_transform = image_transform"
      ],
      "metadata": {
        "id": "vwQteDt1E5Jq"
      },
      "execution_count": null,
      "outputs": []
    },
    {
      "cell_type": "code",
      "source": [
        "device = torch.device('cuda' if torch.cuda.is_available() else 'cpu')\n",
        "mtcnn = MTCNN(image_size=160, margin=0, min_face_size=20, thresholds=[0.8, 0.9, 0.9], keep_all=True, device=device)\n",
        "resnet = InceptionResnetV1(pretrained='vggface2').eval().to(device)\n",
        "np.warnings.filterwarnings('ignore', category=np.VisibleDeprecationWarning)\n",
        "\n",
        "# define text encoder\n",
        "text_encoder = TextEncoder(is_trainable=True).to(device)\n",
        "\n",
        "# define the classifier\n",
        "classifier = MLPClassifier(512+768, 512, 3).to(device)\n",
        "\n",
        "# define the optimizer\n",
        "optimizer = optim.Adam(list(classifier.parameters()) + list(text_encoder.parameters()), lr=1e-5)"
      ],
      "metadata": {
        "colab": {
          "base_uri": "https://localhost:8080/",
          "height": 124,
          "referenced_widgets": [
            "8741d5cc28ef4fb3b4968aa05d9c1b65",
            "b6321a1e370a49e0bfd863e28559b737",
            "452c1d02549046ff94945f0f3d74d64f",
            "15b0fb9a413a4abc838c0eb99ef5e2d0",
            "f80d2533f04a4ecc83921b0d6f1d5f37",
            "a70f1e3bc12642cd93c28da7e5fbb9d5",
            "e89599ab79d84e8c9204fccde2f2b123",
            "38a1ece6af714171830173ad962f5eeb",
            "9c37d1e9c8b5491bb55cc61a98b00edd",
            "f9b305eece3c479c8da0cc57a849aec2",
            "954b9f39f7eb4f75b825a2e0210156bb"
          ]
        },
        "id": "L2lc5PItE9SS",
        "outputId": "a41cc8fe-13d8-4932-9179-2dea1f2416a2"
      },
      "execution_count": null,
      "outputs": [
        {
          "output_type": "display_data",
          "data": {
            "text/plain": [
              "  0%|          | 0.00/107M [00:00<?, ?B/s]"
            ],
            "application/vnd.jupyter.widget-view+json": {
              "version_major": 2,
              "version_minor": 0,
              "model_id": "8741d5cc28ef4fb3b4968aa05d9c1b65"
            }
          },
          "metadata": {}
        },
        {
          "output_type": "stream",
          "name": "stderr",
          "text": [
            "Some weights of the model checkpoint at bert-base-uncased were not used when initializing BertModel: ['cls.seq_relationship.weight', 'cls.predictions.transform.dense.weight', 'cls.predictions.transform.LayerNorm.weight', 'cls.predictions.transform.LayerNorm.bias', 'cls.predictions.bias', 'cls.seq_relationship.bias', 'cls.predictions.decoder.weight', 'cls.predictions.transform.dense.bias']\n",
            "- This IS expected if you are initializing BertModel from the checkpoint of a model trained on another task or with another architecture (e.g. initializing a BertForSequenceClassification model from a BertForPreTraining model).\n",
            "- This IS NOT expected if you are initializing BertModel from the checkpoint of a model that you expect to be exactly identical (initializing a BertForSequenceClassification model from a BertForSequenceClassification model).\n"
          ]
        }
      ]
    },
    {
      "cell_type": "code",
      "source": [
        "train_losses = []\n",
        "dev_losses = []\n",
        "train_accs = []\n",
        "dev_accs = []\n",
        "num_epochs = 2\n",
        "for epoch in range(num_epochs):\n",
        "    # train\n",
        "    train_loss = 0\n",
        "    train_acc = 0\n",
        "    total_samples = 0\n",
        "    for images, texts, labels in tqdm(train_dataloader_tokenized):\n",
        "        # crop face images\n",
        "        image_cropped = mtcnn(images)\n",
        "        # average embeddings over images with multiple faces and zero for images with no face\n",
        "        image_embeddings = torch.stack([torch.mean(resnet(image.to(device)), dim=0) if image is not None else torch.zeros(512).to(device) for image in image_cropped])\n",
        "        labels = labels.to(device)\n",
        "        texts = texts.to(device)\n",
        "        # get the text embeddings\n",
        "        text_embeddings = text_encoder(texts)\n",
        "        # concatenate the image and text embeddings\n",
        "        embeddings = torch.cat((image_embeddings, text_embeddings), dim=1)\n",
        "        # get the predictions\n",
        "        predictions = classifier(embeddings)\n",
        "        # calculate the loss\n",
        "        loss = F.cross_entropy(predictions, labels)\n",
        "        # calculate the accuracy\n",
        "        acc = (predictions.argmax(dim=1) == labels).float().sum()\n",
        "        # backpropagation\n",
        "        optimizer.zero_grad()\n",
        "        loss.backward()\n",
        "        optimizer.step()\n",
        "        # update the loss and accuracy\n",
        "        train_loss += loss.item()\n",
        "        train_acc += acc.item()\n",
        "        total_samples += labels.size(0)\n",
        "    # calculate the average loss and accuracy\n",
        "    train_loss /= len(train_dataloader_tokenized)\n",
        "    train_acc /= total_samples\n",
        "    # save the loss and accuracy\n",
        "    train_losses.append(train_loss)\n",
        "    train_accs.append(train_acc)\n",
        "\n",
        "    # evaluate\n",
        "    dev_loss = 0\n",
        "    dev_acc = 0\n",
        "    total_samples = 0\n",
        "    with torch.no_grad():\n",
        "        for images, texts, labels in tqdm(dev_dataloader_tokenized):\n",
        "            # crop face images\n",
        "            image_cropped = mtcnn(images)\n",
        "            # average embeddings over images with multiple faces and zero for images with no face\n",
        "            image_embeddings = torch.stack([torch.mean(resnet(image.to(device)), dim=0) if image is not None else torch.zeros(512).to(device) for image in image_cropped])\n",
        "            labels = labels.to(device)\n",
        "            texts = texts.to(device)\n",
        "            # get the text embeddings\n",
        "            text_embeddings = text_encoder(texts)\n",
        "            # concatenate the image and text embeddings\n",
        "            embeddings = torch.cat((image_embeddings, text_embeddings), dim=1)\n",
        "            # get the predictions\n",
        "            predictions = classifier(embeddings)\n",
        "            # calculate the loss\n",
        "            loss = F.cross_entropy(predictions, labels)\n",
        "            # calculate the accuracy\n",
        "            acc = (predictions.argmax(dim=1) == labels).float().sum()\n",
        "            # update the loss and accuracy\n",
        "            dev_loss += loss.item()\n",
        "            dev_acc += acc.item()\n",
        "            total_samples += labels.size(0)\n",
        "    # calculate the average loss and accuracy\n",
        "    dev_loss /= len(dev_dataloader_tokenized)\n",
        "    dev_acc /= total_samples\n",
        "    # save the loss and accuracy\n",
        "    dev_losses.append(dev_loss)\n",
        "    dev_accs.append(dev_acc)\n",
        "\n",
        "    # print the loss and accuracy\n",
        "    print(f'Epoch {epoch+1}/{num_epochs}, Train Loss: {train_loss:.4f}, Train Acc: {train_acc:.4f}, Dev Loss: {dev_loss:.4f}, Dev Acc: {dev_acc:.4f}')"
      ],
      "metadata": {
        "colab": {
          "base_uri": "https://localhost:8080/"
        },
        "id": "0AkgF-0KFRS8",
        "outputId": "634e2005-956a-4fa9-c274-23dce0bc921a"
      },
      "execution_count": null,
      "outputs": [
        {
          "output_type": "stream",
          "name": "stderr",
          "text": [
            "100%|██████████| 633/633 [38:27<00:00,  3.65s/it]\n",
            "100%|██████████| 159/159 [07:09<00:00,  2.70s/it]\n"
          ]
        },
        {
          "output_type": "stream",
          "name": "stdout",
          "text": [
            "Epoch 1/2, Train Loss: 0.9497, Train Acc: 0.5907, Dev Loss: 0.9362, Dev Acc: 0.6018\n"
          ]
        },
        {
          "output_type": "stream",
          "name": "stderr",
          "text": [
            "100%|██████████| 633/633 [38:46<00:00,  3.67s/it]\n",
            "100%|██████████| 159/159 [07:15<00:00,  2.74s/it]"
          ]
        },
        {
          "output_type": "stream",
          "name": "stdout",
          "text": [
            "Epoch 2/2, Train Loss: 0.8623, Train Acc: 0.6831, Dev Loss: 0.9359, Dev Acc: 0.6044\n"
          ]
        },
        {
          "output_type": "stream",
          "name": "stderr",
          "text": [
            "\n"
          ]
        }
      ]
    },
    {
      "cell_type": "code",
      "source": [
        "# confusion matrix and classification report\n",
        "y_true = []\n",
        "y_pred = []\n",
        "with torch.no_grad():\n",
        "    for images, texts, labels in tqdm(test_dataloader_tokenized):\n",
        "        labels = labels.to(device)\n",
        "        texts = texts.to(device)\n",
        "        # crop face images\n",
        "        image_cropped = mtcnn(images)\n",
        "        # average embeddings over images with multiple faces and zero for images with no face\n",
        "        image_embeddings = torch.stack([torch.mean(resnet(image.to(device)), dim=0) if image is not None else torch.zeros(512).to(device) for image in image_cropped])\n",
        "        # get the text embeddings\n",
        "        text_embeddings = text_encoder(texts)\n",
        "        # concatenate the image and text embeddings\n",
        "        embeddings = torch.cat((image_embeddings, text_embeddings), dim=1)\n",
        "        # get the predictions\n",
        "        predictions = classifier(embeddings)\n",
        "        # get the labels\n",
        "        y_true.extend(labels.tolist())\n",
        "        y_pred.extend(predictions.argmax(dim=1).tolist())"
      ],
      "metadata": {
        "colab": {
          "base_uri": "https://localhost:8080/"
        },
        "id": "qh7CE-w4FLIv",
        "outputId": "d9a94914-34ca-4516-d07e-c3afbf5fc10d"
      },
      "execution_count": null,
      "outputs": [
        {
          "output_type": "stream",
          "name": "stderr",
          "text": [
            "100%|██████████| 159/159 [07:25<00:00,  2.80s/it]\n"
          ]
        }
      ]
    },
    {
      "cell_type": "code",
      "source": [
        "# confusion matrix\n",
        "cm = sns.heatmap(confusion_matrix(y_true, y_pred), annot=True, fmt='d', cmap='Blues', xticklabels=['neutral', 'negative', 'positive'], yticklabels=['neutral', 'negative', 'positive'])\n",
        "cm.set_xlabel('Predicted')\n",
        "cm.set_ylabel('True')\n",
        "plt.show()\n",
        "# classification report\n",
        "print('\\n\\n')\n",
        "print(classification_report(y_true, y_pred, target_names=['neutral', 'negative', 'positive']))"
      ],
      "metadata": {
        "colab": {
          "base_uri": "https://localhost:8080/",
          "height": 519
        },
        "id": "X5OmJ1DYGzmm",
        "outputId": "09e4a5fa-e6ab-4475-ad7b-7245a8f24e45"
      },
      "execution_count": null,
      "outputs": [
        {
          "output_type": "display_data",
          "data": {
            "text/plain": [
              "<Figure size 432x288 with 2 Axes>"
            ],
            "image/png": "[encoded data removed]"
          },
          "metadata": {
            "needs_background": "light"
          }
        },
        {
          "output_type": "stream",
          "name": "stdout",
          "text": [
            "\n",
            "\n",
            "\n",
            "              precision    recall  f1-score   support\n",
            "\n",
            "     neutral       0.46      0.56      0.50      1298\n",
            "    negative       0.68      0.72      0.70      2163\n",
            "    positive       0.66      0.49      0.56      1606\n",
            "\n",
            "    accuracy                           0.60      5067\n",
            "   macro avg       0.60      0.59      0.59      5067\n",
            "weighted avg       0.62      0.60      0.60      5067\n",
            "\n"
          ]
        }
      ]
    },
    {
      "cell_type": "markdown",
      "source": [
        "## Part 1 Subpart 2"
      ],
      "metadata": {
        "id": "CcahCTSx5_xW"
      }
    },
    {
      "cell_type": "markdown",
      "source": [
        "### Using ViT as backbone for images and BERT as backbone for text\n",
        "We concatenated the head of each backbone and trained an MLP on top of it"
      ],
      "metadata": {
        "id": "o3DBoayLHKmR"
      }
    },
    {
      "cell_type": "code",
      "source": [
        "# define a image_encoder model using resnet50 on timm\n",
        "class ViTEncoder(nn.Module):\n",
        "    def __init__(self, is_trainable=True):\n",
        "        super(ViTEncoder, self).__init__()\n",
        "        self.vit = timm.create_model('vit_base_patch16_224', pretrained=True)\n",
        "        self.vit.head = nn.Identity()\n",
        "        if not is_trainable:\n",
        "            for param in self.vit.parameters():\n",
        "                param.requires_grad = False\n",
        "\n",
        "    def forward(self, x):\n",
        "        return self.vit(x)"
      ],
      "metadata": {
        "id": "Bp4L2IQxHb5F"
      },
      "execution_count": null,
      "outputs": []
    },
    {
      "cell_type": "code",
      "source": [
        "image_transform = torchvision.transforms.Compose([\n",
        "    torchvision.transforms.ToPILImage(),\n",
        "    torchvision.transforms.Resize((224, 224)),\n",
        "    torchvision.transforms.ToTensor(),\n",
        "    torchvision.transforms.Normalize(mean=[0.485, 0.456, 0.406], std=[0.229, 0.224, 0.225])\n",
        "    ])\n",
        "\n",
        "# change the image transform of the dataset\n",
        "MSCTD_train.image_transform = image_transform\n",
        "MSCTD_dev.image_transform = image_transform\n",
        "MSCTD_test.image_transform = image_transform\n",
        "\n",
        "# define image_encoder and text_encoder\n",
        "image_encoder = ViTEncoder(is_trainable=True).to(device)\n",
        "text_encoder = TextEncoder(is_trainable=True).to(device)\n",
        "\n",
        "# define the classifier\n",
        "classifier = MLPClassifier(768, 512, 3).to(device)\n",
        "\n",
        "# define the optimizer\n",
        "optimizer = optim.Adam(list(text_encoder.parameters()) + list(classifier.parameters()) + list(image_encoder.parameters()), lr=1e-5)"
      ],
      "metadata": {
        "colab": {
          "base_uri": "https://localhost:8080/"
        },
        "id": "LPv1TJfyHjFm",
        "outputId": "7ab0b805-75df-4c8f-c659-6c72f628ee5b"
      },
      "execution_count": null,
      "outputs": [
        {
          "output_type": "stream",
          "name": "stderr",
          "text": [
            "Some weights of the model checkpoint at bert-base-uncased were not used when initializing BertModel: ['cls.seq_relationship.weight', 'cls.predictions.transform.dense.weight', 'cls.predictions.transform.LayerNorm.weight', 'cls.predictions.transform.LayerNorm.bias', 'cls.predictions.bias', 'cls.seq_relationship.bias', 'cls.predictions.decoder.weight', 'cls.predictions.transform.dense.bias']\n",
            "- This IS expected if you are initializing BertModel from the checkpoint of a model trained on another task or with another architecture (e.g. initializing a BertForSequenceClassification model from a BertForPreTraining model).\n",
            "- This IS NOT expected if you are initializing BertModel from the checkpoint of a model that you expect to be exactly identical (initializing a BertForSequenceClassification model from a BertForSequenceClassification model).\n"
          ]
        }
      ]
    },
    {
      "cell_type": "code",
      "source": [
        "train_losses = []\n",
        "dev_losses = []\n",
        "train_accs = []\n",
        "dev_accs = []\n",
        "num_epochs = 3\n",
        "for epoch in range(num_epochs):\n",
        "    # train\n",
        "    train_loss = 0\n",
        "    train_acc = 0\n",
        "    total_samples = 0\n",
        "    for images, texts, labels in tqdm(train_dataloader_tokenized):\n",
        "        images = images.to(device)\n",
        "        labels = labels.to(device)\n",
        "        texts = texts.to(device)\n",
        "        # get the image and text embeddings\n",
        "        image_embeddings = image_encoder(images)\n",
        "        text_embeddings = text_encoder(texts)\n",
        "        # concatenate the image and text embeddings\n",
        "        embeddings = torch.cat((image_embeddings.unsqueeze(1), text_embeddings.unsqueeze(1)), dim=1)\n",
        "        embeddings = torch.max(embeddings, dim=1)[0]\n",
        "        # get the predictions\n",
        "        predictions = classifier(embeddings)\n",
        "        # calculate the loss\n",
        "        loss = F.cross_entropy(predictions, labels)\n",
        "        # calculate the accuracy\n",
        "        acc = (predictions.argmax(dim=1) == labels).float().sum()\n",
        "        # backpropagation\n",
        "        optimizer.zero_grad()\n",
        "        loss.backward()\n",
        "        optimizer.step()\n",
        "        # update the loss and accuracy\n",
        "        train_loss += loss.item()\n",
        "        train_acc += acc.item()\n",
        "        total_samples += labels.size(0)\n",
        "    # calculate the average loss and accuracy\n",
        "    train_loss /= len(train_dataloader_tokenized)\n",
        "    train_acc /= total_samples\n",
        "    # save the loss and accuracy\n",
        "    train_losses.append(train_loss)\n",
        "    train_accs.append(train_acc)\n",
        "    # evaluate\n",
        "    dev_loss = 0\n",
        "    dev_acc = 0\n",
        "    total_samples = 0\n",
        "    with torch.no_grad():\n",
        "        for images, texts, labels in tqdm(dev_dataloader_tokenized):\n",
        "            images = images.to(device)\n",
        "            labels = labels.to(device)\n",
        "            texts = texts.to(device)\n",
        "            # get the image and text embeddings\n",
        "            image_embeddings = image_encoder(images)\n",
        "            text_embeddings = text_encoder(texts)\n",
        "            # concatenate the image and text embeddings\n",
        "            embeddings = torch.cat((image_embeddings.unsqueeze(1), text_embeddings.unsqueeze(1)), dim=1)\n",
        "            embeddings = torch.max(embeddings, dim=1)[0]\n",
        "            # get the predictions\n",
        "            predictions = classifier(embeddings)\n",
        "            # calculate the loss\n",
        "            loss = F.cross_entropy(predictions, labels)\n",
        "            # calculate the accuracy\n",
        "            acc = (predictions.argmax(dim=1) == labels).float().sum()\n",
        "            # update the loss and accuracy\n",
        "            dev_loss += loss.item()\n",
        "            dev_acc += acc.item()\n",
        "            total_samples += labels.size(0)\n",
        "    # calculate the average loss and accuracy\n",
        "    dev_loss /= len(dev_dataloader_tokenized)\n",
        "    dev_acc /= total_samples\n",
        "    # save the loss and accuracy\n",
        "    dev_losses.append(dev_loss)\n",
        "    dev_accs.append(dev_acc)\n",
        "    # print the loss and accuracy\n",
        "    print(f'Epoch {epoch+1}/{num_epochs}, Train Loss: {train_loss:.4f}, Train Acc: {train_acc:.4f}, Dev Loss: {dev_loss:.4f}, Dev Acc: {dev_acc:.4f}')"
      ],
      "metadata": {
        "colab": {
          "base_uri": "https://localhost:8080/"
        },
        "id": "IHe5QQk7HoS1",
        "outputId": "90fd829b-8fb5-4cf0-c379-1845bf1b0bde"
      },
      "execution_count": null,
      "outputs": [
        {
          "metadata": {
            "tags": null
          },
          "name": "stderr",
          "output_type": "stream",
          "text": [
            "100%|██████████| 633/633 [17:14<00:00,  1.63s/it]\n",
            "100%|██████████| 159/159 [01:57<00:00,  1.36it/s]\n"
          ]
        },
        {
          "metadata": {
            "tags": null
          },
          "name": "stdout",
          "output_type": "stream",
          "text": [
            "Epoch 1/3, Train Loss: 0.9568, Train Acc: 0.5781, Dev Loss: 0.9323, Dev Acc: 0.6022\n"
          ]
        },
        {
          "output_type": "stream",
          "name": "stderr",
          "text": [
            "100%|██████████| 633/633 [16:53<00:00,  1.60s/it]\n",
            "100%|██████████| 159/159 [01:56<00:00,  1.37it/s]\n"
          ]
        },
        {
          "output_type": "stream",
          "name": "stdout",
          "text": [
            "Epoch 2/3, Train Loss: 0.8608, Train Acc: 0.6844, Dev Loss: 0.9360, Dev Acc: 0.6030\n"
          ]
        },
        {
          "output_type": "stream",
          "name": "stderr",
          "text": [
            "100%|██████████| 633/633 [16:35<00:00,  1.57s/it]\n",
            "100%|██████████| 159/159 [01:55<00:00,  1.38it/s]"
          ]
        },
        {
          "output_type": "stream",
          "name": "stdout",
          "text": [
            "Epoch 3/3, Train Loss: 0.8082, Train Acc: 0.7390, Dev Loss: 0.9398, Dev Acc: 0.6010\n"
          ]
        },
        {
          "output_type": "stream",
          "name": "stderr",
          "text": [
            "\n"
          ]
        }
      ]
    },
    {
      "cell_type": "code",
      "source": [
        "# confusion matrix and classification report\n",
        "y_true = []\n",
        "y_pred = []\n",
        "with torch.no_grad():\n",
        "    for images, texts, labels in tqdm(test_dataloader_tokenized):\n",
        "        images = images.to(device)\n",
        "        labels = labels.to(device)\n",
        "        texts = texts.to(device)\n",
        "        # get the image and text embeddings\n",
        "        image_embeddings = image_encoder(images)\n",
        "        text_embeddings = text_encoder(texts)\n",
        "        # concatenate the image and text embeddings\n",
        "        embeddings = torch.cat((image_embeddings.unsqueeze(1), text_embeddings.unsqueeze(1)), dim=1)\n",
        "        embeddings = torch.max(embeddings, dim=1)[0]\n",
        "        # get the predictions\n",
        "        predictions = classifier(embeddings)\n",
        "        # get the labels\n",
        "        y_true.extend(labels.tolist())\n",
        "        y_pred.extend(predictions.argmax(dim=1).tolist())"
      ],
      "metadata": {
        "colab": {
          "base_uri": "https://localhost:8080/"
        },
        "id": "Eo3RL2pAH6tU",
        "outputId": "d2d458f6-9014-4bff-988c-f9352c91a2d9"
      },
      "execution_count": null,
      "outputs": [
        {
          "output_type": "stream",
          "name": "stderr",
          "text": [
            "100%|██████████| 159/159 [02:04<00:00,  1.28it/s]\n"
          ]
        }
      ]
    },
    {
      "cell_type": "code",
      "source": [
        "# confusion matrix\n",
        "cm = sns.heatmap(confusion_matrix(y_true, y_pred), annot=True, fmt='d', cmap='Blues', xticklabels=['neutral', 'negative', 'positive'], yticklabels=['neutral', 'negative', 'positive'])\n",
        "cm.set_xlabel('Predicted')\n",
        "cm.set_ylabel('True')\n",
        "plt.show()\n",
        "# classification report\n",
        "print('\\n\\n')\n",
        "print(classification_report(y_true, y_pred, target_names=['neutral', 'negative', 'positive']))"
      ],
      "metadata": {
        "colab": {
          "base_uri": "https://localhost:8080/",
          "height": 519
        },
        "id": "xy_OuYWOH-0N",
        "outputId": "08239c54-dd12-4966-bac1-14dc9c46eb69"
      },
      "execution_count": null,
      "outputs": [
        {
          "output_type": "display_data",
          "data": {
            "text/plain": [
              "<Figure size 432x288 with 2 Axes>"
            ],
            "image/png": "[encoded data removed]"
          },
          "metadata": {
            "needs_background": "light"
          }
        },
        {
          "output_type": "stream",
          "name": "stdout",
          "text": [
            "\n",
            "\n",
            "\n",
            "              precision    recall  f1-score   support\n",
            "\n",
            "     neutral       0.46      0.54      0.50      1298\n",
            "    negative       0.72      0.66      0.69      2163\n",
            "    positive       0.61      0.60      0.60      1606\n",
            "\n",
            "    accuracy                           0.61      5067\n",
            "   macro avg       0.60      0.60      0.60      5067\n",
            "weighted avg       0.62      0.61      0.61      5067\n",
            "\n"
          ]
        }
      ]
    },
    {
      "cell_type": "markdown",
      "source": [
        "# Part 2"
      ],
      "metadata": {
        "id": "Hs5Sw_zR82_D"
      }
    },
    {
      "cell_type": "code",
      "source": [
        "tokenizer = BertTokenizer.from_pretrained('bert-base-uncased')\n",
        "\n",
        "# tokenize datasets\n",
        "max_length = 25\n",
        "tokenized_train = TokenizedDataset(MSCTD_train, tokenizer, max_length)\n",
        "tokenized_dev = TokenizedDataset(MSCTD_dev, tokenizer, max_length)\n",
        "tokenized_test = TokenizedDataset(MSCTD_test, tokenizer, max_length)\n",
        "\n",
        "# dataloader\n",
        "train_dataloader_tokenized = DataLoader(tokenized_train, batch_size=32, shuffle=True)\n",
        "dev_dataloader_tokenized = DataLoader(tokenized_dev, batch_size=32, shuffle=True)\n",
        "test_dataloader_tokenized = DataLoader(tokenized_test, batch_size=32, shuffle=True)\n",
        "\n",
        "# define device\n",
        "device = torch.device('cuda' if torch.cuda.is_available() else 'cpu')"
      ],
      "metadata": {
        "id": "bsIEyDGEaaiZ"
      },
      "execution_count": 10,
      "outputs": []
    },
    {
      "cell_type": "code",
      "source": [
        "# define a new class for image encoder that gets image encoder as input and adds a linear layer on top of it\n",
        "class ImageEncoderWithLinearLayer(nn.Module):\n",
        "    def __init__(self, is_trainable=True):\n",
        "        super(ImageEncoderWithLinearLayer, self).__init__()\n",
        "        self.image_encoder = ImageEncoder(is_trainable=True)\n",
        "        self.linear_layer = nn.Linear(2048, 3)\n",
        "\n",
        "    def forward(self, x):\n",
        "        x = self.image_encoder(x)\n",
        "        x = self.linear_layer(x)\n",
        "        return x\n",
        "\n",
        "# define a new class for text encoder that gets text encoder as input and adds a linear layer on top of it\n",
        "class TextEncoderWithLinearLayer(nn.Module):\n",
        "    def __init__(self, is_trainable=True):\n",
        "        super(TextEncoderWithLinearLayer, self).__init__()\n",
        "        self.text_encoder = TextEncoder(is_trainable=True)\n",
        "        self.linear_layer = nn.Linear(768, 3)\n",
        "\n",
        "    def forward(self, x):\n",
        "        x = self.text_encoder(x)\n",
        "        x = self.linear_layer(x)\n",
        "        return x\n",
        "\n",
        "image_encoder = ImageEncoderWithLinearLayer().to(device)\n",
        "image_optimizer = optim.Adam(image_encoder.parameters(), lr=1e-5)\n",
        "text_encoder = TextEncoderWithLinearLayer().to(device)\n",
        "text_optimizer = optim.Adam(text_encoder.parameters(), lr=1e-5)"
      ],
      "metadata": {
        "id": "2CqPukX_afdG",
        "colab": {
          "base_uri": "https://localhost:8080/"
        },
        "outputId": "7909dfb0-5436-4983-cad8-aef2f8d20988"
      },
      "execution_count": 16,
      "outputs": [
        {
          "output_type": "stream",
          "name": "stderr",
          "text": [
            "Some weights of the model checkpoint at bert-base-uncased were not used when initializing BertModel: ['cls.seq_relationship.weight', 'cls.predictions.transform.dense.bias', 'cls.seq_relationship.bias', 'cls.predictions.transform.dense.weight', 'cls.predictions.bias', 'cls.predictions.transform.LayerNorm.weight', 'cls.predictions.decoder.weight', 'cls.predictions.transform.LayerNorm.bias']\n",
            "- This IS expected if you are initializing BertModel from the checkpoint of a model trained on another task or with another architecture (e.g. initializing a BertForSequenceClassification model from a BertForPreTraining model).\n",
            "- This IS NOT expected if you are initializing BertModel from the checkpoint of a model that you expect to be exactly identical (initializing a BertForSequenceClassification model from a BertForSequenceClassification model).\n"
          ]
        }
      ]
    },
    {
      "cell_type": "markdown",
      "source": [
        "### Training on image"
      ],
      "metadata": {
        "id": "mNFWjtigSwTE"
      }
    },
    {
      "cell_type": "code",
      "source": [
        "train_losses = []\n",
        "dev_losses = []\n",
        "train_accs = []\n",
        "dev_accs = []\n",
        "num_epochs = 3\n",
        "for epoch in range(num_epochs):\n",
        "    # train\n",
        "    train_loss = 0\n",
        "    train_acc = 0\n",
        "    total_samples = 0\n",
        "    for images, _, labels in tqdm(train_dataloader_tokenized):\n",
        "        images = images.to(device)\n",
        "        labels = labels.to(device)\n",
        "        # get the image embeddings\n",
        "        predictions = image_encoder(images)\n",
        "        # calculate the loss\n",
        "        loss = F.cross_entropy(predictions, labels)\n",
        "        # calculate the accuracy\n",
        "        acc = (predictions.argmax(dim=1) == labels).float().sum()\n",
        "        # backpropagation\n",
        "        image_optimizer.zero_grad()\n",
        "        loss.backward()\n",
        "        image_optimizer.step()\n",
        "        # update the loss and accuracy\n",
        "        train_loss += loss.item()\n",
        "        train_acc += acc.item()\n",
        "        total_samples += labels.size(0)\n",
        "    # calculate the average loss and accuracy\n",
        "    train_loss /= len(train_dataloader_tokenized)\n",
        "    train_acc /= total_samples\n",
        "    # save the loss and accuracy\n",
        "    train_losses.append(train_loss)\n",
        "    train_accs.append(train_acc)\n",
        "    # evaluate\n",
        "    dev_loss = 0\n",
        "    dev_acc = 0\n",
        "    total_samples = 0\n",
        "    with torch.no_grad():\n",
        "        for images, _, labels in tqdm(dev_dataloader_tokenized):\n",
        "            images = images.to(device)\n",
        "            labels = labels.to(device)\n",
        "            # get the image embeddings\n",
        "            predictions = image_encoder(images)\n",
        "            # calculate the loss\n",
        "            loss = F.cross_entropy(predictions, labels)\n",
        "            # calculate the accuracy\n",
        "            acc = (predictions.argmax(dim=1) == labels).float().sum()\n",
        "            # update the loss and accuracy\n",
        "            dev_loss += loss.item()\n",
        "            dev_acc += acc.item()\n",
        "            total_samples += labels.size(0)\n",
        "    # calculate the average loss and accuracy\n",
        "    dev_loss /= len(dev_dataloader_tokenized)\n",
        "    dev_acc /= total_samples\n",
        "    # save the loss and accuracy\n",
        "    dev_losses.append(dev_loss)\n",
        "    dev_accs.append(dev_acc)\n",
        "    # print the loss and accuracy\n",
        "    print(f'Epoch {epoch+1}/{num_epochs}, Train Loss: {train_loss:.4f}, Train Acc: {train_acc:.4f}, Dev Loss: {dev_loss:.4f}, Dev Acc: {dev_acc:.4f}')"
      ],
      "metadata": {
        "colab": {
          "base_uri": "https://localhost:8080/"
        },
        "id": "zSs1X5SGQx-c",
        "outputId": "5d508d7d-9ff5-4d98-e3ae-0f389eea495f"
      },
      "execution_count": 18,
      "outputs": [
        {
          "output_type": "stream",
          "name": "stderr",
          "text": [
            "100%|██████████| 633/633 [08:59<00:00,  1.17it/s]\n",
            "100%|██████████| 159/159 [01:19<00:00,  2.01it/s]\n"
          ]
        },
        {
          "output_type": "stream",
          "name": "stdout",
          "text": [
            "Epoch 1/3, Train Loss: 1.0899, Train Acc: 0.3838, Dev Loss: 1.0954, Dev Acc: 0.3624\n"
          ]
        },
        {
          "output_type": "stream",
          "name": "stderr",
          "text": [
            "100%|██████████| 633/633 [07:38<00:00,  1.38it/s]\n",
            "100%|██████████| 159/159 [01:15<00:00,  2.11it/s]\n"
          ]
        },
        {
          "output_type": "stream",
          "name": "stdout",
          "text": [
            "Epoch 2/3, Train Loss: 1.0849, Train Acc: 0.3917, Dev Loss: 1.0967, Dev Acc: 0.3636\n"
          ]
        },
        {
          "output_type": "stream",
          "name": "stderr",
          "text": [
            "100%|██████████| 633/633 [09:04<00:00,  1.16it/s]\n",
            "100%|██████████| 159/159 [01:30<00:00,  1.76it/s]"
          ]
        },
        {
          "output_type": "stream",
          "name": "stdout",
          "text": [
            "Epoch 3/3, Train Loss: 1.0821, Train Acc: 0.3967, Dev Loss: 1.0952, Dev Acc: 0.3632\n"
          ]
        },
        {
          "output_type": "stream",
          "name": "stderr",
          "text": [
            "\n"
          ]
        }
      ]
    },
    {
      "cell_type": "code",
      "source": [
        "torch.save(image_encoder, 'image_backbone.pth')"
      ],
      "metadata": {
        "id": "3J20teELYL4R"
      },
      "execution_count": 19,
      "outputs": []
    },
    {
      "cell_type": "markdown",
      "source": [
        "### Training on text"
      ],
      "metadata": {
        "id": "Y53xHFmaTN0r"
      }
    },
    {
      "cell_type": "code",
      "source": [
        "train_losses = []\n",
        "dev_losses = []\n",
        "train_accs = []\n",
        "dev_accs = []\n",
        "num_epochs = 2\n",
        "for epoch in range(num_epochs):\n",
        "    # train\n",
        "    train_loss = 0\n",
        "    train_acc = 0\n",
        "    total_samples = 0\n",
        "    for ـ, texts, labels in tqdm(train_dataloader_tokenized):\n",
        "        texts = texts.to(device)\n",
        "        labels = labels.to(device)\n",
        "        # get the image embeddings\n",
        "        predictions = text_encoder(texts)\n",
        "        # calculate the loss\n",
        "        loss = F.cross_entropy(predictions, labels)\n",
        "        # calculate the accuracy\n",
        "        acc = (predictions.argmax(dim=1) == labels).float().sum()\n",
        "        # backpropagation\n",
        "        text_optimizer.zero_grad()\n",
        "        loss.backward()\n",
        "        text_optimizer.step()\n",
        "        # update the loss and accuracy\n",
        "        train_loss += loss.item()\n",
        "        train_acc += acc.item()\n",
        "        total_samples += labels.size(0)\n",
        "    # calculate the average loss and accuracy\n",
        "    train_loss /= len(train_dataloader_tokenized)\n",
        "    train_acc /= total_samples\n",
        "    # save the loss and accuracy\n",
        "    train_losses.append(train_loss)\n",
        "    train_accs.append(train_acc)\n",
        "    # evaluate\n",
        "    dev_loss = 0\n",
        "    dev_acc = 0\n",
        "    total_samples = 0\n",
        "    with torch.no_grad():\n",
        "        for _, texts, labels in tqdm(dev_dataloader_tokenized):\n",
        "            texts = texts.to(device)\n",
        "            labels = labels.to(device)\n",
        "            # get the image embeddings\n",
        "            predictions = text_encoder(texts)\n",
        "            # calculate the loss\n",
        "            loss = F.cross_entropy(predictions, labels)\n",
        "            # calculate the accuracy\n",
        "            acc = (predictions.argmax(dim=1) == labels).float().sum()\n",
        "            # update the loss and accuracy\n",
        "            dev_loss += loss.item()\n",
        "            dev_acc += acc.item()\n",
        "            total_samples += labels.size(0)\n",
        "    # calculate the average loss and accuracy\n",
        "    dev_loss /= len(dev_dataloader_tokenized)\n",
        "    dev_acc /= total_samples\n",
        "    # save the loss and accuracy\n",
        "    dev_losses.append(dev_loss)\n",
        "    dev_accs.append(dev_acc)\n",
        "    # print the loss and accuracy\n",
        "    print(f'Epoch {epoch+1}/{num_epochs}, Train Loss: {train_loss:.4f}, Train Acc: {train_acc:.4f}, Dev Loss: {dev_loss:.4f}, Dev Acc: {dev_acc:.4f}')"
      ],
      "metadata": {
        "colab": {
          "base_uri": "https://localhost:8080/"
        },
        "id": "1227-d69RxSf",
        "outputId": "1d5def18-8063-4b8a-e07b-73d1e9206344"
      },
      "execution_count": 20,
      "outputs": [
        {
          "output_type": "stream",
          "name": "stderr",
          "text": [
            "100%|██████████| 633/633 [06:02<00:00,  1.75it/s]\n",
            "100%|██████████| 159/159 [01:04<00:00,  2.46it/s]\n"
          ]
        },
        {
          "output_type": "stream",
          "name": "stdout",
          "text": [
            "Epoch 1/2, Train Loss: 0.8716, Train Acc: 0.6035, Dev Loss: 0.8605, Dev Acc: 0.6048\n"
          ]
        },
        {
          "output_type": "stream",
          "name": "stderr",
          "text": [
            "100%|██████████| 633/633 [05:36<00:00,  1.88it/s]\n",
            "100%|██████████| 159/159 [01:04<00:00,  2.46it/s]"
          ]
        },
        {
          "output_type": "stream",
          "name": "stdout",
          "text": [
            "Epoch 2/2, Train Loss: 0.6848, Train Acc: 0.7098, Dev Loss: 0.8902, Dev Acc: 0.6014\n"
          ]
        },
        {
          "output_type": "stream",
          "name": "stderr",
          "text": [
            "\n"
          ]
        }
      ]
    },
    {
      "cell_type": "code",
      "source": [
        "torch.save(text_encoder, 'text_backbone.pth')"
      ],
      "metadata": {
        "id": "mwXLtcDtYlfa"
      },
      "execution_count": 21,
      "outputs": []
    },
    {
      "cell_type": "markdown",
      "source": [
        "### Weakly Supervised Learning on COCO"
      ],
      "metadata": {
        "id": "7eCyonr1foXO"
      }
    },
    {
      "cell_type": "code",
      "source": [
        "!wget http://images.cocodataset.org/annotations/annotations_trainval2014.zip\n",
        "!unzip -q annotations_trainval2014.zip\n",
        "!wget http://images.cocodataset.org/zips/train2014.zip\n",
        "!unzip -q train2014.zip\n",
        "!rm -f train2014.zip\n",
        "!rm -f annotations_trainval2014.zip"
      ],
      "metadata": {
        "id": "inECcG-KFkMz",
        "outputId": "e13b024b-2030-4368-addc-911deb3379df",
        "colab": {
          "base_uri": "https://localhost:8080/"
        }
      },
      "execution_count": 26,
      "outputs": [
        {
          "output_type": "stream",
          "name": "stdout",
          "text": [
            "--2023-02-11 07:46:19--  http://images.cocodataset.org/annotations/annotations_trainval2014.zip\n",
            "Resolving images.cocodataset.org (images.cocodataset.org)... 3.5.16.2, 52.217.133.185, 52.217.133.1, ...\n",
            "Connecting to images.cocodataset.org (images.cocodataset.org)|3.5.16.2|:80... connected.\n",
            "HTTP request sent, awaiting response... 200 OK\n",
            "Length: 252872794 (241M) [application/zip]\n",
            "Saving to: ‘annotations_trainval2014.zip’\n",
            "\n",
            "annotations_trainva 100%[===================>] 241.16M  33.4MB/s    in 8.3s    \n",
            "\n",
            "2023-02-11 07:46:28 (29.1 MB/s) - ‘annotations_trainval2014.zip’ saved [252872794/252872794]\n",
            "\n",
            "--2023-02-11 07:46:36--  http://images.cocodataset.org/zips/train2014.zip\n",
            "Resolving images.cocodataset.org (images.cocodataset.org)... 52.217.98.116, 52.216.42.169, 54.231.135.33, ...\n",
            "Connecting to images.cocodataset.org (images.cocodataset.org)|52.217.98.116|:80... connected.\n",
            "HTTP request sent, awaiting response... 200 OK\n",
            "Length: 13510573713 (13G) [application/zip]\n",
            "Saving to: ‘train2014.zip’\n",
            "\n",
            "train2014.zip       100%[===================>]  12.58G  33.1MB/s    in 6m 37s  \n",
            "\n",
            "2023-02-11 07:53:13 (32.4 MB/s) - ‘train2014.zip’ saved [13510573713/13510573713]\n",
            "\n"
          ]
        }
      ]
    },
    {
      "cell_type": "code",
      "source": [
        "class COCOPeopleDataset(Dataset):\n",
        "    def __init__(self, annFile, captions_path, transforms=None):\n",
        "        self.coco = COCO(annFile)\n",
        "        self.coco_caps = COCO(captions_path)\n",
        "        self.imgIds = self.coco.getImgIds(catIds=self.coco.getCatIds(catNms=['person']))\n",
        "        self.transforms = transforms\n",
        "\n",
        "        self.text = []\n",
        "        for idx in range(len(self.imgIds)):\n",
        "            img = self.coco.loadImgs(self.imgIds[idx])[0]\n",
        "            annIds = self.coco_caps.getAnnIds(imgIds=img['id'])\n",
        "            anns = self.coco_caps.loadAnns(annIds)\n",
        "            self.text.append(anns[0]['caption'])\n",
        "\n",
        "    def __len__(self):\n",
        "        return len(self.imgIds)\n",
        "\n",
        "    def __getitem__(self, idx):\n",
        "        img = self.coco.loadImgs(self.imgIds[idx])[0]\n",
        "        path = os.path.join('train2014/', img['file_name'])\n",
        "        image = cv2.imread(path)\n",
        "        image = cv2.cvtColor(image, cv2.COLOR_BGR2RGB)\n",
        "        image = image.astype(np.float32) / 255.0\n",
        "        caption = self.text[idx]\n",
        "\n",
        "        if self.transforms is not None:\n",
        "            image = self.transforms(image)\n",
        "\n",
        "        return image, caption\n",
        "\n",
        "\n",
        "# Apply desired transformations\n",
        "image_transform = transforms.Compose([transforms.ToTensor(), \n",
        "                                      transforms.Resize((224, 224)), \n",
        "                                      transforms.Normalize(mean=[0.485, 0.456, 0.406], std=[0.229, 0.224, 0.225])])\n",
        "\n",
        "# Create the dataset\n",
        "coco_dataset = COCOPeopleDataset(annFile='/content/annotations/instances_train2014.json',captions_path='/content/annotations/captions_train2014.json', transforms=image_transform)\n",
        "     "
      ],
      "metadata": {
        "id": "eOAtSCN2M5vK",
        "outputId": "e6e66bca-70e2-4725-d167-c6fc34baa6b1",
        "colab": {
          "base_uri": "https://localhost:8080/"
        }
      },
      "execution_count": 27,
      "outputs": [
        {
          "output_type": "stream",
          "name": "stdout",
          "text": [
            "loading annotations into memory...\n",
            "Done (t=16.49s)\n",
            "creating index...\n",
            "index created!\n",
            "loading annotations into memory...\n",
            "Done (t=0.91s)\n",
            "creating index...\n",
            "index created!\n"
          ]
        }
      ]
    },
    {
      "cell_type": "code",
      "source": [
        "def get_wordnet_pos(word):\n",
        "    \"\"\"Map POS tag to first character used by WordNetLemmatizer\"\"\"\n",
        "    tag = nltk.pos_tag([word])[0][1][0].upper()\n",
        "    tag_dict = {\"J\": wordnet.ADJ,\n",
        "                \"N\": wordnet.NOUN,\n",
        "                \"V\": wordnet.VERB,\n",
        "                \"R\": wordnet.ADV}\n",
        "\n",
        "    return tag_dict.get(tag, wordnet.NOUN)\n",
        "\n",
        "def text_preprocessor(dataset):\n",
        "      # preprocess text\n",
        "      dataset.text = [preprocess_text(text) for text in dataset.text]\n",
        "\n",
        "def preprocess_text(text):\n",
        "      # Replace contractions with original text\n",
        "  text = re.sub(r'(\\b[Aa]in\\'t\\b)', \"am not\", text)\n",
        "  text = re.sub(r'(\\b[Hh]a\\'t\\b)', \"has\", text)\n",
        "  text = re.sub(r'(\\b[Ii]\\'m\\b)', \"i am\", text)\n",
        "  text = re.sub(r'(\\b\\'s\\b)', \" is\", text)\n",
        "  text = re.sub(r'(\\b\\'re\\b)', \" are\", text)\n",
        "  text = re.sub(r'(\\b\\'ve\\b)', \" have\", text)\n",
        "  text = re.sub(r'(\\b\\'d\\b)', \" would\", text)\n",
        "  text = re.sub(r'(\\b\\'ll\\b)', \" will\", text)\n",
        "  text = re.sub(r'(\\b[Ss]han\\'t\\b)', \"shall not\", text)\n",
        "  text = re.sub(r'(\\b[Ww]on\\'t\\b)', \"will not\", text)\n",
        "  text = re.sub(r'(\\b[Ww]ouldn\\'t\\b)', \"would not\", text)\n",
        "  text = re.sub(r'(\\b[Dd]on\\'t\\b)', \"do not\", text)\n",
        "  text = re.sub(r'(\\b[Cc]an\\'t\\b)', \"can not\", text)\n",
        "  text = re.sub(r'(\\b[Ii]s\\'nt\\b)', \"is not\", text)\n",
        "  text = re.sub(r'(\\b[Ww]eren\\'t\\b)', \"were not\", text)\n",
        "  text = re.sub(r'(\\b[Hh]aven\\'t\\b)', \"have not\", text)\n",
        "  text = re.sub(r'(\\b[Hh]adn\\'t\\b)', \"had not\", text)\n",
        "  text = re.sub(r'(\\b[Hh]asn\\'t\\b)', \"has not\", text)\n",
        "  text = re.sub(r'(\\b[Hh]adn\\'t\\b)', \"had not\", text)\n",
        "  text = re.sub(r'(\\b[Dd]idn\\'t\\b)', \"did not\", text)\n",
        "\n",
        "  # Remove punctuation\n",
        "  text = text.translate(str.maketrans(\"\", \"\", string.punctuation))\n",
        "\n",
        "  # Convert to lowercase\n",
        "  text = text.lower()\n",
        "\n",
        "  # Tokenize text\n",
        "  tokens = word_tokenize(text)\n",
        "\n",
        "  # Remove stop words\n",
        "  # tokens = [token for token in tokens if token not in stop_words]\n",
        "  # Remove numbers\n",
        "  tokens = [token for token in tokens if token.isalpha()]\n",
        "\n",
        "  # Lemmatize tokens\n",
        "  tokens = [lemmatizer.lemmatize(token, get_wordnet_pos(token)) for token in tokens]\n",
        "\n",
        "  return ' '.join(tokens)\n",
        "\n",
        "# Test the TextPreprocessor\n",
        "text_preprocessor(coco_dataset)"
      ],
      "metadata": {
        "id": "QcgNXxIERhHa"
      },
      "execution_count": 28,
      "outputs": []
    },
    {
      "cell_type": "code",
      "source": [
        "# define a class that get a dataset and return tokenized dataset\n",
        "class TokenizedCoco(Dataset):\n",
        "    def __init__(self, dataset, tokenizer, max_length=80):\n",
        "        self.dataset = dataset\n",
        "        self.tokenizer = tokenizer\n",
        "        self.max_length = max_length\n",
        "    def __getitem__(self, index):\n",
        "        image, text = self.dataset[index]\n",
        "        text = self.tokenizer.encode_plus(text, add_special_tokens=True, max_length=self.max_length, \n",
        "                                          padding='max_length', truncation=True, return_tensors='pt')\n",
        "        return image, text\n",
        "    def __len__(self):\n",
        "        return len(self.dataset)"
      ],
      "metadata": {
        "id": "81RtEIQSeZ60"
      },
      "execution_count": 29,
      "outputs": []
    },
    {
      "cell_type": "code",
      "source": [
        "coco_dataset_tokenized = TokenizedCoco(coco_dataset, tokenizer, max_length=25)\n",
        "coco_dataloader_tokenized = DataLoader(coco_dataset_tokenized, batch_size=32, shuffle=True)\n",
        "image_optimizer = optim.Adam(image_encoder.parameters(), lr=1e-5)"
      ],
      "metadata": {
        "id": "qeiNMRnSU1sj"
      },
      "execution_count": 30,
      "outputs": []
    },
    {
      "cell_type": "code",
      "source": [
        "train_losses = []\n",
        "dev_losses = []\n",
        "train_accs = []\n",
        "dev_accs = []\n",
        "num_epochs = 3\n",
        "for epoch in range(num_epochs):\n",
        "    # train\n",
        "    train_loss = 0\n",
        "    train_acc = 0\n",
        "    total_samples = 0\n",
        "    for images, texts in tqdm(coco_dataloader_tokenized):\n",
        "        images = images.to(device)\n",
        "        texts = texts.to(device)\n",
        "        labels = labels.to(device)\n",
        "        # get the pseudo labels from text encoder\n",
        "        labels = text_encoder(texts)\n",
        "        # get predictions from image encoder\n",
        "        predictions = image_encoder(images)\n",
        "        # calculate the loss\n",
        "        loss = F.cross_entropy(predictions, labels)\n",
        "        # calculate the accuracy\n",
        "        acc = (predictions.argmax(dim=1) == labels.argmax(dim=1)).float().sum()\n",
        "        # backpropagation\n",
        "        image_optimizer.zero_grad()\n",
        "        loss.backward()\n",
        "        image_optimizer.step()\n",
        "        # update the loss and accuracy\n",
        "        train_loss += loss.item()\n",
        "        train_acc += acc.item()\n",
        "        total_samples += labels.size(0)\n",
        "    # calculate the average loss and accuracy\n",
        "    train_loss /= len(train_dataloader_tokenized)\n",
        "    train_acc /= total_samples\n",
        "    # save the loss and accuracy\n",
        "    train_losses.append(train_loss)\n",
        "    train_accs.append(train_acc)\n",
        "    # print the loss and accuracy\n",
        "    print(f'Epoch {epoch+1}/{num_epochs}, Train Loss: {train_loss:.4f}, Train Acc: {train_acc:.4f}')"
      ],
      "metadata": {
        "colab": {
          "base_uri": "https://localhost:8080/"
        },
        "id": "WQ7hS5CqWgYr",
        "outputId": "4998ce4f-2fb5-4498-fe8d-cf256368fc02"
      },
      "execution_count": null,
      "outputs": [
        {
          "output_type": "stream",
          "name": "stderr",
          "text": [
            " 27%|██▋       | 379/1412 [05:23<13:04,  1.32it/s]"
          ]
        }
      ]
    }
  ],
  "metadata": {
    "accelerator": "GPU",
    "colab": {
      "provenance": [],
      "include_colab_link": true
    },
    "gpuClass": "standard",
    "kernelspec": {
      "display_name": "torch",
      "language": "python",
      "name": "python3"
    },
    "language_info": {
      "codemirror_mode": {
        "name": "ipython",
        "version": 3
      },
      "file_extension": ".py",
      "mimetype": "text/x-python",
      "name": "python",
      "nbconvert_exporter": "python",
      "pygments_lexer": "ipython3",
      "version": "3.8.16"
    },
    "orig_nbformat": 4,
    "vscode": {
      "interpreter": {
        "hash": "e2f775898ea1037b7c9eeca230f0f6a000b04cbdfbf9c82813024cd1951cbec6"
      }
    },
    "widgets": {
      "application/vnd.jupyter.widget-state+json": {
        "8741d5cc28ef4fb3b4968aa05d9c1b65": {
          "model_module": "@jupyter-widgets/controls",
          "model_name": "HBoxModel",
          "model_module_version": "1.5.0",
          "state": {
            "_dom_classes": [],
            "_model_module": "@jupyter-widgets/controls",
            "_model_module_version": "1.5.0",
            "_model_name": "HBoxModel",
            "_view_count": null,
            "_view_module": "@jupyter-widgets/controls",
            "_view_module_version": "1.5.0",
            "_view_name": "HBoxView",
            "box_style": "",
            "children": [
              "IPY_MODEL_b6321a1e370a49e0bfd863e28559b737",
              "IPY_MODEL_452c1d02549046ff94945f0f3d74d64f",
              "IPY_MODEL_15b0fb9a413a4abc838c0eb99ef5e2d0"
            ],
            "layout": "IPY_MODEL_f80d2533f04a4ecc83921b0d6f1d5f37"
          }
        },
        "b6321a1e370a49e0bfd863e28559b737": {
          "model_module": "@jupyter-widgets/controls",
          "model_name": "HTMLModel",
          "model_module_version": "1.5.0",
          "state": {
            "_dom_classes": [],
            "_model_module": "@jupyter-widgets/controls",
            "_model_module_version": "1.5.0",
            "_model_name": "HTMLModel",
            "_view_count": null,
            "_view_module": "@jupyter-widgets/controls",
            "_view_module_version": "1.5.0",
            "_view_name": "HTMLView",
            "description": "",
            "description_tooltip": null,
            "layout": "IPY_MODEL_a70f1e3bc12642cd93c28da7e5fbb9d5",
            "placeholder": "​",
            "style": "IPY_MODEL_e89599ab79d84e8c9204fccde2f2b123",
            "value": "100%"
          }
        },
        "452c1d02549046ff94945f0f3d74d64f": {
          "model_module": "@jupyter-widgets/controls",
          "model_name": "FloatProgressModel",
          "model_module_version": "1.5.0",
          "state": {
            "_dom_classes": [],
            "_model_module": "@jupyter-widgets/controls",
            "_model_module_version": "1.5.0",
            "_model_name": "FloatProgressModel",
            "_view_count": null,
            "_view_module": "@jupyter-widgets/controls",
            "_view_module_version": "1.5.0",
            "_view_name": "ProgressView",
            "bar_style": "success",
            "description": "",
            "description_tooltip": null,
            "layout": "IPY_MODEL_38a1ece6af714171830173ad962f5eeb",
            "max": 111898327,
            "min": 0,
            "orientation": "horizontal",
            "style": "IPY_MODEL_9c37d1e9c8b5491bb55cc61a98b00edd",
            "value": 111898327
          }
        },
        "15b0fb9a413a4abc838c0eb99ef5e2d0": {
          "model_module": "@jupyter-widgets/controls",
          "model_name": "HTMLModel",
          "model_module_version": "1.5.0",
          "state": {
            "_dom_classes": [],
            "_model_module": "@jupyter-widgets/controls",
            "_model_module_version": "1.5.0",
            "_model_name": "HTMLModel",
            "_view_count": null,
            "_view_module": "@jupyter-widgets/controls",
            "_view_module_version": "1.5.0",
            "_view_name": "HTMLView",
            "description": "",
            "description_tooltip": null,
            "layout": "IPY_MODEL_f9b305eece3c479c8da0cc57a849aec2",
            "placeholder": "​",
            "style": "IPY_MODEL_954b9f39f7eb4f75b825a2e0210156bb",
            "value": " 107M/107M [00:13&lt;00:00, 9.39MB/s]"
          }
        },
        "f80d2533f04a4ecc83921b0d6f1d5f37": {
          "model_module": "@jupyter-widgets/base",
          "model_name": "LayoutModel",
          "model_module_version": "1.2.0",
          "state": {
            "_model_module": "@jupyter-widgets/base",
            "_model_module_version": "1.2.0",
            "_model_name": "LayoutModel",
            "_view_count": null,
            "_view_module": "@jupyter-widgets/base",
            "_view_module_version": "1.2.0",
            "_view_name": "LayoutView",
            "align_content": null,
            "align_items": null,
            "align_self": null,
            "border": null,
            "bottom": null,
            "display": null,
            "flex": null,
            "flex_flow": null,
            "grid_area": null,
            "grid_auto_columns": null,
            "grid_auto_flow": null,
            "grid_auto_rows": null,
            "grid_column": null,
            "grid_gap": null,
            "grid_row": null,
            "grid_template_areas": null,
            "grid_template_columns": null,
            "grid_template_rows": null,
            "height": null,
            "justify_content": null,
            "justify_items": null,
            "left": null,
            "margin": null,
            "max_height": null,
            "max_width": null,
            "min_height": null,
            "min_width": null,
            "object_fit": null,
            "object_position": null,
            "order": null,
            "overflow": null,
            "overflow_x": null,
            "overflow_y": null,
            "padding": null,
            "right": null,
            "top": null,
            "visibility": null,
            "width": null
          }
        },
        "a70f1e3bc12642cd93c28da7e5fbb9d5": {
          "model_module": "@jupyter-widgets/base",
          "model_name": "LayoutModel",
          "model_module_version": "1.2.0",
          "state": {
            "_model_module": "@jupyter-widgets/base",
            "_model_module_version": "1.2.0",
            "_model_name": "LayoutModel",
            "_view_count": null,
            "_view_module": "@jupyter-widgets/base",
            "_view_module_version": "1.2.0",
            "_view_name": "LayoutView",
            "align_content": null,
            "align_items": null,
            "align_self": null,
            "border": null,
            "bottom": null,
            "display": null,
            "flex": null,
            "flex_flow": null,
            "grid_area": null,
            "grid_auto_columns": null,
            "grid_auto_flow": null,
            "grid_auto_rows": null,
            "grid_column": null,
            "grid_gap": null,
            "grid_row": null,
            "grid_template_areas": null,
            "grid_template_columns": null,
            "grid_template_rows": null,
            "height": null,
            "justify_content": null,
            "justify_items": null,
            "left": null,
            "margin": null,
            "max_height": null,
            "max_width": null,
            "min_height": null,
            "min_width": null,
            "object_fit": null,
            "object_position": null,
            "order": null,
            "overflow": null,
            "overflow_x": null,
            "overflow_y": null,
            "padding": null,
            "right": null,
            "top": null,
            "visibility": null,
            "width": null
          }
        },
        "e89599ab79d84e8c9204fccde2f2b123": {
          "model_module": "@jupyter-widgets/controls",
          "model_name": "DescriptionStyleModel",
          "model_module_version": "1.5.0",
          "state": {
            "_model_module": "@jupyter-widgets/controls",
            "_model_module_version": "1.5.0",
            "_model_name": "DescriptionStyleModel",
            "_view_count": null,
            "_view_module": "@jupyter-widgets/base",
            "_view_module_version": "1.2.0",
            "_view_name": "StyleView",
            "description_width": ""
          }
        },
        "38a1ece6af714171830173ad962f5eeb": {
          "model_module": "@jupyter-widgets/base",
          "model_name": "LayoutModel",
          "model_module_version": "1.2.0",
          "state": {
            "_model_module": "@jupyter-widgets/base",
            "_model_module_version": "1.2.0",
            "_model_name": "LayoutModel",
            "_view_count": null,
            "_view_module": "@jupyter-widgets/base",
            "_view_module_version": "1.2.0",
            "_view_name": "LayoutView",
            "align_content": null,
            "align_items": null,
            "align_self": null,
            "border": null,
            "bottom": null,
            "display": null,
            "flex": null,
            "flex_flow": null,
            "grid_area": null,
            "grid_auto_columns": null,
            "grid_auto_flow": null,
            "grid_auto_rows": null,
            "grid_column": null,
            "grid_gap": null,
            "grid_row": null,
            "grid_template_areas": null,
            "grid_template_columns": null,
            "grid_template_rows": null,
            "height": null,
            "justify_content": null,
            "justify_items": null,
            "left": null,
            "margin": null,
            "max_height": null,
            "max_width": null,
            "min_height": null,
            "min_width": null,
            "object_fit": null,
            "object_position": null,
            "order": null,
            "overflow": null,
            "overflow_x": null,
            "overflow_y": null,
            "padding": null,
            "right": null,
            "top": null,
            "visibility": null,
            "width": null
          }
        },
        "9c37d1e9c8b5491bb55cc61a98b00edd": {
          "model_module": "@jupyter-widgets/controls",
          "model_name": "ProgressStyleModel",
          "model_module_version": "1.5.0",
          "state": {
            "_model_module": "@jupyter-widgets/controls",
            "_model_module_version": "1.5.0",
            "_model_name": "ProgressStyleModel",
            "_view_count": null,
            "_view_module": "@jupyter-widgets/base",
            "_view_module_version": "1.2.0",
            "_view_name": "StyleView",
            "bar_color": null,
            "description_width": ""
          }
        },
        "f9b305eece3c479c8da0cc57a849aec2": {
          "model_module": "@jupyter-widgets/base",
          "model_name": "LayoutModel",
          "model_module_version": "1.2.0",
          "state": {
            "_model_module": "@jupyter-widgets/base",
            "_model_module_version": "1.2.0",
            "_model_name": "LayoutModel",
            "_view_count": null,
            "_view_module": "@jupyter-widgets/base",
            "_view_module_version": "1.2.0",
            "_view_name": "LayoutView",
            "align_content": null,
            "align_items": null,
            "align_self": null,
            "border": null,
            "bottom": null,
            "display": null,
            "flex": null,
            "flex_flow": null,
            "grid_area": null,
            "grid_auto_columns": null,
            "grid_auto_flow": null,
            "grid_auto_rows": null,
            "grid_column": null,
            "grid_gap": null,
            "grid_row": null,
            "grid_template_areas": null,
            "grid_template_columns": null,
            "grid_template_rows": null,
            "height": null,
            "justify_content": null,
            "justify_items": null,
            "left": null,
            "margin": null,
            "max_height": null,
            "max_width": null,
            "min_height": null,
            "min_width": null,
            "object_fit": null,
            "object_position": null,
            "order": null,
            "overflow": null,
            "overflow_x": null,
            "overflow_y": null,
            "padding": null,
            "right": null,
            "top": null,
            "visibility": null,
            "width": null
          }
        },
        "954b9f39f7eb4f75b825a2e0210156bb": {
          "model_module": "@jupyter-widgets/controls",
          "model_name": "DescriptionStyleModel",
          "model_module_version": "1.5.0",
          "state": {
            "_model_module": "@jupyter-widgets/controls",
            "_model_module_version": "1.5.0",
            "_model_name": "DescriptionStyleModel",
            "_view_count": null,
            "_view_module": "@jupyter-widgets/base",
            "_view_module_version": "1.2.0",
            "_view_name": "StyleView",
            "description_width": ""
          }
        }
      }
    }
  },
  "nbformat": 4,
  "nbformat_minor": 0
}