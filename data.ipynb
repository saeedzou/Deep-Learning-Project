{
 "cells": [
  {
   "cell_type": "code",
   "execution_count": 1,
   "metadata": {},
   "outputs": [],
   "source": [
    "import torchvision\n",
    "import torch\n",
    "from torch.utils.data import Dataset, DataLoader\n",
    "import os\n",
    "import numpy as np\n",
    "import matplotlib.pyplot as plt\n",
    "from PIL import Image\n",
    "import seaborn as sns"
   ]
  },
  {
   "cell_type": "code",
   "execution_count": 4,
   "metadata": {},
   "outputs": [],
   "source": [
    "class MSCTD(Dataset):\n",
    "    def __init__(self, root, split, image_transform=None, text_transform=None, sentiment_transform=None):\n",
    "        self.root = root\n",
    "        self.split = split\n",
    "        self.image_path = os.path.join(root, split)\n",
    "        self.sentiment_path = os.path.join(root, split, 'sentiment_'+ split + '.txt')\n",
    "        self.text_path = os.path.join(root, split, 'english_' + split + '.txt')\n",
    "        self.image_index_path = os.path.join(root, split, 'image_index_' + split + '.txt')\n",
    "        self.sentiment = []\n",
    "        self.text = []\n",
    "        self.image_index = []\n",
    "        self.image = []\n",
    "        self.image_transform = image_transform\n",
    "        self.text_transform = text_transform\n",
    "        self.sentiment_transform = sentiment_transform\n",
    "        self.load_data()\n",
    "        \n",
    "    def load_data(self):\n",
    "        with open(self.sentiment_path, 'r') as f:\n",
    "            for line in f:\n",
    "                self.sentiment.append(line.strip())\n",
    "        with open(self.text_path, 'r') as f:\n",
    "            for line in f:\n",
    "                self.text.append(line.strip())\n",
    "        with open(self.image_index_path, 'r') as f:\n",
    "            for line in f:\n",
    "                self.image_index.append(line.strip()[1:-1].split(', '))\n",
    "        for root, _, files in os.walk(self.image_path):\n",
    "            for file in files:\n",
    "                if file.endswith('.jpg'):\n",
    "                    self.image.append(Image.open(os.path.join(root, file)))\n",
    "                    \n",
    "\n",
    "\n",
    "    def __getitem__(self, index):\n",
    "        image = self.image[index]\n",
    "        sentiment = self.sentiment[index]\n",
    "        text = self.text[index]\n",
    "        image_index = self.image_index[index]\n",
    "        if self.image_transform:\n",
    "            image = self.image_transform(image)\n",
    "        if self.text_transform:\n",
    "            text = self.text_transform(text)\n",
    "        if self.sentiment_transform:\n",
    "            sentiment = self.sentiment_transform(sentiment)\n",
    "        return image, sentiment, text, image_index\n",
    "\n",
    "    def __len__(self):\n",
    "        return len(self.image)\n",
    "    "
   ]
  },
  {
   "cell_type": "code",
   "execution_count": 5,
   "metadata": {},
   "outputs": [
    {
     "data": {
      "text/plain": [
       "'c:\\\\Users\\\\saeedzou\\\\Documents\\\\PycharmProjects\\\\Deep-Learning-Project'"
      ]
     },
     "execution_count": 5,
     "metadata": {},
     "output_type": "execute_result"
    }
   ],
   "source": [
    "%pwd"
   ]
  },
  {
   "cell_type": "code",
   "execution_count": 6,
   "metadata": {},
   "outputs": [],
   "source": [
    "MSCTD_test = MSCTD(root='data', split='test')"
   ]
  },
  {
   "cell_type": "code",
   "execution_count": 7,
   "metadata": {},
   "outputs": [
    {
     "data": {
      "text/plain": [
       "(<PIL.JpegImagePlugin.JpegImageFile image mode=RGB size=1280x550>,\n",
       " '1',\n",
       " 'With this asshole?',\n",
       " ['0', '1', '2', '3', '4', '5'])"
      ]
     },
     "execution_count": 7,
     "metadata": {},
     "output_type": "execute_result"
    }
   ],
   "source": [
    "MSCTD_test[0]"
   ]
  },
  {
   "cell_type": "code",
   "execution_count": 8,
   "metadata": {},
   "outputs": [
    {
     "data": {
      "text/plain": [
       "(<PIL.JpegImagePlugin.JpegImageFile image mode=RGB size=1280x553>,\n",
       " '1',\n",
       " 'Two guys walk in, one walks out.',\n",
       " ['6',\n",
       "  '7',\n",
       "  '8',\n",
       "  '9',\n",
       "  '10',\n",
       "  '11',\n",
       "  '12',\n",
       "  '13',\n",
       "  '14',\n",
       "  '15',\n",
       "  '16',\n",
       "  '17',\n",
       "  '18',\n",
       "  '19',\n",
       "  '20',\n",
       "  '21',\n",
       "  '22',\n",
       "  '23',\n",
       "  '24',\n",
       "  '25'])"
      ]
     },
     "execution_count": 8,
     "metadata": {},
     "output_type": "execute_result"
    }
   ],
   "source": [
    "MSCTD_test[1]"
   ]
  },
  {
   "cell_type": "code",
   "execution_count": null,
   "metadata": {},
   "outputs": [],
   "source": []
  }
 ],
 "metadata": {
  "kernelspec": {
   "display_name": "Python 3",
   "language": "python",
   "name": "python3"
  },
  "language_info": {
   "codemirror_mode": {
    "name": "ipython",
    "version": 3
   },
   "file_extension": ".py",
   "mimetype": "text/x-python",
   "name": "python",
   "nbconvert_exporter": "python",
   "pygments_lexer": "ipython3",
   "version": "3.9.0"
  },
  "orig_nbformat": 4,
  "vscode": {
   "interpreter": {
    "hash": "4fbe9694f7587329a2893969593bb646d9caf203732995a36644052b7dd475e8"
   }
  }
 },
 "nbformat": 4,
 "nbformat_minor": 2
}
